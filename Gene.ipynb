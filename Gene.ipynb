{
 "cells": [
  {
   "cell_type": "code",
   "execution_count": 19,
   "metadata": {
    "collapsed": true,
    "scrolled": false
   },
   "outputs": [],
   "source": [
    "import numpy as np\n",
    "import matplotlib.pyplot as plt\n",
    "%matplotlib inline\n",
    "\n",
    "import pandas as pd\n",
    "\n",
    "from sklearn import feature_selection, feature_extraction, manifold, decomposition, cluster\n",
    "from sklearn import linear_model, svm, neural_network, model_selection, preprocessing, tree, ensemble\n",
    "from sklearn import gaussian_process, pipeline, metrics, dummy, ensemble, naive_bayes, neighbors\n",
    "\n",
    "from scipy.cluster import hierarchy\n",
    "from scipy.spatial import distance\n",
    "\n",
    "import eli5\n",
    "import xgboost\n",
    "import skopt\n",
    "import seaborn as sns\n",
    "\n",
    "from skrebate import ReliefF\n",
    "from skopt.space import Integer, Real, Categorical\n",
    "\n",
    "from xgboost import XGBClassifier"
   ]
  },
  {
   "cell_type": "code",
   "execution_count": 3,
   "metadata": {
    "collapsed": true,
    "scrolled": false
   },
   "outputs": [],
   "source": [
    "train = pd.read_csv(\"data/data_set_ALL_AML_train.csv\", delimiter=\",\")\n",
    "test = pd.read_csv(\"data/data_set_ALL_AML_independent.csv\", delimiter=\",\")\n",
    "actual = pd.read_csv(\"data/actual.csv\")"
   ]
  },
  {
   "cell_type": "code",
   "execution_count": 14,
   "metadata": {
    "collapsed": true
   },
   "outputs": [],
   "source": [
    "X_train = (train.drop([\"Gene Description\", \"Gene Accession Number\"], axis=1)\n",
    "                .drop([col for col in train.columns if \"call\" in col], axis=1)).values.T.astype(np.float32)\n",
    "\n",
    "X_test = (test.drop([\"Gene Description\", \"Gene Accession Number\"], axis=1)\n",
    "               .drop([col for col in test.columns if \"call\" in col], axis=1)).values.T.astype(np.float32)\n",
    "\n",
    "X = np.vstack([X_train, X_test])\n",
    "\n",
    "labels = actual.cancer.values\n",
    "y = preprocessing.LabelEncoder().fit_transform(labels)\n",
    "\n",
    "descriptions = np.array(list(map(lambda x: x[:13], train[\"Gene Description\"])))\n",
    "\n",
    "X_train, X_test, y_train, y_test = model_selection.train_test_split(X, y, shuffle=True)\n",
    "\n",
    "def threshold(x):\n",
    "    xx = x.copy()\n",
    "    c = 5\n",
    "    xx[xx > c] = c\n",
    "    xx[xx < -c] = -c\n",
    "    \n",
    "    return xx\n",
    "\n",
    "pipe = pipeline.make_pipeline(\n",
    "    preprocessing.RobustScaler(quantile_range=[1,99]),\n",
    "    preprocessing.StandardScaler(),\n",
    "    preprocessing.FunctionTransformer(threshold)\n",
    ")\n",
    "\n",
    "X = pipe.fit_transform(X)\n",
    "\n",
    "X_train = pipe.fit_transform(X_train)\n",
    "X_test = pipe.transform(X_test)\n",
    "\n",
    "# test_idx = np.argsort(y_test)\n",
    "# X_test = X_test[test_idx, :]\n",
    "# y_test = y_test[test_idx]\n",
    "\n"
   ]
  },
  {
   "cell_type": "code",
   "execution_count": 5,
   "metadata": {},
   "outputs": [
    {
     "data": {
      "image/png": "[encoded data removed]",
      "text/plain": [
       "<matplotlib.figure.Figure at 0x1bd20992cf8>"
      ]
     },
     "metadata": {},
     "output_type": "display_data"
    }
   ],
   "source": [
    "plt.hist(X_test.reshape(-1), bins=500);"
   ]
  },
  {
   "cell_type": "code",
   "execution_count": 6,
   "metadata": {
    "collapsed": true
   },
   "outputs": [],
   "source": [
    "def plot(idx, train=True, xticks=False, showmask=False, use_cmap=\"magma\"):\n",
    "    if train:\n",
    "        features = X\n",
    "        labels = y\n",
    "    else:\n",
    "        features = X_test\n",
    "        labels = y_test\n",
    "    \n",
    "    plt.figure(figsize=(12,5))\n",
    "    \n",
    "    if xticks:\n",
    "        plt.xticks(range(len(idx)), descriptions[idx], rotation=\"vertical\")\n",
    "        \n",
    "    plt.yticks(range(len(features)), labels)\n",
    "    plt.imshow(features[:,idx], cmap=use_cmap)"
   ]
  },
  {
   "cell_type": "code",
   "execution_count": null,
   "metadata": {
    "collapsed": true
   },
   "outputs": [],
   "source": []
  },
  {
   "cell_type": "markdown",
   "metadata": {},
   "source": [
    "# FUJ"
   ]
  },
  {
   "cell_type": "code",
   "execution_count": 7,
   "metadata": {
    "collapsed": true
   },
   "outputs": [],
   "source": [
    "pca = decomposition.PCA(n_components=5)\n",
    "X_embed = pca.fit_transform(X)\n",
    "X_test_embed = pca.transform(X_test)"
   ]
  },
  {
   "cell_type": "code",
   "execution_count": null,
   "metadata": {
    "collapsed": true
   },
   "outputs": [],
   "source": [
    "svm.SVC(kernel=\"linear\").fit(X_embed, y).score(X_test_embed, y_test)"
   ]
  },
  {
   "cell_type": "code",
   "execution_count": null,
   "metadata": {
    "collapsed": true
   },
   "outputs": [],
   "source": [
    "gaussian_process.GaussianProcessClassifier().fit(X_embed, y).score(X_test_embed, y_test)"
   ]
  },
  {
   "cell_type": "code",
   "execution_count": null,
   "metadata": {
    "collapsed": true
   },
   "outputs": [],
   "source": [
    "metrics.confusion_matrix(y_test, svm.SVC(kernel=\"linear\").fit(X_embed, y).predict(X_test_embed))"
   ]
  },
  {
   "cell_type": "code",
   "execution_count": null,
   "metadata": {
    "collapsed": true
   },
   "outputs": [],
   "source": [
    "pca.explained_variance_ratio_.cumsum()"
   ]
  },
  {
   "cell_type": "code",
   "execution_count": null,
   "metadata": {
    "collapsed": true
   },
   "outputs": [],
   "source": [
    "plt.plot(pca.explained_variance_ratio_.cumsum())"
   ]
  },
  {
   "cell_type": "code",
   "execution_count": null,
   "metadata": {
    "collapsed": true,
    "scrolled": false
   },
   "outputs": [],
   "source": [
    "num = 100\n",
    "\n",
    "kbest = feature_selection.SelectKBest(score_func=feature_selection.mutual_info_classif, k=num)\n",
    "X_sel = kbest.fit_transform(X, y)\n",
    "X_test_sel = kbest.transform(X_test)\n",
    "X_sel.shape\n",
    "\n",
    "plot(kbest.get_support(True))\n",
    "plot(kbest.get_support(True), train=False)"
   ]
  },
  {
   "cell_type": "code",
   "execution_count": null,
   "metadata": {},
   "outputs": [],
   "source": [
    "svm.SVC().fit(X_sel, y).score(X_test_sel, y_test)"
   ]
  },
  {
   "cell_type": "markdown",
   "metadata": {},
   "source": [
    "# Feature selection using RFE"
   ]
  },
  {
   "cell_type": "code",
   "execution_count": 15,
   "metadata": {
    "collapsed": true
   },
   "outputs": [
    {
     "name": "stdout",
     "output_type": "stream",
     "text": [
      "Fitting estimator with 7129 features.\n",
      "Fitting estimator with 7125 features.\n",
      "Fitting estimator with 7121 features.\n",
      "Fitting estimator with 7117 features.\n",
      "Fitting estimator with 7113 features.\n",
      "Fitting estimator with 7109 features.\n",
      "Fitting estimator with 7105 features.\n",
      "Fitting estimator with 7101 features.\n",
      "Fitting estimator with 7097 features.\n",
      "Fitting estimator with 7093 features.\n",
      "Fitting estimator with 7089 features.\n",
      "Fitting estimator with 7085 features.\n",
      "Fitting estimator with 7081 features.\n",
      "Fitting estimator with 7077 features.\n",
      "Fitting estimator with 7073 features.\n",
      "Fitting estimator with 7069 features.\n",
      "Fitting estimator with 7065 features.\n",
      "Fitting estimator with 7061 features.\n",
      "Fitting estimator with 7057 features.\n",
      "Fitting estimator with 7053 features.\n",
      "Fitting estimator with 7049 features.\n",
      "Fitting estimator with 7045 features.\n",
      "Fitting estimator with 7041 features.\n",
      "Fitting estimator with 7037 features.\n",
      "Fitting estimator with 7033 features.\n",
      "Fitting estimator with 7029 features.\n",
      "Fitting estimator with 7025 features.\n",
      "Fitting estimator with 7021 features.\n",
      "Fitting estimator with 7017 features.\n",
      "Fitting estimator with 7013 features.\n",
      "Fitting estimator with 7009 features.\n",
      "Fitting estimator with 7005 features.\n",
      "Fitting estimator with 7001 features.\n",
      "Fitting estimator with 6997 features.\n",
      "Fitting estimator with 6993 features.\n",
      "Fitting estimator with 6989 features.\n",
      "Fitting estimator with 6985 features.\n",
      "Fitting estimator with 6981 features.\n",
      "Fitting estimator with 6977 features.\n",
      "Fitting estimator with 6973 features.\n",
      "Fitting estimator with 6969 features.\n",
      "Fitting estimator with 6965 features.\n",
      "Fitting estimator with 6961 features.\n",
      "Fitting estimator with 6957 features.\n",
      "Fitting estimator with 6953 features.\n",
      "Fitting estimator with 6949 features.\n",
      "Fitting estimator with 6945 features.\n",
      "Fitting estimator with 6941 features.\n",
      "Fitting estimator with 6937 features.\n",
      "Fitting estimator with 6933 features.\n",
      "Fitting estimator with 6929 features.\n",
      "Fitting estimator with 6925 features.\n",
      "Fitting estimator with 6921 features.\n",
      "Fitting estimator with 6917 features.\n",
      "Fitting estimator with 6913 features.\n",
      "Fitting estimator with 6909 features.\n",
      "Fitting estimator with 6905 features.\n",
      "Fitting estimator with 6901 features.\n",
      "Fitting estimator with 6897 features.\n",
      "Fitting estimator with 6893 features.\n",
      "Fitting estimator with 6889 features.\n",
      "Fitting estimator with 6885 features.\n",
      "Fitting estimator with 6881 features.\n",
      "Fitting estimator with 6877 features.\n",
      "Fitting estimator with 6873 features.\n",
      "Fitting estimator with 6869 features.\n",
      "Fitting estimator with 6865 features.\n",
      "Fitting estimator with 6861 features.\n",
      "Fitting estimator with 6857 features.\n",
      "Fitting estimator with 6853 features.\n",
      "Fitting estimator with 6849 features.\n",
      "Fitting estimator with 6845 features.\n",
      "Fitting estimator with 6841 features.\n",
      "Fitting estimator with 6837 features.\n",
      "Fitting estimator with 6833 features.\n",
      "Fitting estimator with 6829 features.\n",
      "Fitting estimator with 6825 features.\n",
      "Fitting estimator with 6821 features.\n",
      "Fitting estimator with 6817 features.\n",
      "Fitting estimator with 6813 features.\n",
      "Fitting estimator with 6809 features.\n",
      "Fitting estimator with 6805 features.\n",
      "Fitting estimator with 6801 features.\n",
      "Fitting estimator with 6797 features.\n",
      "Fitting estimator with 6793 features.\n",
      "Fitting estimator with 6789 features.\n",
      "Fitting estimator with 6785 features.\n",
      "Fitting estimator with 6781 features.\n",
      "Fitting estimator with 6777 features.\n",
      "Fitting estimator with 6773 features.\n",
      "Fitting estimator with 6769 features.\n",
      "Fitting estimator with 6765 features.\n",
      "Fitting estimator with 6761 features.\n",
      "Fitting estimator with 6757 features.\n",
      "Fitting estimator with 6753 features.\n",
      "Fitting estimator with 6749 features.\n",
      "Fitting estimator with 6745 features.\n",
      "Fitting estimator with 6741 features.\n",
      "Fitting estimator with 6737 features.\n",
      "Fitting estimator with 6733 features.\n",
      "Fitting estimator with 6729 features.\n",
      "Fitting estimator with 6725 features.\n",
      "Fitting estimator with 6721 features.\n",
      "Fitting estimator with 6717 features.\n",
      "Fitting estimator with 6713 features.\n",
      "Fitting estimator with 6709 features.\n",
      "Fitting estimator with 6705 features.\n",
      "Fitting estimator with 6701 features.\n",
      "Fitting estimator with 6697 features.\n",
      "Fitting estimator with 6693 features.\n",
      "Fitting estimator with 6689 features.\n",
      "Fitting estimator with 6685 features.\n",
      "Fitting estimator with 6681 features.\n",
      "Fitting estimator with 6677 features.\n",
      "Fitting estimator with 6673 features.\n",
      "Fitting estimator with 6669 features.\n",
      "Fitting estimator with 6665 features.\n",
      "Fitting estimator with 6661 features.\n",
      "Fitting estimator with 6657 features.\n",
      "Fitting estimator with 6653 features.\n",
      "Fitting estimator with 6649 features.\n",
      "Fitting estimator with 6645 features.\n",
      "Fitting estimator with 6641 features.\n",
      "Fitting estimator with 6637 features.\n",
      "Fitting estimator with 6633 features.\n",
      "Fitting estimator with 6629 features.\n",
      "Fitting estimator with 6625 features.\n",
      "Fitting estimator with 6621 features.\n",
      "Fitting estimator with 6617 features.\n",
      "Fitting estimator with 6613 features.\n",
      "Fitting estimator with 6609 features.\n",
      "Fitting estimator with 6605 features.\n",
      "Fitting estimator with 6601 features.\n",
      "Fitting estimator with 6597 features.\n",
      "Fitting estimator with 6593 features.\n",
      "Fitting estimator with 6589 features.\n",
      "Fitting estimator with 6585 features.\n",
      "Fitting estimator with 6581 features.\n",
      "Fitting estimator with 6577 features.\n",
      "Fitting estimator with 6573 features.\n",
      "Fitting estimator with 6569 features.\n",
      "Fitting estimator with 6565 features.\n",
      "Fitting estimator with 6561 features.\n",
      "Fitting estimator with 6557 features.\n",
      "Fitting estimator with 6553 features.\n",
      "Fitting estimator with 6549 features.\n",
      "Fitting estimator with 6545 features.\n",
      "Fitting estimator with 6541 features.\n",
      "Fitting estimator with 6537 features.\n",
      "Fitting estimator with 6533 features.\n",
      "Fitting estimator with 6529 features.\n",
      "Fitting estimator with 6525 features.\n",
      "Fitting estimator with 6521 features.\n",
      "Fitting estimator with 6517 features.\n",
      "Fitting estimator with 6513 features.\n",
      "Fitting estimator with 6509 features.\n",
      "Fitting estimator with 6505 features.\n",
      "Fitting estimator with 6501 features.\n",
      "Fitting estimator with 6497 features.\n",
      "Fitting estimator with 6493 features.\n",
      "Fitting estimator with 6489 features.\n",
      "Fitting estimator with 6485 features.\n",
      "Fitting estimator with 6481 features.\n",
      "Fitting estimator with 6477 features.\n",
      "Fitting estimator with 6473 features.\n",
      "Fitting estimator with 6469 features.\n",
      "Fitting estimator with 6465 features.\n",
      "Fitting estimator with 6461 features.\n",
      "Fitting estimator with 6457 features.\n",
      "Fitting estimator with 6453 features.\n",
      "Fitting estimator with 6449 features.\n",
      "Fitting estimator with 6445 features.\n",
      "Fitting estimator with 6441 features.\n",
      "Fitting estimator with 6437 features.\n",
      "Fitting estimator with 6433 features.\n",
      "Fitting estimator with 6429 features.\n",
      "Fitting estimator with 6425 features.\n",
      "Fitting estimator with 6421 features.\n",
      "Fitting estimator with 6417 features.\n",
      "Fitting estimator with 6413 features.\n",
      "Fitting estimator with 6409 features.\n",
      "Fitting estimator with 6405 features.\n",
      "Fitting estimator with 6401 features.\n",
      "Fitting estimator with 6397 features.\n",
      "Fitting estimator with 6393 features.\n",
      "Fitting estimator with 6389 features.\n",
      "Fitting estimator with 6385 features.\n",
      "Fitting estimator with 6381 features.\n",
      "Fitting estimator with 6377 features.\n",
      "Fitting estimator with 6373 features.\n",
      "Fitting estimator with 6369 features.\n",
      "Fitting estimator with 6365 features.\n",
      "Fitting estimator with 6361 features.\n",
      "Fitting estimator with 6357 features.\n",
      "Fitting estimator with 6353 features.\n",
      "Fitting estimator with 6349 features.\n",
      "Fitting estimator with 6345 features.\n",
      "Fitting estimator with 6341 features.\n",
      "Fitting estimator with 6337 features.\n",
      "Fitting estimator with 6333 features.\n",
      "Fitting estimator with 6329 features.\n",
      "Fitting estimator with 6325 features.\n",
      "Fitting estimator with 6321 features.\n",
      "Fitting estimator with 6317 features.\n",
      "Fitting estimator with 6313 features.\n",
      "Fitting estimator with 6309 features.\n",
      "Fitting estimator with 6305 features.\n",
      "Fitting estimator with 6301 features.\n",
      "Fitting estimator with 6297 features.\n",
      "Fitting estimator with 6293 features.\n",
      "Fitting estimator with 6289 features.\n",
      "Fitting estimator with 6285 features.\n",
      "Fitting estimator with 6281 features.\n",
      "Fitting estimator with 6277 features.\n",
      "Fitting estimator with 6273 features.\n",
      "Fitting estimator with 6269 features.\n",
      "Fitting estimator with 6265 features.\n",
      "Fitting estimator with 6261 features.\n",
      "Fitting estimator with 6257 features.\n",
      "Fitting estimator with 6253 features.\n",
      "Fitting estimator with 6249 features.\n",
      "Fitting estimator with 6245 features.\n",
      "Fitting estimator with 6241 features.\n"
     ]
    },
    {
     "name": "stdout",
     "output_type": "stream",
     "text": [
      "Fitting estimator with 6237 features.\n",
      "Fitting estimator with 6233 features.\n",
      "Fitting estimator with 6229 features.\n",
      "Fitting estimator with 6225 features.\n",
      "Fitting estimator with 6221 features.\n",
      "Fitting estimator with 6217 features.\n",
      "Fitting estimator with 6213 features.\n",
      "Fitting estimator with 6209 features.\n",
      "Fitting estimator with 6205 features.\n",
      "Fitting estimator with 6201 features.\n",
      "Fitting estimator with 6197 features.\n",
      "Fitting estimator with 6193 features.\n",
      "Fitting estimator with 6189 features.\n",
      "Fitting estimator with 6185 features.\n",
      "Fitting estimator with 6181 features.\n",
      "Fitting estimator with 6177 features.\n",
      "Fitting estimator with 6173 features.\n",
      "Fitting estimator with 6169 features.\n",
      "Fitting estimator with 6165 features.\n",
      "Fitting estimator with 6161 features.\n",
      "Fitting estimator with 6157 features.\n",
      "Fitting estimator with 6153 features.\n",
      "Fitting estimator with 6149 features.\n",
      "Fitting estimator with 6145 features.\n",
      "Fitting estimator with 6141 features.\n",
      "Fitting estimator with 6137 features.\n",
      "Fitting estimator with 6133 features.\n",
      "Fitting estimator with 6129 features.\n",
      "Fitting estimator with 6125 features.\n",
      "Fitting estimator with 6121 features.\n",
      "Fitting estimator with 6117 features.\n",
      "Fitting estimator with 6113 features.\n",
      "Fitting estimator with 6109 features.\n",
      "Fitting estimator with 6105 features.\n",
      "Fitting estimator with 6101 features.\n",
      "Fitting estimator with 6097 features.\n",
      "Fitting estimator with 6093 features.\n",
      "Fitting estimator with 6089 features.\n",
      "Fitting estimator with 6085 features.\n",
      "Fitting estimator with 6081 features.\n",
      "Fitting estimator with 6077 features.\n",
      "Fitting estimator with 6073 features.\n",
      "Fitting estimator with 6069 features.\n",
      "Fitting estimator with 6065 features.\n",
      "Fitting estimator with 6061 features.\n",
      "Fitting estimator with 6057 features.\n",
      "Fitting estimator with 6053 features.\n",
      "Fitting estimator with 6049 features.\n",
      "Fitting estimator with 6045 features.\n",
      "Fitting estimator with 6041 features.\n",
      "Fitting estimator with 6037 features.\n",
      "Fitting estimator with 6033 features.\n",
      "Fitting estimator with 6029 features.\n",
      "Fitting estimator with 6025 features.\n",
      "Fitting estimator with 6021 features.\n",
      "Fitting estimator with 6017 features.\n",
      "Fitting estimator with 6013 features.\n",
      "Fitting estimator with 6009 features.\n",
      "Fitting estimator with 6005 features.\n",
      "Fitting estimator with 6001 features.\n",
      "Fitting estimator with 5997 features.\n",
      "Fitting estimator with 5993 features.\n",
      "Fitting estimator with 5989 features.\n",
      "Fitting estimator with 5985 features.\n",
      "Fitting estimator with 5981 features.\n",
      "Fitting estimator with 5977 features.\n",
      "Fitting estimator with 5973 features.\n",
      "Fitting estimator with 5969 features.\n",
      "Fitting estimator with 5965 features.\n",
      "Fitting estimator with 5961 features.\n",
      "Fitting estimator with 5957 features.\n",
      "Fitting estimator with 5953 features.\n",
      "Fitting estimator with 5949 features.\n",
      "Fitting estimator with 5945 features.\n",
      "Fitting estimator with 5941 features.\n",
      "Fitting estimator with 5937 features.\n",
      "Fitting estimator with 5933 features.\n",
      "Fitting estimator with 5929 features.\n",
      "Fitting estimator with 5925 features.\n",
      "Fitting estimator with 5921 features.\n",
      "Fitting estimator with 5917 features.\n",
      "Fitting estimator with 5913 features.\n",
      "Fitting estimator with 5909 features.\n",
      "Fitting estimator with 5905 features.\n",
      "Fitting estimator with 5901 features.\n",
      "Fitting estimator with 5897 features.\n",
      "Fitting estimator with 5893 features.\n",
      "Fitting estimator with 5889 features.\n",
      "Fitting estimator with 5885 features.\n",
      "Fitting estimator with 5881 features.\n",
      "Fitting estimator with 5877 features.\n",
      "Fitting estimator with 5873 features.\n",
      "Fitting estimator with 5869 features.\n",
      "Fitting estimator with 5865 features.\n",
      "Fitting estimator with 5861 features.\n",
      "Fitting estimator with 5857 features.\n",
      "Fitting estimator with 5853 features.\n",
      "Fitting estimator with 5849 features.\n",
      "Fitting estimator with 5845 features.\n",
      "Fitting estimator with 5841 features.\n",
      "Fitting estimator with 5837 features.\n",
      "Fitting estimator with 5833 features.\n",
      "Fitting estimator with 5829 features.\n",
      "Fitting estimator with 5825 features.\n",
      "Fitting estimator with 5821 features.\n",
      "Fitting estimator with 5817 features.\n",
      "Fitting estimator with 5813 features.\n",
      "Fitting estimator with 5809 features.\n",
      "Fitting estimator with 5805 features.\n",
      "Fitting estimator with 5801 features.\n",
      "Fitting estimator with 5797 features.\n",
      "Fitting estimator with 5793 features.\n",
      "Fitting estimator with 5789 features.\n",
      "Fitting estimator with 5785 features.\n",
      "Fitting estimator with 5781 features.\n",
      "Fitting estimator with 5777 features.\n",
      "Fitting estimator with 5773 features.\n",
      "Fitting estimator with 5769 features.\n",
      "Fitting estimator with 5765 features.\n",
      "Fitting estimator with 5761 features.\n",
      "Fitting estimator with 5757 features.\n",
      "Fitting estimator with 5753 features.\n",
      "Fitting estimator with 5749 features.\n",
      "Fitting estimator with 5745 features.\n",
      "Fitting estimator with 5741 features.\n",
      "Fitting estimator with 5737 features.\n",
      "Fitting estimator with 5733 features.\n",
      "Fitting estimator with 5729 features.\n",
      "Fitting estimator with 5725 features.\n",
      "Fitting estimator with 5721 features.\n",
      "Fitting estimator with 5717 features.\n",
      "Fitting estimator with 5713 features.\n",
      "Fitting estimator with 5709 features.\n",
      "Fitting estimator with 5705 features.\n",
      "Fitting estimator with 5701 features.\n",
      "Fitting estimator with 5697 features.\n",
      "Fitting estimator with 5693 features.\n",
      "Fitting estimator with 5689 features.\n",
      "Fitting estimator with 5685 features.\n",
      "Fitting estimator with 5681 features.\n",
      "Fitting estimator with 5677 features.\n",
      "Fitting estimator with 5673 features.\n",
      "Fitting estimator with 5669 features.\n",
      "Fitting estimator with 5665 features.\n",
      "Fitting estimator with 5661 features.\n",
      "Fitting estimator with 5657 features.\n",
      "Fitting estimator with 5653 features.\n",
      "Fitting estimator with 5649 features.\n",
      "Fitting estimator with 5645 features.\n",
      "Fitting estimator with 5641 features.\n",
      "Fitting estimator with 5637 features.\n",
      "Fitting estimator with 5633 features.\n",
      "Fitting estimator with 5629 features.\n",
      "Fitting estimator with 5625 features.\n",
      "Fitting estimator with 5621 features.\n",
      "Fitting estimator with 5617 features.\n",
      "Fitting estimator with 5613 features.\n",
      "Fitting estimator with 5609 features.\n",
      "Fitting estimator with 5605 features.\n",
      "Fitting estimator with 5601 features.\n",
      "Fitting estimator with 5597 features.\n",
      "Fitting estimator with 5593 features.\n",
      "Fitting estimator with 5589 features.\n",
      "Fitting estimator with 5585 features.\n",
      "Fitting estimator with 5581 features.\n",
      "Fitting estimator with 5577 features.\n",
      "Fitting estimator with 5573 features.\n",
      "Fitting estimator with 5569 features.\n",
      "Fitting estimator with 5565 features.\n",
      "Fitting estimator with 5561 features.\n",
      "Fitting estimator with 5557 features.\n",
      "Fitting estimator with 5553 features.\n",
      "Fitting estimator with 5549 features.\n",
      "Fitting estimator with 5545 features.\n",
      "Fitting estimator with 5541 features.\n",
      "Fitting estimator with 5537 features.\n",
      "Fitting estimator with 5533 features.\n",
      "Fitting estimator with 5529 features.\n",
      "Fitting estimator with 5525 features.\n",
      "Fitting estimator with 5521 features.\n",
      "Fitting estimator with 5517 features.\n",
      "Fitting estimator with 5513 features.\n",
      "Fitting estimator with 5509 features.\n",
      "Fitting estimator with 5505 features.\n",
      "Fitting estimator with 5501 features.\n",
      "Fitting estimator with 5497 features.\n",
      "Fitting estimator with 5493 features.\n",
      "Fitting estimator with 5489 features.\n",
      "Fitting estimator with 5485 features.\n",
      "Fitting estimator with 5481 features.\n",
      "Fitting estimator with 5477 features.\n",
      "Fitting estimator with 5473 features.\n",
      "Fitting estimator with 5469 features.\n",
      "Fitting estimator with 5465 features.\n",
      "Fitting estimator with 5461 features.\n",
      "Fitting estimator with 5457 features.\n",
      "Fitting estimator with 5453 features.\n",
      "Fitting estimator with 5449 features.\n",
      "Fitting estimator with 5445 features.\n",
      "Fitting estimator with 5441 features.\n",
      "Fitting estimator with 5437 features.\n",
      "Fitting estimator with 5433 features.\n",
      "Fitting estimator with 5429 features.\n",
      "Fitting estimator with 5425 features.\n",
      "Fitting estimator with 5421 features.\n",
      "Fitting estimator with 5417 features.\n",
      "Fitting estimator with 5413 features.\n",
      "Fitting estimator with 5409 features.\n",
      "Fitting estimator with 5405 features.\n",
      "Fitting estimator with 5401 features.\n",
      "Fitting estimator with 5397 features.\n",
      "Fitting estimator with 5393 features.\n",
      "Fitting estimator with 5389 features.\n",
      "Fitting estimator with 5385 features.\n",
      "Fitting estimator with 5381 features.\n",
      "Fitting estimator with 5377 features.\n",
      "Fitting estimator with 5373 features.\n",
      "Fitting estimator with 5369 features.\n",
      "Fitting estimator with 5365 features.\n",
      "Fitting estimator with 5361 features.\n",
      "Fitting estimator with 5357 features.\n",
      "Fitting estimator with 5353 features.\n",
      "Fitting estimator with 5349 features.\n"
     ]
    },
    {
     "name": "stdout",
     "output_type": "stream",
     "text": [
      "Fitting estimator with 5345 features.\n",
      "Fitting estimator with 5341 features.\n",
      "Fitting estimator with 5337 features.\n",
      "Fitting estimator with 5333 features.\n",
      "Fitting estimator with 5329 features.\n",
      "Fitting estimator with 5325 features.\n",
      "Fitting estimator with 5321 features.\n",
      "Fitting estimator with 5317 features.\n",
      "Fitting estimator with 5313 features.\n",
      "Fitting estimator with 5309 features.\n",
      "Fitting estimator with 5305 features.\n",
      "Fitting estimator with 5301 features.\n",
      "Fitting estimator with 5297 features.\n",
      "Fitting estimator with 5293 features.\n",
      "Fitting estimator with 5289 features.\n",
      "Fitting estimator with 5285 features.\n",
      "Fitting estimator with 5281 features.\n",
      "Fitting estimator with 5277 features.\n",
      "Fitting estimator with 5273 features.\n",
      "Fitting estimator with 5269 features.\n",
      "Fitting estimator with 5265 features.\n",
      "Fitting estimator with 5261 features.\n",
      "Fitting estimator with 5257 features.\n",
      "Fitting estimator with 5253 features.\n",
      "Fitting estimator with 5249 features.\n",
      "Fitting estimator with 5245 features.\n",
      "Fitting estimator with 5241 features.\n",
      "Fitting estimator with 5237 features.\n",
      "Fitting estimator with 5233 features.\n",
      "Fitting estimator with 5229 features.\n",
      "Fitting estimator with 5225 features.\n",
      "Fitting estimator with 5221 features.\n",
      "Fitting estimator with 5217 features.\n",
      "Fitting estimator with 5213 features.\n",
      "Fitting estimator with 5209 features.\n",
      "Fitting estimator with 5205 features.\n",
      "Fitting estimator with 5201 features.\n",
      "Fitting estimator with 5197 features.\n",
      "Fitting estimator with 5193 features.\n",
      "Fitting estimator with 5189 features.\n",
      "Fitting estimator with 5185 features.\n",
      "Fitting estimator with 5181 features.\n",
      "Fitting estimator with 5177 features.\n",
      "Fitting estimator with 5173 features.\n",
      "Fitting estimator with 5169 features.\n",
      "Fitting estimator with 5165 features.\n",
      "Fitting estimator with 5161 features.\n",
      "Fitting estimator with 5157 features.\n",
      "Fitting estimator with 5153 features.\n",
      "Fitting estimator with 5149 features.\n",
      "Fitting estimator with 5145 features.\n",
      "Fitting estimator with 5141 features.\n",
      "Fitting estimator with 5137 features.\n",
      "Fitting estimator with 5133 features.\n",
      "Fitting estimator with 5129 features.\n",
      "Fitting estimator with 5125 features.\n",
      "Fitting estimator with 5121 features.\n",
      "Fitting estimator with 5117 features.\n",
      "Fitting estimator with 5113 features.\n",
      "Fitting estimator with 5109 features.\n",
      "Fitting estimator with 5105 features.\n",
      "Fitting estimator with 5101 features.\n",
      "Fitting estimator with 5097 features.\n",
      "Fitting estimator with 5093 features.\n",
      "Fitting estimator with 5089 features.\n",
      "Fitting estimator with 5085 features.\n",
      "Fitting estimator with 5081 features.\n",
      "Fitting estimator with 5077 features.\n",
      "Fitting estimator with 5073 features.\n",
      "Fitting estimator with 5069 features.\n",
      "Fitting estimator with 5065 features.\n",
      "Fitting estimator with 5061 features.\n",
      "Fitting estimator with 5057 features.\n",
      "Fitting estimator with 5053 features.\n",
      "Fitting estimator with 5049 features.\n",
      "Fitting estimator with 5045 features.\n",
      "Fitting estimator with 5041 features.\n",
      "Fitting estimator with 5037 features.\n",
      "Fitting estimator with 5033 features.\n",
      "Fitting estimator with 5029 features.\n",
      "Fitting estimator with 5025 features.\n",
      "Fitting estimator with 5021 features.\n",
      "Fitting estimator with 5017 features.\n",
      "Fitting estimator with 5013 features.\n",
      "Fitting estimator with 5009 features.\n",
      "Fitting estimator with 5005 features.\n",
      "Fitting estimator with 5001 features.\n",
      "Fitting estimator with 4997 features.\n",
      "Fitting estimator with 4993 features.\n",
      "Fitting estimator with 4989 features.\n",
      "Fitting estimator with 4985 features.\n",
      "Fitting estimator with 4981 features.\n",
      "Fitting estimator with 4977 features.\n",
      "Fitting estimator with 4973 features.\n",
      "Fitting estimator with 4969 features.\n",
      "Fitting estimator with 4965 features.\n",
      "Fitting estimator with 4961 features.\n",
      "Fitting estimator with 4957 features.\n",
      "Fitting estimator with 4953 features.\n",
      "Fitting estimator with 4949 features.\n",
      "Fitting estimator with 4945 features.\n",
      "Fitting estimator with 4941 features.\n",
      "Fitting estimator with 4937 features.\n",
      "Fitting estimator with 4933 features.\n",
      "Fitting estimator with 4929 features.\n",
      "Fitting estimator with 4925 features.\n",
      "Fitting estimator with 4921 features.\n",
      "Fitting estimator with 4917 features.\n",
      "Fitting estimator with 4913 features.\n",
      "Fitting estimator with 4909 features.\n",
      "Fitting estimator with 4905 features.\n",
      "Fitting estimator with 4901 features.\n",
      "Fitting estimator with 4897 features.\n",
      "Fitting estimator with 4893 features.\n",
      "Fitting estimator with 4889 features.\n",
      "Fitting estimator with 4885 features.\n",
      "Fitting estimator with 4881 features.\n",
      "Fitting estimator with 4877 features.\n",
      "Fitting estimator with 4873 features.\n",
      "Fitting estimator with 4869 features.\n",
      "Fitting estimator with 4865 features.\n",
      "Fitting estimator with 4861 features.\n",
      "Fitting estimator with 4857 features.\n",
      "Fitting estimator with 4853 features.\n",
      "Fitting estimator with 4849 features.\n",
      "Fitting estimator with 4845 features.\n",
      "Fitting estimator with 4841 features.\n",
      "Fitting estimator with 4837 features.\n",
      "Fitting estimator with 4833 features.\n",
      "Fitting estimator with 4829 features.\n",
      "Fitting estimator with 4825 features.\n",
      "Fitting estimator with 4821 features.\n",
      "Fitting estimator with 4817 features.\n",
      "Fitting estimator with 4813 features.\n",
      "Fitting estimator with 4809 features.\n",
      "Fitting estimator with 4805 features.\n",
      "Fitting estimator with 4801 features.\n",
      "Fitting estimator with 4797 features.\n",
      "Fitting estimator with 4793 features.\n",
      "Fitting estimator with 4789 features.\n",
      "Fitting estimator with 4785 features.\n",
      "Fitting estimator with 4781 features.\n",
      "Fitting estimator with 4777 features.\n",
      "Fitting estimator with 4773 features.\n",
      "Fitting estimator with 4769 features.\n",
      "Fitting estimator with 4765 features.\n",
      "Fitting estimator with 4761 features.\n",
      "Fitting estimator with 4757 features.\n",
      "Fitting estimator with 4753 features.\n",
      "Fitting estimator with 4749 features.\n",
      "Fitting estimator with 4745 features.\n",
      "Fitting estimator with 4741 features.\n",
      "Fitting estimator with 4737 features.\n",
      "Fitting estimator with 4733 features.\n",
      "Fitting estimator with 4729 features.\n",
      "Fitting estimator with 4725 features.\n",
      "Fitting estimator with 4721 features.\n",
      "Fitting estimator with 4717 features.\n",
      "Fitting estimator with 4713 features.\n",
      "Fitting estimator with 4709 features.\n",
      "Fitting estimator with 4705 features.\n",
      "Fitting estimator with 4701 features.\n",
      "Fitting estimator with 4697 features.\n",
      "Fitting estimator with 4693 features.\n",
      "Fitting estimator with 4689 features.\n",
      "Fitting estimator with 4685 features.\n",
      "Fitting estimator with 4681 features.\n",
      "Fitting estimator with 4677 features.\n",
      "Fitting estimator with 4673 features.\n",
      "Fitting estimator with 4669 features.\n",
      "Fitting estimator with 4665 features.\n",
      "Fitting estimator with 4661 features.\n",
      "Fitting estimator with 4657 features.\n",
      "Fitting estimator with 4653 features.\n",
      "Fitting estimator with 4649 features.\n",
      "Fitting estimator with 4645 features.\n",
      "Fitting estimator with 4641 features.\n",
      "Fitting estimator with 4637 features.\n",
      "Fitting estimator with 4633 features.\n",
      "Fitting estimator with 4629 features.\n",
      "Fitting estimator with 4625 features.\n",
      "Fitting estimator with 4621 features.\n",
      "Fitting estimator with 4617 features.\n",
      "Fitting estimator with 4613 features.\n",
      "Fitting estimator with 4609 features.\n",
      "Fitting estimator with 4605 features.\n",
      "Fitting estimator with 4601 features.\n",
      "Fitting estimator with 4597 features.\n",
      "Fitting estimator with 4593 features.\n",
      "Fitting estimator with 4589 features.\n",
      "Fitting estimator with 4585 features.\n",
      "Fitting estimator with 4581 features.\n",
      "Fitting estimator with 4577 features.\n",
      "Fitting estimator with 4573 features.\n",
      "Fitting estimator with 4569 features.\n",
      "Fitting estimator with 4565 features.\n",
      "Fitting estimator with 4561 features.\n",
      "Fitting estimator with 4557 features.\n",
      "Fitting estimator with 4553 features.\n",
      "Fitting estimator with 4549 features.\n",
      "Fitting estimator with 4545 features.\n",
      "Fitting estimator with 4541 features.\n",
      "Fitting estimator with 4537 features.\n",
      "Fitting estimator with 4533 features.\n",
      "Fitting estimator with 4529 features.\n",
      "Fitting estimator with 4525 features.\n",
      "Fitting estimator with 4521 features.\n",
      "Fitting estimator with 4517 features.\n",
      "Fitting estimator with 4513 features.\n",
      "Fitting estimator with 4509 features.\n",
      "Fitting estimator with 4505 features.\n",
      "Fitting estimator with 4501 features.\n",
      "Fitting estimator with 4497 features.\n",
      "Fitting estimator with 4493 features.\n",
      "Fitting estimator with 4489 features.\n",
      "Fitting estimator with 4485 features.\n",
      "Fitting estimator with 4481 features.\n",
      "Fitting estimator with 4477 features.\n",
      "Fitting estimator with 4473 features.\n",
      "Fitting estimator with 4469 features.\n",
      "Fitting estimator with 4465 features.\n"
     ]
    },
    {
     "name": "stdout",
     "output_type": "stream",
     "text": [
      "Fitting estimator with 4461 features.\n",
      "Fitting estimator with 4457 features.\n",
      "Fitting estimator with 4453 features.\n",
      "Fitting estimator with 4449 features.\n",
      "Fitting estimator with 4445 features.\n",
      "Fitting estimator with 4441 features.\n",
      "Fitting estimator with 4437 features.\n",
      "Fitting estimator with 4433 features.\n",
      "Fitting estimator with 4429 features.\n",
      "Fitting estimator with 4425 features.\n",
      "Fitting estimator with 4421 features.\n",
      "Fitting estimator with 4417 features.\n",
      "Fitting estimator with 4413 features.\n",
      "Fitting estimator with 4409 features.\n",
      "Fitting estimator with 4405 features.\n",
      "Fitting estimator with 4401 features.\n",
      "Fitting estimator with 4397 features.\n",
      "Fitting estimator with 4393 features.\n",
      "Fitting estimator with 4389 features.\n",
      "Fitting estimator with 4385 features.\n",
      "Fitting estimator with 4381 features.\n",
      "Fitting estimator with 4377 features.\n",
      "Fitting estimator with 4373 features.\n",
      "Fitting estimator with 4369 features.\n",
      "Fitting estimator with 4365 features.\n",
      "Fitting estimator with 4361 features.\n",
      "Fitting estimator with 4357 features.\n",
      "Fitting estimator with 4353 features.\n",
      "Fitting estimator with 4349 features.\n",
      "Fitting estimator with 4345 features.\n",
      "Fitting estimator with 4341 features.\n",
      "Fitting estimator with 4337 features.\n",
      "Fitting estimator with 4333 features.\n",
      "Fitting estimator with 4329 features.\n",
      "Fitting estimator with 4325 features.\n",
      "Fitting estimator with 4321 features.\n",
      "Fitting estimator with 4317 features.\n",
      "Fitting estimator with 4313 features.\n",
      "Fitting estimator with 4309 features.\n",
      "Fitting estimator with 4305 features.\n",
      "Fitting estimator with 4301 features.\n",
      "Fitting estimator with 4297 features.\n",
      "Fitting estimator with 4293 features.\n",
      "Fitting estimator with 4289 features.\n",
      "Fitting estimator with 4285 features.\n",
      "Fitting estimator with 4281 features.\n",
      "Fitting estimator with 4277 features.\n",
      "Fitting estimator with 4273 features.\n",
      "Fitting estimator with 4269 features.\n",
      "Fitting estimator with 4265 features.\n",
      "Fitting estimator with 4261 features.\n",
      "Fitting estimator with 4257 features.\n",
      "Fitting estimator with 4253 features.\n",
      "Fitting estimator with 4249 features.\n",
      "Fitting estimator with 4245 features.\n",
      "Fitting estimator with 4241 features.\n",
      "Fitting estimator with 4237 features.\n",
      "Fitting estimator with 4233 features.\n",
      "Fitting estimator with 4229 features.\n",
      "Fitting estimator with 4225 features.\n",
      "Fitting estimator with 4221 features.\n",
      "Fitting estimator with 4217 features.\n",
      "Fitting estimator with 4213 features.\n",
      "Fitting estimator with 4209 features.\n",
      "Fitting estimator with 4205 features.\n",
      "Fitting estimator with 4201 features.\n",
      "Fitting estimator with 4197 features.\n",
      "Fitting estimator with 4193 features.\n",
      "Fitting estimator with 4189 features.\n",
      "Fitting estimator with 4185 features.\n",
      "Fitting estimator with 4181 features.\n",
      "Fitting estimator with 4177 features.\n",
      "Fitting estimator with 4173 features.\n",
      "Fitting estimator with 4169 features.\n",
      "Fitting estimator with 4165 features.\n",
      "Fitting estimator with 4161 features.\n",
      "Fitting estimator with 4157 features.\n",
      "Fitting estimator with 4153 features.\n",
      "Fitting estimator with 4149 features.\n",
      "Fitting estimator with 4145 features.\n",
      "Fitting estimator with 4141 features.\n",
      "Fitting estimator with 4137 features.\n",
      "Fitting estimator with 4133 features.\n",
      "Fitting estimator with 4129 features.\n",
      "Fitting estimator with 4125 features.\n",
      "Fitting estimator with 4121 features.\n",
      "Fitting estimator with 4117 features.\n",
      "Fitting estimator with 4113 features.\n",
      "Fitting estimator with 4109 features.\n",
      "Fitting estimator with 4105 features.\n",
      "Fitting estimator with 4101 features.\n",
      "Fitting estimator with 4097 features.\n",
      "Fitting estimator with 4093 features.\n",
      "Fitting estimator with 4089 features.\n",
      "Fitting estimator with 4085 features.\n",
      "Fitting estimator with 4081 features.\n",
      "Fitting estimator with 4077 features.\n",
      "Fitting estimator with 4073 features.\n",
      "Fitting estimator with 4069 features.\n",
      "Fitting estimator with 4065 features.\n",
      "Fitting estimator with 4061 features.\n",
      "Fitting estimator with 4057 features.\n",
      "Fitting estimator with 4053 features.\n",
      "Fitting estimator with 4049 features.\n",
      "Fitting estimator with 4045 features.\n",
      "Fitting estimator with 4041 features.\n",
      "Fitting estimator with 4037 features.\n",
      "Fitting estimator with 4033 features.\n",
      "Fitting estimator with 4029 features.\n",
      "Fitting estimator with 4025 features.\n",
      "Fitting estimator with 4021 features.\n",
      "Fitting estimator with 4017 features.\n",
      "Fitting estimator with 4013 features.\n",
      "Fitting estimator with 4009 features.\n",
      "Fitting estimator with 4005 features.\n",
      "Fitting estimator with 4001 features.\n",
      "Fitting estimator with 3997 features.\n",
      "Fitting estimator with 3993 features.\n",
      "Fitting estimator with 3989 features.\n",
      "Fitting estimator with 3985 features.\n",
      "Fitting estimator with 3981 features.\n",
      "Fitting estimator with 3977 features.\n",
      "Fitting estimator with 3973 features.\n",
      "Fitting estimator with 3969 features.\n",
      "Fitting estimator with 3965 features.\n",
      "Fitting estimator with 3961 features.\n",
      "Fitting estimator with 3957 features.\n",
      "Fitting estimator with 3953 features.\n",
      "Fitting estimator with 3949 features.\n",
      "Fitting estimator with 3945 features.\n",
      "Fitting estimator with 3941 features.\n",
      "Fitting estimator with 3937 features.\n",
      "Fitting estimator with 3933 features.\n",
      "Fitting estimator with 3929 features.\n",
      "Fitting estimator with 3925 features.\n",
      "Fitting estimator with 3921 features.\n",
      "Fitting estimator with 3917 features.\n",
      "Fitting estimator with 3913 features.\n",
      "Fitting estimator with 3909 features.\n",
      "Fitting estimator with 3905 features.\n",
      "Fitting estimator with 3901 features.\n",
      "Fitting estimator with 3897 features.\n",
      "Fitting estimator with 3893 features.\n",
      "Fitting estimator with 3889 features.\n",
      "Fitting estimator with 3885 features.\n",
      "Fitting estimator with 3881 features.\n",
      "Fitting estimator with 3877 features.\n",
      "Fitting estimator with 3873 features.\n",
      "Fitting estimator with 3869 features.\n",
      "Fitting estimator with 3865 features.\n",
      "Fitting estimator with 3861 features.\n",
      "Fitting estimator with 3857 features.\n",
      "Fitting estimator with 3853 features.\n",
      "Fitting estimator with 3849 features.\n",
      "Fitting estimator with 3845 features.\n",
      "Fitting estimator with 3841 features.\n",
      "Fitting estimator with 3837 features.\n",
      "Fitting estimator with 3833 features.\n",
      "Fitting estimator with 3829 features.\n",
      "Fitting estimator with 3825 features.\n",
      "Fitting estimator with 3821 features.\n",
      "Fitting estimator with 3817 features.\n",
      "Fitting estimator with 3813 features.\n",
      "Fitting estimator with 3809 features.\n",
      "Fitting estimator with 3805 features.\n",
      "Fitting estimator with 3801 features.\n",
      "Fitting estimator with 3797 features.\n",
      "Fitting estimator with 3793 features.\n",
      "Fitting estimator with 3789 features.\n",
      "Fitting estimator with 3785 features.\n",
      "Fitting estimator with 3781 features.\n",
      "Fitting estimator with 3777 features.\n",
      "Fitting estimator with 3773 features.\n",
      "Fitting estimator with 3769 features.\n",
      "Fitting estimator with 3765 features.\n",
      "Fitting estimator with 3761 features.\n",
      "Fitting estimator with 3757 features.\n",
      "Fitting estimator with 3753 features.\n",
      "Fitting estimator with 3749 features.\n",
      "Fitting estimator with 3745 features.\n",
      "Fitting estimator with 3741 features.\n",
      "Fitting estimator with 3737 features.\n",
      "Fitting estimator with 3733 features.\n",
      "Fitting estimator with 3729 features.\n",
      "Fitting estimator with 3725 features.\n",
      "Fitting estimator with 3721 features.\n",
      "Fitting estimator with 3717 features.\n",
      "Fitting estimator with 3713 features.\n",
      "Fitting estimator with 3709 features.\n",
      "Fitting estimator with 3705 features.\n",
      "Fitting estimator with 3701 features.\n",
      "Fitting estimator with 3697 features.\n",
      "Fitting estimator with 3693 features.\n",
      "Fitting estimator with 3689 features.\n",
      "Fitting estimator with 3685 features.\n",
      "Fitting estimator with 3681 features.\n",
      "Fitting estimator with 3677 features.\n",
      "Fitting estimator with 3673 features.\n",
      "Fitting estimator with 3669 features.\n",
      "Fitting estimator with 3665 features.\n",
      "Fitting estimator with 3661 features.\n",
      "Fitting estimator with 3657 features.\n",
      "Fitting estimator with 3653 features.\n",
      "Fitting estimator with 3649 features.\n",
      "Fitting estimator with 3645 features.\n",
      "Fitting estimator with 3641 features.\n",
      "Fitting estimator with 3637 features.\n",
      "Fitting estimator with 3633 features.\n",
      "Fitting estimator with 3629 features.\n",
      "Fitting estimator with 3625 features.\n",
      "Fitting estimator with 3621 features.\n",
      "Fitting estimator with 3617 features.\n",
      "Fitting estimator with 3613 features.\n",
      "Fitting estimator with 3609 features.\n",
      "Fitting estimator with 3605 features.\n",
      "Fitting estimator with 3601 features.\n",
      "Fitting estimator with 3597 features.\n",
      "Fitting estimator with 3593 features.\n",
      "Fitting estimator with 3589 features.\n",
      "Fitting estimator with 3585 features.\n",
      "Fitting estimator with 3581 features.\n"
     ]
    },
    {
     "name": "stdout",
     "output_type": "stream",
     "text": [
      "Fitting estimator with 3577 features.\n",
      "Fitting estimator with 3573 features.\n",
      "Fitting estimator with 3569 features.\n",
      "Fitting estimator with 3565 features.\n",
      "Fitting estimator with 3561 features.\n",
      "Fitting estimator with 3557 features.\n",
      "Fitting estimator with 3553 features.\n",
      "Fitting estimator with 3549 features.\n",
      "Fitting estimator with 3545 features.\n",
      "Fitting estimator with 3541 features.\n",
      "Fitting estimator with 3537 features.\n",
      "Fitting estimator with 3533 features.\n",
      "Fitting estimator with 3529 features.\n",
      "Fitting estimator with 3525 features.\n",
      "Fitting estimator with 3521 features.\n",
      "Fitting estimator with 3517 features.\n",
      "Fitting estimator with 3513 features.\n",
      "Fitting estimator with 3509 features.\n",
      "Fitting estimator with 3505 features.\n",
      "Fitting estimator with 3501 features.\n",
      "Fitting estimator with 3497 features.\n",
      "Fitting estimator with 3493 features.\n",
      "Fitting estimator with 3489 features.\n",
      "Fitting estimator with 3485 features.\n",
      "Fitting estimator with 3481 features.\n",
      "Fitting estimator with 3477 features.\n",
      "Fitting estimator with 3473 features.\n",
      "Fitting estimator with 3469 features.\n",
      "Fitting estimator with 3465 features.\n",
      "Fitting estimator with 3461 features.\n",
      "Fitting estimator with 3457 features.\n",
      "Fitting estimator with 3453 features.\n",
      "Fitting estimator with 3449 features.\n",
      "Fitting estimator with 3445 features.\n",
      "Fitting estimator with 3441 features.\n",
      "Fitting estimator with 3437 features.\n",
      "Fitting estimator with 3433 features.\n",
      "Fitting estimator with 3429 features.\n",
      "Fitting estimator with 3425 features.\n",
      "Fitting estimator with 3421 features.\n",
      "Fitting estimator with 3417 features.\n",
      "Fitting estimator with 3413 features.\n",
      "Fitting estimator with 3409 features.\n",
      "Fitting estimator with 3405 features.\n",
      "Fitting estimator with 3401 features.\n",
      "Fitting estimator with 3397 features.\n",
      "Fitting estimator with 3393 features.\n",
      "Fitting estimator with 3389 features.\n",
      "Fitting estimator with 3385 features.\n",
      "Fitting estimator with 3381 features.\n",
      "Fitting estimator with 3377 features.\n",
      "Fitting estimator with 3373 features.\n",
      "Fitting estimator with 3369 features.\n",
      "Fitting estimator with 3365 features.\n",
      "Fitting estimator with 3361 features.\n",
      "Fitting estimator with 3357 features.\n",
      "Fitting estimator with 3353 features.\n",
      "Fitting estimator with 3349 features.\n",
      "Fitting estimator with 3345 features.\n",
      "Fitting estimator with 3341 features.\n",
      "Fitting estimator with 3337 features.\n",
      "Fitting estimator with 3333 features.\n",
      "Fitting estimator with 3329 features.\n",
      "Fitting estimator with 3325 features.\n",
      "Fitting estimator with 3321 features.\n",
      "Fitting estimator with 3317 features.\n",
      "Fitting estimator with 3313 features.\n",
      "Fitting estimator with 3309 features.\n",
      "Fitting estimator with 3305 features.\n",
      "Fitting estimator with 3301 features.\n",
      "Fitting estimator with 3297 features.\n",
      "Fitting estimator with 3293 features.\n",
      "Fitting estimator with 3289 features.\n",
      "Fitting estimator with 3285 features.\n",
      "Fitting estimator with 3281 features.\n",
      "Fitting estimator with 3277 features.\n",
      "Fitting estimator with 3273 features.\n",
      "Fitting estimator with 3269 features.\n",
      "Fitting estimator with 3265 features.\n",
      "Fitting estimator with 3261 features.\n",
      "Fitting estimator with 3257 features.\n",
      "Fitting estimator with 3253 features.\n",
      "Fitting estimator with 3249 features.\n",
      "Fitting estimator with 3245 features.\n",
      "Fitting estimator with 3241 features.\n",
      "Fitting estimator with 3237 features.\n",
      "Fitting estimator with 3233 features.\n",
      "Fitting estimator with 3229 features.\n",
      "Fitting estimator with 3225 features.\n",
      "Fitting estimator with 3221 features.\n",
      "Fitting estimator with 3217 features.\n",
      "Fitting estimator with 3213 features.\n",
      "Fitting estimator with 3209 features.\n",
      "Fitting estimator with 3205 features.\n",
      "Fitting estimator with 3201 features.\n",
      "Fitting estimator with 3197 features.\n",
      "Fitting estimator with 3193 features.\n",
      "Fitting estimator with 3189 features.\n",
      "Fitting estimator with 3185 features.\n",
      "Fitting estimator with 3181 features.\n",
      "Fitting estimator with 3177 features.\n",
      "Fitting estimator with 3173 features.\n",
      "Fitting estimator with 3169 features.\n",
      "Fitting estimator with 3165 features.\n",
      "Fitting estimator with 3161 features.\n",
      "Fitting estimator with 3157 features.\n",
      "Fitting estimator with 3153 features.\n",
      "Fitting estimator with 3149 features.\n",
      "Fitting estimator with 3145 features.\n",
      "Fitting estimator with 3141 features.\n",
      "Fitting estimator with 3137 features.\n",
      "Fitting estimator with 3133 features.\n",
      "Fitting estimator with 3129 features.\n",
      "Fitting estimator with 3125 features.\n",
      "Fitting estimator with 3121 features.\n",
      "Fitting estimator with 3117 features.\n",
      "Fitting estimator with 3113 features.\n",
      "Fitting estimator with 3109 features.\n",
      "Fitting estimator with 3105 features.\n",
      "Fitting estimator with 3101 features.\n",
      "Fitting estimator with 3097 features.\n",
      "Fitting estimator with 3093 features.\n",
      "Fitting estimator with 3089 features.\n",
      "Fitting estimator with 3085 features.\n",
      "Fitting estimator with 3081 features.\n",
      "Fitting estimator with 3077 features.\n",
      "Fitting estimator with 3073 features.\n",
      "Fitting estimator with 3069 features.\n",
      "Fitting estimator with 3065 features.\n",
      "Fitting estimator with 3061 features.\n",
      "Fitting estimator with 3057 features.\n",
      "Fitting estimator with 3053 features.\n",
      "Fitting estimator with 3049 features.\n",
      "Fitting estimator with 3045 features.\n",
      "Fitting estimator with 3041 features.\n",
      "Fitting estimator with 3037 features.\n",
      "Fitting estimator with 3033 features.\n",
      "Fitting estimator with 3029 features.\n",
      "Fitting estimator with 3025 features.\n",
      "Fitting estimator with 3021 features.\n",
      "Fitting estimator with 3017 features.\n",
      "Fitting estimator with 3013 features.\n",
      "Fitting estimator with 3009 features.\n",
      "Fitting estimator with 3005 features.\n",
      "Fitting estimator with 3001 features.\n",
      "Fitting estimator with 2997 features.\n",
      "Fitting estimator with 2993 features.\n",
      "Fitting estimator with 2989 features.\n",
      "Fitting estimator with 2985 features.\n",
      "Fitting estimator with 2981 features.\n",
      "Fitting estimator with 2977 features.\n",
      "Fitting estimator with 2973 features.\n",
      "Fitting estimator with 2969 features.\n",
      "Fitting estimator with 2965 features.\n",
      "Fitting estimator with 2961 features.\n",
      "Fitting estimator with 2957 features.\n",
      "Fitting estimator with 2953 features.\n",
      "Fitting estimator with 2949 features.\n",
      "Fitting estimator with 2945 features.\n",
      "Fitting estimator with 2941 features.\n",
      "Fitting estimator with 2937 features.\n",
      "Fitting estimator with 2933 features.\n",
      "Fitting estimator with 2929 features.\n",
      "Fitting estimator with 2925 features.\n",
      "Fitting estimator with 2921 features.\n",
      "Fitting estimator with 2917 features.\n",
      "Fitting estimator with 2913 features.\n",
      "Fitting estimator with 2909 features.\n",
      "Fitting estimator with 2905 features.\n",
      "Fitting estimator with 2901 features.\n",
      "Fitting estimator with 2897 features.\n",
      "Fitting estimator with 2893 features.\n",
      "Fitting estimator with 2889 features.\n",
      "Fitting estimator with 2885 features.\n",
      "Fitting estimator with 2881 features.\n",
      "Fitting estimator with 2877 features.\n",
      "Fitting estimator with 2873 features.\n",
      "Fitting estimator with 2869 features.\n",
      "Fitting estimator with 2865 features.\n",
      "Fitting estimator with 2861 features.\n",
      "Fitting estimator with 2857 features.\n",
      "Fitting estimator with 2853 features.\n",
      "Fitting estimator with 2849 features.\n",
      "Fitting estimator with 2845 features.\n",
      "Fitting estimator with 2841 features.\n",
      "Fitting estimator with 2837 features.\n",
      "Fitting estimator with 2833 features.\n",
      "Fitting estimator with 2829 features.\n",
      "Fitting estimator with 2825 features.\n",
      "Fitting estimator with 2821 features.\n",
      "Fitting estimator with 2817 features.\n",
      "Fitting estimator with 2813 features.\n",
      "Fitting estimator with 2809 features.\n",
      "Fitting estimator with 2805 features.\n",
      "Fitting estimator with 2801 features.\n",
      "Fitting estimator with 2797 features.\n",
      "Fitting estimator with 2793 features.\n",
      "Fitting estimator with 2789 features.\n",
      "Fitting estimator with 2785 features.\n",
      "Fitting estimator with 2781 features.\n",
      "Fitting estimator with 2777 features.\n",
      "Fitting estimator with 2773 features.\n",
      "Fitting estimator with 2769 features.\n",
      "Fitting estimator with 2765 features.\n",
      "Fitting estimator with 2761 features.\n",
      "Fitting estimator with 2757 features.\n",
      "Fitting estimator with 2753 features.\n",
      "Fitting estimator with 2749 features.\n",
      "Fitting estimator with 2745 features.\n",
      "Fitting estimator with 2741 features.\n",
      "Fitting estimator with 2737 features.\n",
      "Fitting estimator with 2733 features.\n",
      "Fitting estimator with 2729 features.\n",
      "Fitting estimator with 2725 features.\n",
      "Fitting estimator with 2721 features.\n",
      "Fitting estimator with 2717 features.\n",
      "Fitting estimator with 2713 features.\n",
      "Fitting estimator with 2709 features.\n",
      "Fitting estimator with 2705 features.\n",
      "Fitting estimator with 2701 features.\n",
      "Fitting estimator with 2697 features.\n",
      "Fitting estimator with 2693 features.\n",
      "Fitting estimator with 2689 features.\n",
      "Fitting estimator with 2685 features.\n",
      "Fitting estimator with 2681 features.\n",
      "Fitting estimator with 2677 features.\n",
      "Fitting estimator with 2673 features.\n",
      "Fitting estimator with 2669 features.\n",
      "Fitting estimator with 2665 features.\n",
      "Fitting estimator with 2661 features.\n",
      "Fitting estimator with 2657 features.\n",
      "Fitting estimator with 2653 features.\n",
      "Fitting estimator with 2649 features.\n",
      "Fitting estimator with 2645 features.\n",
      "Fitting estimator with 2641 features.\n",
      "Fitting estimator with 2637 features.\n",
      "Fitting estimator with 2633 features.\n",
      "Fitting estimator with 2629 features.\n",
      "Fitting estimator with 2625 features.\n",
      "Fitting estimator with 2621 features.\n",
      "Fitting estimator with 2617 features.\n",
      "Fitting estimator with 2613 features.\n"
     ]
    },
    {
     "name": "stdout",
     "output_type": "stream",
     "text": [
      "Fitting estimator with 2609 features.\n",
      "Fitting estimator with 2605 features.\n",
      "Fitting estimator with 2601 features.\n",
      "Fitting estimator with 2597 features.\n",
      "Fitting estimator with 2593 features.\n",
      "Fitting estimator with 2589 features.\n",
      "Fitting estimator with 2585 features.\n",
      "Fitting estimator with 2581 features.\n",
      "Fitting estimator with 2577 features.\n",
      "Fitting estimator with 2573 features.\n",
      "Fitting estimator with 2569 features.\n",
      "Fitting estimator with 2565 features.\n",
      "Fitting estimator with 2561 features.\n",
      "Fitting estimator with 2557 features.\n",
      "Fitting estimator with 2553 features.\n",
      "Fitting estimator with 2549 features.\n",
      "Fitting estimator with 2545 features.\n",
      "Fitting estimator with 2541 features.\n",
      "Fitting estimator with 2537 features.\n",
      "Fitting estimator with 2533 features.\n",
      "Fitting estimator with 2529 features.\n",
      "Fitting estimator with 2525 features.\n",
      "Fitting estimator with 2521 features.\n",
      "Fitting estimator with 2517 features.\n",
      "Fitting estimator with 2513 features.\n",
      "Fitting estimator with 2509 features.\n",
      "Fitting estimator with 2505 features.\n",
      "Fitting estimator with 2501 features.\n",
      "Fitting estimator with 2497 features.\n",
      "Fitting estimator with 2493 features.\n",
      "Fitting estimator with 2489 features.\n",
      "Fitting estimator with 2485 features.\n",
      "Fitting estimator with 2481 features.\n",
      "Fitting estimator with 2477 features.\n",
      "Fitting estimator with 2473 features.\n",
      "Fitting estimator with 2469 features.\n",
      "Fitting estimator with 2465 features.\n",
      "Fitting estimator with 2461 features.\n",
      "Fitting estimator with 2457 features.\n",
      "Fitting estimator with 2453 features.\n",
      "Fitting estimator with 2449 features.\n",
      "Fitting estimator with 2445 features.\n",
      "Fitting estimator with 2441 features.\n",
      "Fitting estimator with 2437 features.\n",
      "Fitting estimator with 2433 features.\n",
      "Fitting estimator with 2429 features.\n",
      "Fitting estimator with 2425 features.\n",
      "Fitting estimator with 2421 features.\n",
      "Fitting estimator with 2417 features.\n",
      "Fitting estimator with 2413 features.\n",
      "Fitting estimator with 2409 features.\n",
      "Fitting estimator with 2405 features.\n",
      "Fitting estimator with 2401 features.\n",
      "Fitting estimator with 2397 features.\n",
      "Fitting estimator with 2393 features.\n",
      "Fitting estimator with 2389 features.\n",
      "Fitting estimator with 2385 features.\n",
      "Fitting estimator with 2381 features.\n",
      "Fitting estimator with 2377 features.\n",
      "Fitting estimator with 2373 features.\n",
      "Fitting estimator with 2369 features.\n",
      "Fitting estimator with 2365 features.\n",
      "Fitting estimator with 2361 features.\n",
      "Fitting estimator with 2357 features.\n",
      "Fitting estimator with 2353 features.\n",
      "Fitting estimator with 2349 features.\n",
      "Fitting estimator with 2345 features.\n",
      "Fitting estimator with 2341 features.\n",
      "Fitting estimator with 2337 features.\n",
      "Fitting estimator with 2333 features.\n",
      "Fitting estimator with 2329 features.\n",
      "Fitting estimator with 2325 features.\n",
      "Fitting estimator with 2321 features.\n",
      "Fitting estimator with 2317 features.\n",
      "Fitting estimator with 2313 features.\n",
      "Fitting estimator with 2309 features.\n",
      "Fitting estimator with 2305 features.\n",
      "Fitting estimator with 2301 features.\n",
      "Fitting estimator with 2297 features.\n",
      "Fitting estimator with 2293 features.\n",
      "Fitting estimator with 2289 features.\n",
      "Fitting estimator with 2285 features.\n",
      "Fitting estimator with 2281 features.\n",
      "Fitting estimator with 2277 features.\n",
      "Fitting estimator with 2273 features.\n",
      "Fitting estimator with 2269 features.\n",
      "Fitting estimator with 2265 features.\n",
      "Fitting estimator with 2261 features.\n",
      "Fitting estimator with 2257 features.\n",
      "Fitting estimator with 2253 features.\n",
      "Fitting estimator with 2249 features.\n",
      "Fitting estimator with 2245 features.\n",
      "Fitting estimator with 2241 features.\n",
      "Fitting estimator with 2237 features.\n",
      "Fitting estimator with 2233 features.\n",
      "Fitting estimator with 2229 features.\n",
      "Fitting estimator with 2225 features.\n",
      "Fitting estimator with 2221 features.\n",
      "Fitting estimator with 2217 features.\n",
      "Fitting estimator with 2213 features.\n",
      "Fitting estimator with 2209 features.\n",
      "Fitting estimator with 2205 features.\n",
      "Fitting estimator with 2201 features.\n",
      "Fitting estimator with 2197 features.\n",
      "Fitting estimator with 2193 features.\n",
      "Fitting estimator with 2189 features.\n",
      "Fitting estimator with 2185 features.\n",
      "Fitting estimator with 2181 features.\n",
      "Fitting estimator with 2177 features.\n",
      "Fitting estimator with 2173 features.\n",
      "Fitting estimator with 2169 features.\n",
      "Fitting estimator with 2165 features.\n",
      "Fitting estimator with 2161 features.\n",
      "Fitting estimator with 2157 features.\n",
      "Fitting estimator with 2153 features.\n",
      "Fitting estimator with 2149 features.\n",
      "Fitting estimator with 2145 features.\n",
      "Fitting estimator with 2141 features.\n",
      "Fitting estimator with 2137 features.\n",
      "Fitting estimator with 2133 features.\n",
      "Fitting estimator with 2129 features.\n",
      "Fitting estimator with 2125 features.\n",
      "Fitting estimator with 2121 features.\n",
      "Fitting estimator with 2117 features.\n",
      "Fitting estimator with 2113 features.\n",
      "Fitting estimator with 2109 features.\n",
      "Fitting estimator with 2105 features.\n",
      "Fitting estimator with 2101 features.\n",
      "Fitting estimator with 2097 features.\n",
      "Fitting estimator with 2093 features.\n",
      "Fitting estimator with 2089 features.\n",
      "Fitting estimator with 2085 features.\n",
      "Fitting estimator with 2081 features.\n",
      "Fitting estimator with 2077 features.\n",
      "Fitting estimator with 2073 features.\n",
      "Fitting estimator with 2069 features.\n",
      "Fitting estimator with 2065 features.\n",
      "Fitting estimator with 2061 features.\n",
      "Fitting estimator with 2057 features.\n",
      "Fitting estimator with 2053 features.\n",
      "Fitting estimator with 2049 features.\n",
      "Fitting estimator with 2045 features.\n",
      "Fitting estimator with 2041 features.\n",
      "Fitting estimator with 2037 features.\n",
      "Fitting estimator with 2033 features.\n",
      "Fitting estimator with 2029 features.\n",
      "Fitting estimator with 2025 features.\n",
      "Fitting estimator with 2021 features.\n",
      "Fitting estimator with 2017 features.\n",
      "Fitting estimator with 2013 features.\n",
      "Fitting estimator with 2009 features.\n",
      "Fitting estimator with 2005 features.\n",
      "Fitting estimator with 2001 features.\n",
      "Fitting estimator with 1997 features.\n",
      "Fitting estimator with 1993 features.\n",
      "Fitting estimator with 1989 features.\n",
      "Fitting estimator with 1985 features.\n",
      "Fitting estimator with 1981 features.\n",
      "Fitting estimator with 1977 features.\n",
      "Fitting estimator with 1973 features.\n",
      "Fitting estimator with 1969 features.\n",
      "Fitting estimator with 1965 features.\n",
      "Fitting estimator with 1961 features.\n",
      "Fitting estimator with 1957 features.\n",
      "Fitting estimator with 1953 features.\n",
      "Fitting estimator with 1949 features.\n",
      "Fitting estimator with 1945 features.\n",
      "Fitting estimator with 1941 features.\n",
      "Fitting estimator with 1937 features.\n",
      "Fitting estimator with 1933 features.\n",
      "Fitting estimator with 1929 features.\n",
      "Fitting estimator with 1925 features.\n",
      "Fitting estimator with 1921 features.\n",
      "Fitting estimator with 1917 features.\n",
      "Fitting estimator with 1913 features.\n",
      "Fitting estimator with 1909 features.\n",
      "Fitting estimator with 1905 features.\n",
      "Fitting estimator with 1901 features.\n",
      "Fitting estimator with 1897 features.\n",
      "Fitting estimator with 1893 features.\n",
      "Fitting estimator with 1889 features.\n",
      "Fitting estimator with 1885 features.\n",
      "Fitting estimator with 1881 features.\n",
      "Fitting estimator with 1877 features.\n",
      "Fitting estimator with 1873 features.\n",
      "Fitting estimator with 1869 features.\n",
      "Fitting estimator with 1865 features.\n",
      "Fitting estimator with 1861 features.\n",
      "Fitting estimator with 1857 features.\n",
      "Fitting estimator with 1853 features.\n",
      "Fitting estimator with 1849 features.\n",
      "Fitting estimator with 1845 features.\n",
      "Fitting estimator with 1841 features.\n",
      "Fitting estimator with 1837 features.\n",
      "Fitting estimator with 1833 features.\n",
      "Fitting estimator with 1829 features.\n",
      "Fitting estimator with 1825 features.\n",
      "Fitting estimator with 1821 features.\n",
      "Fitting estimator with 1817 features.\n",
      "Fitting estimator with 1813 features.\n",
      "Fitting estimator with 1809 features.\n",
      "Fitting estimator with 1805 features.\n",
      "Fitting estimator with 1801 features.\n",
      "Fitting estimator with 1797 features.\n",
      "Fitting estimator with 1793 features.\n",
      "Fitting estimator with 1789 features.\n",
      "Fitting estimator with 1785 features.\n",
      "Fitting estimator with 1781 features.\n",
      "Fitting estimator with 1777 features.\n",
      "Fitting estimator with 1773 features.\n",
      "Fitting estimator with 1769 features.\n",
      "Fitting estimator with 1765 features.\n",
      "Fitting estimator with 1761 features.\n",
      "Fitting estimator with 1757 features.\n",
      "Fitting estimator with 1753 features.\n",
      "Fitting estimator with 1749 features.\n",
      "Fitting estimator with 1745 features.\n",
      "Fitting estimator with 1741 features.\n",
      "Fitting estimator with 1737 features.\n",
      "Fitting estimator with 1733 features.\n",
      "Fitting estimator with 1729 features.\n",
      "Fitting estimator with 1725 features.\n",
      "Fitting estimator with 1721 features.\n",
      "Fitting estimator with 1717 features.\n",
      "Fitting estimator with 1713 features.\n",
      "Fitting estimator with 1709 features.\n",
      "Fitting estimator with 1705 features.\n",
      "Fitting estimator with 1701 features.\n",
      "Fitting estimator with 1697 features.\n",
      "Fitting estimator with 1693 features.\n",
      "Fitting estimator with 1689 features.\n",
      "Fitting estimator with 1685 features.\n",
      "Fitting estimator with 1681 features.\n",
      "Fitting estimator with 1677 features.\n",
      "Fitting estimator with 1673 features.\n",
      "Fitting estimator with 1669 features.\n",
      "Fitting estimator with 1665 features.\n",
      "Fitting estimator with 1661 features.\n",
      "Fitting estimator with 1657 features.\n",
      "Fitting estimator with 1653 features.\n",
      "Fitting estimator with 1649 features.\n",
      "Fitting estimator with 1645 features.\n",
      "Fitting estimator with 1641 features.\n",
      "Fitting estimator with 1637 features.\n",
      "Fitting estimator with 1633 features.\n",
      "Fitting estimator with 1629 features.\n",
      "Fitting estimator with 1625 features.\n",
      "Fitting estimator with 1621 features.\n"
     ]
    },
    {
     "name": "stdout",
     "output_type": "stream",
     "text": [
      "Fitting estimator with 1617 features.\n",
      "Fitting estimator with 1613 features.\n",
      "Fitting estimator with 1609 features.\n",
      "Fitting estimator with 1605 features.\n",
      "Fitting estimator with 1601 features.\n",
      "Fitting estimator with 1597 features.\n",
      "Fitting estimator with 1593 features.\n",
      "Fitting estimator with 1589 features.\n",
      "Fitting estimator with 1585 features.\n",
      "Fitting estimator with 1581 features.\n",
      "Fitting estimator with 1577 features.\n",
      "Fitting estimator with 1573 features.\n",
      "Fitting estimator with 1569 features.\n",
      "Fitting estimator with 1565 features.\n",
      "Fitting estimator with 1561 features.\n",
      "Fitting estimator with 1557 features.\n",
      "Fitting estimator with 1553 features.\n",
      "Fitting estimator with 1549 features.\n",
      "Fitting estimator with 1545 features.\n",
      "Fitting estimator with 1541 features.\n",
      "Fitting estimator with 1537 features.\n",
      "Fitting estimator with 1533 features.\n",
      "Fitting estimator with 1529 features.\n",
      "Fitting estimator with 1525 features.\n",
      "Fitting estimator with 1521 features.\n",
      "Fitting estimator with 1517 features.\n",
      "Fitting estimator with 1513 features.\n",
      "Fitting estimator with 1509 features.\n",
      "Fitting estimator with 1505 features.\n",
      "Fitting estimator with 1501 features.\n",
      "Fitting estimator with 1497 features.\n",
      "Fitting estimator with 1493 features.\n",
      "Fitting estimator with 1489 features.\n",
      "Fitting estimator with 1485 features.\n",
      "Fitting estimator with 1481 features.\n",
      "Fitting estimator with 1477 features.\n",
      "Fitting estimator with 1473 features.\n",
      "Fitting estimator with 1469 features.\n",
      "Fitting estimator with 1465 features.\n",
      "Fitting estimator with 1461 features.\n",
      "Fitting estimator with 1457 features.\n",
      "Fitting estimator with 1453 features.\n",
      "Fitting estimator with 1449 features.\n",
      "Fitting estimator with 1445 features.\n",
      "Fitting estimator with 1441 features.\n",
      "Fitting estimator with 1437 features.\n",
      "Fitting estimator with 1433 features.\n",
      "Fitting estimator with 1429 features.\n",
      "Fitting estimator with 1425 features.\n",
      "Fitting estimator with 1421 features.\n",
      "Fitting estimator with 1417 features.\n",
      "Fitting estimator with 1413 features.\n",
      "Fitting estimator with 1409 features.\n",
      "Fitting estimator with 1405 features.\n",
      "Fitting estimator with 1401 features.\n",
      "Fitting estimator with 1397 features.\n",
      "Fitting estimator with 1393 features.\n",
      "Fitting estimator with 1389 features.\n",
      "Fitting estimator with 1385 features.\n",
      "Fitting estimator with 1381 features.\n",
      "Fitting estimator with 1377 features.\n",
      "Fitting estimator with 1373 features.\n",
      "Fitting estimator with 1369 features.\n",
      "Fitting estimator with 1365 features.\n",
      "Fitting estimator with 1361 features.\n",
      "Fitting estimator with 1357 features.\n",
      "Fitting estimator with 1353 features.\n",
      "Fitting estimator with 1349 features.\n",
      "Fitting estimator with 1345 features.\n",
      "Fitting estimator with 1341 features.\n",
      "Fitting estimator with 1337 features.\n",
      "Fitting estimator with 1333 features.\n",
      "Fitting estimator with 1329 features.\n",
      "Fitting estimator with 1325 features.\n",
      "Fitting estimator with 1321 features.\n",
      "Fitting estimator with 1317 features.\n",
      "Fitting estimator with 1313 features.\n",
      "Fitting estimator with 1309 features.\n",
      "Fitting estimator with 1305 features.\n",
      "Fitting estimator with 1301 features.\n",
      "Fitting estimator with 1297 features.\n",
      "Fitting estimator with 1293 features.\n",
      "Fitting estimator with 1289 features.\n",
      "Fitting estimator with 1285 features.\n",
      "Fitting estimator with 1281 features.\n",
      "Fitting estimator with 1277 features.\n",
      "Fitting estimator with 1273 features.\n",
      "Fitting estimator with 1269 features.\n",
      "Fitting estimator with 1265 features.\n",
      "Fitting estimator with 1261 features.\n",
      "Fitting estimator with 1257 features.\n",
      "Fitting estimator with 1253 features.\n",
      "Fitting estimator with 1249 features.\n",
      "Fitting estimator with 1245 features.\n",
      "Fitting estimator with 1241 features.\n",
      "Fitting estimator with 1237 features.\n",
      "Fitting estimator with 1233 features.\n",
      "Fitting estimator with 1229 features.\n",
      "Fitting estimator with 1225 features.\n",
      "Fitting estimator with 1221 features.\n",
      "Fitting estimator with 1217 features.\n",
      "Fitting estimator with 1213 features.\n",
      "Fitting estimator with 1209 features.\n",
      "Fitting estimator with 1205 features.\n",
      "Fitting estimator with 1201 features.\n",
      "Fitting estimator with 1197 features.\n",
      "Fitting estimator with 1193 features.\n",
      "Fitting estimator with 1189 features.\n",
      "Fitting estimator with 1185 features.\n",
      "Fitting estimator with 1181 features.\n",
      "Fitting estimator with 1177 features.\n",
      "Fitting estimator with 1173 features.\n",
      "Fitting estimator with 1169 features.\n",
      "Fitting estimator with 1165 features.\n",
      "Fitting estimator with 1161 features.\n",
      "Fitting estimator with 1157 features.\n",
      "Fitting estimator with 1153 features.\n",
      "Fitting estimator with 1149 features.\n",
      "Fitting estimator with 1145 features.\n",
      "Fitting estimator with 1141 features.\n",
      "Fitting estimator with 1137 features.\n",
      "Fitting estimator with 1133 features.\n",
      "Fitting estimator with 1129 features.\n",
      "Fitting estimator with 1125 features.\n",
      "Fitting estimator with 1121 features.\n",
      "Fitting estimator with 1117 features.\n",
      "Fitting estimator with 1113 features.\n",
      "Fitting estimator with 1109 features.\n",
      "Fitting estimator with 1105 features.\n",
      "Fitting estimator with 1101 features.\n",
      "Fitting estimator with 1097 features.\n",
      "Fitting estimator with 1093 features.\n",
      "Fitting estimator with 1089 features.\n",
      "Fitting estimator with 1085 features.\n",
      "Fitting estimator with 1081 features.\n",
      "Fitting estimator with 1077 features.\n",
      "Fitting estimator with 1073 features.\n",
      "Fitting estimator with 1069 features.\n",
      "Fitting estimator with 1065 features.\n",
      "Fitting estimator with 1061 features.\n",
      "Fitting estimator with 1057 features.\n",
      "Fitting estimator with 1053 features.\n",
      "Fitting estimator with 1049 features.\n",
      "Fitting estimator with 1045 features.\n",
      "Fitting estimator with 1041 features.\n",
      "Fitting estimator with 1037 features.\n",
      "Fitting estimator with 1033 features.\n",
      "Fitting estimator with 1029 features.\n",
      "Fitting estimator with 1025 features.\n",
      "Fitting estimator with 1021 features.\n",
      "Fitting estimator with 1017 features.\n",
      "Fitting estimator with 1013 features.\n",
      "Fitting estimator with 1009 features.\n",
      "Fitting estimator with 1005 features.\n",
      "Fitting estimator with 1001 features.\n",
      "Fitting estimator with 997 features.\n",
      "Fitting estimator with 993 features.\n",
      "Fitting estimator with 989 features.\n",
      "Fitting estimator with 985 features.\n",
      "Fitting estimator with 981 features.\n",
      "Fitting estimator with 977 features.\n",
      "Fitting estimator with 973 features.\n",
      "Fitting estimator with 969 features.\n",
      "Fitting estimator with 965 features.\n",
      "Fitting estimator with 961 features.\n",
      "Fitting estimator with 957 features.\n",
      "Fitting estimator with 953 features.\n",
      "Fitting estimator with 949 features.\n",
      "Fitting estimator with 945 features.\n",
      "Fitting estimator with 941 features.\n",
      "Fitting estimator with 937 features.\n",
      "Fitting estimator with 933 features.\n",
      "Fitting estimator with 929 features.\n",
      "Fitting estimator with 925 features.\n",
      "Fitting estimator with 921 features.\n",
      "Fitting estimator with 917 features.\n",
      "Fitting estimator with 913 features.\n",
      "Fitting estimator with 909 features.\n",
      "Fitting estimator with 905 features.\n",
      "Fitting estimator with 901 features.\n",
      "Fitting estimator with 897 features.\n",
      "Fitting estimator with 893 features.\n",
      "Fitting estimator with 889 features.\n",
      "Fitting estimator with 885 features.\n",
      "Fitting estimator with 881 features.\n",
      "Fitting estimator with 877 features.\n",
      "Fitting estimator with 873 features.\n",
      "Fitting estimator with 869 features.\n",
      "Fitting estimator with 865 features.\n",
      "Fitting estimator with 861 features.\n",
      "Fitting estimator with 857 features.\n",
      "Fitting estimator with 853 features.\n",
      "Fitting estimator with 849 features.\n",
      "Fitting estimator with 845 features.\n",
      "Fitting estimator with 841 features.\n",
      "Fitting estimator with 837 features.\n",
      "Fitting estimator with 833 features.\n",
      "Fitting estimator with 829 features.\n",
      "Fitting estimator with 825 features.\n",
      "Fitting estimator with 821 features.\n",
      "Fitting estimator with 817 features.\n",
      "Fitting estimator with 813 features.\n",
      "Fitting estimator with 809 features.\n",
      "Fitting estimator with 805 features.\n",
      "Fitting estimator with 801 features.\n",
      "Fitting estimator with 797 features.\n",
      "Fitting estimator with 793 features.\n",
      "Fitting estimator with 789 features.\n",
      "Fitting estimator with 785 features.\n",
      "Fitting estimator with 781 features.\n",
      "Fitting estimator with 777 features.\n",
      "Fitting estimator with 773 features.\n",
      "Fitting estimator with 769 features.\n",
      "Fitting estimator with 765 features.\n",
      "Fitting estimator with 761 features.\n",
      "Fitting estimator with 757 features.\n",
      "Fitting estimator with 753 features.\n",
      "Fitting estimator with 749 features.\n",
      "Fitting estimator with 745 features.\n",
      "Fitting estimator with 741 features.\n",
      "Fitting estimator with 737 features.\n",
      "Fitting estimator with 733 features.\n",
      "Fitting estimator with 729 features.\n",
      "Fitting estimator with 725 features.\n",
      "Fitting estimator with 721 features.\n",
      "Fitting estimator with 717 features.\n",
      "Fitting estimator with 713 features.\n",
      "Fitting estimator with 709 features.\n",
      "Fitting estimator with 705 features.\n",
      "Fitting estimator with 701 features.\n",
      "Fitting estimator with 697 features.\n",
      "Fitting estimator with 693 features.\n",
      "Fitting estimator with 689 features.\n",
      "Fitting estimator with 685 features.\n",
      "Fitting estimator with 681 features.\n",
      "Fitting estimator with 677 features.\n",
      "Fitting estimator with 673 features.\n",
      "Fitting estimator with 669 features.\n",
      "Fitting estimator with 665 features.\n",
      "Fitting estimator with 661 features.\n",
      "Fitting estimator with 657 features.\n",
      "Fitting estimator with 653 features.\n",
      "Fitting estimator with 649 features.\n",
      "Fitting estimator with 645 features.\n",
      "Fitting estimator with 641 features.\n",
      "Fitting estimator with 637 features.\n"
     ]
    },
    {
     "name": "stdout",
     "output_type": "stream",
     "text": [
      "Fitting estimator with 633 features.\n",
      "Fitting estimator with 629 features.\n",
      "Fitting estimator with 625 features.\n",
      "Fitting estimator with 621 features.\n",
      "Fitting estimator with 617 features.\n",
      "Fitting estimator with 613 features.\n",
      "Fitting estimator with 609 features.\n",
      "Fitting estimator with 605 features.\n",
      "Fitting estimator with 601 features.\n",
      "Fitting estimator with 597 features.\n",
      "Fitting estimator with 593 features.\n",
      "Fitting estimator with 589 features.\n",
      "Fitting estimator with 585 features.\n",
      "Fitting estimator with 581 features.\n",
      "Fitting estimator with 577 features.\n",
      "Fitting estimator with 573 features.\n",
      "Fitting estimator with 569 features.\n",
      "Fitting estimator with 565 features.\n",
      "Fitting estimator with 561 features.\n",
      "Fitting estimator with 557 features.\n",
      "Fitting estimator with 553 features.\n",
      "Fitting estimator with 549 features.\n",
      "Fitting estimator with 545 features.\n",
      "Fitting estimator with 541 features.\n",
      "Fitting estimator with 537 features.\n",
      "Fitting estimator with 533 features.\n",
      "Fitting estimator with 529 features.\n",
      "Fitting estimator with 525 features.\n",
      "Fitting estimator with 521 features.\n",
      "Fitting estimator with 517 features.\n",
      "Fitting estimator with 513 features.\n",
      "Fitting estimator with 509 features.\n",
      "Fitting estimator with 505 features.\n",
      "Fitting estimator with 501 features.\n",
      "Fitting estimator with 497 features.\n",
      "Fitting estimator with 493 features.\n",
      "Fitting estimator with 489 features.\n",
      "Fitting estimator with 485 features.\n",
      "Fitting estimator with 481 features.\n",
      "Fitting estimator with 477 features.\n",
      "Fitting estimator with 473 features.\n",
      "Fitting estimator with 469 features.\n",
      "Fitting estimator with 465 features.\n",
      "Fitting estimator with 461 features.\n",
      "Fitting estimator with 457 features.\n",
      "Fitting estimator with 453 features.\n",
      "Fitting estimator with 449 features.\n",
      "Fitting estimator with 445 features.\n",
      "Fitting estimator with 441 features.\n",
      "Fitting estimator with 437 features.\n",
      "Fitting estimator with 433 features.\n",
      "Fitting estimator with 429 features.\n",
      "Fitting estimator with 425 features.\n",
      "Fitting estimator with 421 features.\n",
      "Fitting estimator with 417 features.\n",
      "Fitting estimator with 413 features.\n",
      "Fitting estimator with 409 features.\n",
      "Fitting estimator with 405 features.\n",
      "Fitting estimator with 401 features.\n",
      "Fitting estimator with 397 features.\n",
      "Fitting estimator with 393 features.\n",
      "Fitting estimator with 389 features.\n",
      "Fitting estimator with 385 features.\n",
      "Fitting estimator with 381 features.\n",
      "Fitting estimator with 377 features.\n",
      "Fitting estimator with 373 features.\n",
      "Fitting estimator with 369 features.\n",
      "Fitting estimator with 365 features.\n",
      "Fitting estimator with 361 features.\n",
      "Fitting estimator with 357 features.\n",
      "Fitting estimator with 353 features.\n",
      "Fitting estimator with 349 features.\n",
      "Fitting estimator with 345 features.\n",
      "Fitting estimator with 341 features.\n",
      "Fitting estimator with 337 features.\n",
      "Fitting estimator with 333 features.\n",
      "Fitting estimator with 329 features.\n",
      "Fitting estimator with 325 features.\n",
      "Fitting estimator with 321 features.\n",
      "Fitting estimator with 317 features.\n",
      "Fitting estimator with 313 features.\n",
      "Fitting estimator with 309 features.\n",
      "Fitting estimator with 305 features.\n",
      "Fitting estimator with 301 features.\n",
      "Fitting estimator with 297 features.\n",
      "Fitting estimator with 293 features.\n",
      "Fitting estimator with 289 features.\n",
      "Fitting estimator with 285 features.\n",
      "Fitting estimator with 281 features.\n",
      "Fitting estimator with 277 features.\n",
      "Fitting estimator with 273 features.\n",
      "Fitting estimator with 269 features.\n",
      "Fitting estimator with 265 features.\n",
      "Fitting estimator with 261 features.\n",
      "Fitting estimator with 257 features.\n",
      "Fitting estimator with 253 features.\n",
      "Fitting estimator with 249 features.\n",
      "Fitting estimator with 245 features.\n",
      "Fitting estimator with 241 features.\n",
      "Fitting estimator with 237 features.\n",
      "Fitting estimator with 233 features.\n",
      "Fitting estimator with 229 features.\n",
      "Fitting estimator with 225 features.\n",
      "Fitting estimator with 221 features.\n",
      "Fitting estimator with 217 features.\n",
      "Fitting estimator with 213 features.\n",
      "Fitting estimator with 209 features.\n",
      "Fitting estimator with 205 features.\n",
      "Fitting estimator with 201 features.\n",
      "Fitting estimator with 197 features.\n",
      "Fitting estimator with 193 features.\n",
      "Fitting estimator with 189 features.\n",
      "Fitting estimator with 185 features.\n",
      "Fitting estimator with 181 features.\n",
      "Fitting estimator with 177 features.\n",
      "Fitting estimator with 173 features.\n",
      "Fitting estimator with 169 features.\n",
      "Fitting estimator with 165 features.\n",
      "Fitting estimator with 161 features.\n",
      "Fitting estimator with 157 features.\n",
      "Fitting estimator with 153 features.\n",
      "Fitting estimator with 149 features.\n",
      "Fitting estimator with 145 features.\n",
      "Fitting estimator with 141 features.\n",
      "Fitting estimator with 137 features.\n",
      "Fitting estimator with 133 features.\n",
      "Fitting estimator with 129 features.\n",
      "Fitting estimator with 125 features.\n",
      "Fitting estimator with 121 features.\n",
      "Fitting estimator with 117 features.\n",
      "Fitting estimator with 113 features.\n",
      "Fitting estimator with 109 features.\n",
      "Fitting estimator with 105 features.\n",
      "Fitting estimator with 101 features.\n",
      "Fitting estimator with 97 features.\n",
      "Fitting estimator with 93 features.\n",
      "Fitting estimator with 89 features.\n",
      "Fitting estimator with 85 features.\n",
      "Fitting estimator with 81 features.\n",
      "Fitting estimator with 77 features.\n",
      "Fitting estimator with 73 features.\n",
      "Fitting estimator with 69 features.\n",
      "Fitting estimator with 65 features.\n",
      "Wall time: 19 s\n"
     ]
    },
    {
     "data": {
      "text/plain": [
       "RFE(estimator=LinearSVC(C=1.0, class_weight=None, dual=True, fit_intercept=True,\n",
       "     intercept_scaling=1, loss='squared_hinge', max_iter=1000,\n",
       "     multi_class='ovr', penalty='l2', random_state=None, tol=0.0001,\n",
       "     verbose=0),\n",
       "  n_features_to_select=64, step=4, verbose=1)"
      ]
     },
     "execution_count": 15,
     "metadata": {},
     "output_type": "execute_result"
    }
   ],
   "source": [
    "rfe = feature_selection.RFE(svm.LinearSVC(), 64, step=4, verbose=1)\n",
    "%time rfe.fit(X_train, y_train)"
   ]
  },
  {
   "cell_type": "code",
   "execution_count": 16,
   "metadata": {
    "collapsed": true
   },
   "outputs": [],
   "source": [
    "X = rfe.transform(X)"
   ]
  },
  {
   "cell_type": "code",
   "execution_count": 20,
   "metadata": {},
   "outputs": [
    {
     "data": {
      "text/plain": [
       "0.8055555555555556"
      ]
     },
     "execution_count": 20,
     "metadata": {},
     "output_type": "execute_result"
    }
   ],
   "source": [
    "pipe = pipeline.Pipeline([(\"model\", linear_model.LogisticRegression())])\n",
    "\n",
    "search_logreg = {\n",
    "    \"model\": [linear_model.LogisticRegression(dual=True, solver=\"liblinear\")],\n",
    "    \"model__C\": Real(0.1, 100, \"log_uniform\")\n",
    "}\n",
    "\n",
    "search_svm_rbf = {\n",
    "    \"model\": [svm.SVC(kernel=\"rbf\")],\n",
    "    \"model__C\": Real(0.1, 100, \"log_uniform\"),\n",
    "    \"model__gamma\": Real(0.1, 100, \"log_uniform\")\n",
    "}\n",
    "\n",
    "search_svm_linear = {\n",
    "    \"model\": [svm.LinearSVC()],\n",
    "    \"model__C\": Real(0.1, 100, \"log_uniform\"),    \n",
    "}\n",
    "\n",
    "search_svm_poly = {\n",
    "    \"model\": [svm.SVC(kernel=\"poly\")],\n",
    "    \"model__C\": Real(0.1, 100, \"log_uniform\"),\n",
    "    \"model__degree\": Integer(1, 10),\n",
    "    \"model__gamma\": Real(1e-6, 1e3, \"log_uniform\")\n",
    "}\n",
    "\n",
    "search_svm_rbf = {\n",
    "    \"model\": [svm.SVC(kernel=\"rbf\")],\n",
    "    \"model__C\": Real(0.1, 100, \"log_uniform\"),\n",
    "    \"model__gamma\": Real(1e-6, 1e3, \"log_uniform\")\n",
    "}\n",
    "\n",
    "search_forest = {\n",
    "    \"model\": [ensemble.RandomForestClassifier()],\n",
    "    \"model__n_estimators\": Integer(5, 500),\n",
    "    \"model__max_depth\": Integer(2, 5),\n",
    "    \"model__min_samples_split\": Integer(2, 10),\n",
    "    \"model__min_samples_leaf\": Integer(1, 10)\n",
    "}\n",
    "\n",
    "search_adaboost = {\n",
    "    \"model\": [ensemble.AdaBoostClassifier()],\n",
    "    \"model__n_estimators\": Integer(5, 500)\n",
    "}\n",
    "\n",
    "search_nb = {\n",
    "    \"model\": [naive_bayes.BernoulliNB()],\n",
    "    \"model__alpha\": Integer(1, 10)\n",
    "}\n",
    "\n",
    "search_knn = {\n",
    "    \"model\": [neighbors.KNeighborsClassifier()],\n",
    "    \"model__n_neighbors\": Integer(1, 20)\n",
    "}\n",
    "\n",
    "opt = skopt.BayesSearchCV(pipe, [\n",
    "    (search_logreg, 20),\n",
    "    (search_svm_linear, 20),\n",
    "    (search_svm_poly, 20),\n",
    "    (search_svm_rbf, 20),\n",
    "    (search_forest, 20),\n",
    "    (search_adaboost, 8),\n",
    "    (search_nb, 8),\n",
    "    (search_knn, 10)\n",
    "], n_jobs=10, verbose=0)\n",
    "\n",
    "opt.fit(X, y)\n",
    "opt.best_score_"
   ]
  },
  {
   "cell_type": "code",
   "execution_count": 21,
   "metadata": {},
   "outputs": [
    {
     "data": {
      "text/plain": [
       "0.8363095238095237"
      ]
     },
     "execution_count": 21,
     "metadata": {},
     "output_type": "execute_result"
    }
   ],
   "source": [
    "model_selection.cross_val_score(opt.best_estimator_, X, y, cv=10).mean()"
   ]
  },
  {
   "cell_type": "code",
   "execution_count": 22,
   "metadata": {},
   "outputs": [
    {
     "data": {
      "text/plain": [
       "Pipeline(memory=None,\n",
       "     steps=[('model', KNeighborsClassifier(algorithm='auto', leaf_size=30, metric='minkowski',\n",
       "           metric_params=None, n_jobs=1, n_neighbors=5, p=2,\n",
       "           weights='uniform'))])"
      ]
     },
     "execution_count": 22,
     "metadata": {},
     "output_type": "execute_result"
    }
   ],
   "source": [
    "opt.best_estimator_"
   ]
  },
  {
   "cell_type": "markdown",
   "metadata": {
    "collapsed": true
   },
   "source": [
    "# TODO:\n",
    "\n",
    "- search hyperparametru a algoritmu, vyzouset vsechno mozny\n",
    "- zkusit tpot\n",
    "- clusterovani + dendrogram\n",
    "- najit subset genu, ktery porad umi klasifikovat (search nad ruznyma podmnozinama)\n",
    "- vizualizace confusion matice\n",
    "- ROC/AUC\n",
    "- vizualizace clusteru"
   ]
  },
  {
   "cell_type": "markdown",
   "metadata": {},
   "source": [
    "# Genetic Programming with TPOT"
   ]
  },
  {
   "cell_type": "markdown",
   "metadata": {},
   "source": [
    "[TPOT](https://github.com/EpistasisLab/tpot) uses genetic programming to automatically create a ML pipeline."
   ]
  },
  {
   "cell_type": "code",
   "execution_count": 23,
   "metadata": {
    "collapsed": true
   },
   "outputs": [],
   "source": [
    "import tpot"
   ]
  },
  {
   "cell_type": "code",
   "execution_count": 31,
   "metadata": {
    "collapsed": true
   },
   "outputs": [
    {
     "name": "stdout",
     "output_type": "stream",
     "text": [
      "30 operators have been imported by TPOT.\n"
     ]
    },
    {
     "name": "stderr",
     "output_type": "stream",
     "text": [
      "                                                                                                                       \r"
     ]
    },
    {
     "name": "stdout",
     "output_type": "stream",
     "text": [
      "_pre_test decorator: _random_mutation_operator: num_test=0 Expected n_neighbors <= n_samples,  but n_samples = 50, n_neighbors = 83\n"
     ]
    },
    {
     "name": "stderr",
     "output_type": "stream",
     "text": [
      "                                                                                                                       \r"
     ]
    },
    {
     "name": "stdout",
     "output_type": "stream",
     "text": [
      "Pipeline encountered that has previously been evaluated during the optimization process. Using the score from the previous evaluation.\n"
     ]
    },
    {
     "name": "stderr",
     "output_type": "stream",
     "text": [
      "                                                                                                                       \r"
     ]
    },
    {
     "name": "stdout",
     "output_type": "stream",
     "text": [
      "_pre_test decorator: _random_mutation_operator: num_test=0 Input X must be non-negative\n"
     ]
    },
    {
     "name": "stderr",
     "output_type": "stream",
     "text": [
      "                                                                                                                       \r"
     ]
    },
    {
     "name": "stdout",
     "output_type": "stream",
     "text": [
      "Pipeline encountered that has previously been evaluated during the optimization process. Using the score from the previous evaluation.\n"
     ]
    },
    {
     "name": "stderr",
     "output_type": "stream",
     "text": [
      "                                                                                                                       \r"
     ]
    },
    {
     "name": "stdout",
     "output_type": "stream",
     "text": [
      "_pre_test decorator: _random_mutation_operator: num_test=0 Input X must be non-negative\n"
     ]
    },
    {
     "name": "stderr",
     "output_type": "stream",
     "text": [
      "                                                                                                                       \r"
     ]
    },
    {
     "name": "stdout",
     "output_type": "stream",
     "text": [
      "_pre_test decorator: _random_mutation_operator: num_test=1 Unsupported set of arguments: The combination of penalty='l2' and loss='hinge' are not supported when dual=False, Parameters: penalty='l2', loss='hinge', dual=False\n"
     ]
    },
    {
     "name": "stderr",
     "output_type": "stream",
     "text": [
      "                                                                                                                       \r"
     ]
    },
    {
     "name": "stdout",
     "output_type": "stream",
     "text": [
      "_pre_test decorator: _random_mutation_operator: num_test=0 Expected n_neighbors <= n_samples,  but n_samples = 50, n_neighbors = 81\n"
     ]
    },
    {
     "name": "stderr",
     "output_type": "stream",
     "text": [
      "                                                                                                                       \r"
     ]
    },
    {
     "name": "stdout",
     "output_type": "stream",
     "text": [
      "_pre_test decorator: _random_mutation_operator: num_test=0 Input X must be non-negative\n"
     ]
    },
    {
     "name": "stderr",
     "output_type": "stream",
     "text": [
      "                                                                                                                       \r"
     ]
    },
    {
     "name": "stdout",
     "output_type": "stream",
     "text": [
      "_pre_test decorator: _random_mutation_operator: num_test=0 Input X must be non-negative\n"
     ]
    },
    {
     "name": "stderr",
     "output_type": "stream",
     "text": [
      "                                                                                                                       \r"
     ]
    },
    {
     "name": "stdout",
     "output_type": "stream",
     "text": [
      "Pipeline encountered that has previously been evaluated during the optimization process. Using the score from the previous evaluation.\n"
     ]
    },
    {
     "name": "stderr",
     "output_type": "stream",
     "text": [
      "                                                                                                                       \r"
     ]
    },
    {
     "name": "stdout",
     "output_type": "stream",
     "text": [
      "_pre_test decorator: _random_mutation_operator: num_test=0 Unsupported set of arguments: The combination of penalty='l1' and loss='squared_hinge' are not supported when dual=True, Parameters: penalty='l1', loss='squared_hinge', dual=True\n"
     ]
    },
    {
     "name": "stderr",
     "output_type": "stream",
     "text": [
      "                                                                                                                       \r"
     ]
    },
    {
     "name": "stdout",
     "output_type": "stream",
     "text": [
      "_pre_test decorator: _random_mutation_operator: num_test=0 Input X must be non-negative\n"
     ]
    },
    {
     "name": "stderr",
     "output_type": "stream",
     "text": [
      "                                                                                                                       \r"
     ]
    },
    {
     "name": "stdout",
     "output_type": "stream",
     "text": [
      "_pre_test decorator: _random_mutation_operator: num_test=0 Input X must be non-negative\n"
     ]
    },
    {
     "name": "stderr",
     "output_type": "stream",
     "text": [
      "                                                                                                                       \r"
     ]
    },
    {
     "name": "stdout",
     "output_type": "stream",
     "text": [
      "_pre_test decorator: _random_mutation_operator: num_test=0 Unsupported set of arguments: The combination of penalty='l1' and loss='squared_hinge' are not supported when dual=True, Parameters: penalty='l1', loss='squared_hinge', dual=True\n"
     ]
    },
    {
     "name": "stderr",
     "output_type": "stream",
     "text": [
      "                                                                                                                       \r"
     ]
    },
    {
     "name": "stdout",
     "output_type": "stream",
     "text": [
      "_pre_test decorator: _random_mutation_operator: num_test=0 Unsupported set of arguments: The combination of penalty='l1' and loss='hinge' is not supported, Parameters: penalty='l1', loss='hinge', dual=False\n"
     ]
    },
    {
     "name": "stderr",
     "output_type": "stream",
     "text": [
      "                                                                                                                       \r"
     ]
    },
    {
     "data": {
      "text/plain": [
       "TPOTClassifier(config_dict={'sklearn.naive_bayes.GaussianNB': {}, 'sklearn.naive_bayes.BernoulliNB': {'alpha': [0.001, 0.01, 0.1, 1.0, 10.0, 100.0], 'fit_prior': [True, False]}, 'sklearn.naive_bayes.MultinomialNB': {'alpha': [0.001, 0.01, 0.1, 1.0, 10.0, 100.0], 'fit_prior': [True, False]}, 'sklearn.tree.DecisionT....3 , 0.35, 0.4 , 0.45, 0.5 , 0.55,\n",
       "       0.6 , 0.65, 0.7 , 0.75, 0.8 , 0.85, 0.9 , 0.95, 1.  ])}}}},\n",
       "        crossover_rate=0.1, cv=5, disable_update_check=False,\n",
       "        early_stop=None, generations=20, max_eval_time_mins=5,\n",
       "        max_time_mins=None, memory=None, mutation_rate=0.9, n_jobs=10,\n",
       "        offspring_size=5, periodic_checkpoint_folder=None,\n",
       "        population_size=5, random_state=None, scoring=None, subsample=1.0,\n",
       "        verbosity=21, warm_start=False)"
      ]
     },
     "execution_count": 31,
     "metadata": {},
     "output_type": "execute_result"
    }
   ],
   "source": [
    "pot = tpot.TPOTClassifier(generations=20, population_size=5, verbosity=2, n_jobs=10)\n",
    "pot.fit(X, y)"
   ]
  },
  {
   "cell_type": "code",
   "execution_count": 32,
   "metadata": {
    "collapsed": true
   },
   "outputs": [
    {
     "data": {
      "text/plain": [
       "True"
      ]
     },
     "execution_count": 32,
     "metadata": {},
     "output_type": "execute_result"
    }
   ],
   "source": [
    "pot.export(\"best_tpot.py\")"
   ]
  },
  {
   "cell_type": "code",
   "execution_count": 33,
   "metadata": {
    "collapsed": true
   },
   "outputs": [
    {
     "name": "stdout",
     "output_type": "stream",
     "text": [
      "import numpy as np\n",
      "import pandas as pd\n",
      "from sklearn.model_selection import train_test_split\n",
      "from sklearn.naive_bayes import BernoulliNB\n",
      "\n",
      "# NOTE: Make sure that the class is labeled 'target' in the data file\n",
      "tpot_data = pd.read_csv('PATH/TO/DATA/FILE', sep='COLUMN_SEPARATOR', dtype=np.float64)\n",
      "features = tpot_data.drop('target', axis=1).values\n",
      "training_features, testing_features, training_target, testing_target = \\\n",
      "            train_test_split(features, tpot_data['target'].values, random_state=42)\n",
      "\n",
      "# Score on the training set was:0.9285714285714286\n",
      "exported_pipeline = BernoulliNB(alpha=10.0, fit_prior=False)\n",
      "\n",
      "exported_pipeline.fit(training_features, training_target)\n",
      "results = exported_pipeline.predict(testing_features)\n"
     ]
    }
   ],
   "source": [
    "!type \"best_tpot.py\""
   ]
  },
  {
   "cell_type": "code",
   "execution_count": 36,
   "metadata": {},
   "outputs": [
    {
     "data": {
      "text/plain": [
       "0.9154761904761906"
      ]
     },
     "execution_count": 36,
     "metadata": {},
     "output_type": "execute_result"
    }
   ],
   "source": [
    "model_selection.cross_val_score(naive_bayes.BernoulliNB(alpha=10.0, fit_prior=False), X, y, cv=10).mean()"
   ]
  },
  {
   "cell_type": "markdown",
   "metadata": {},
   "source": [
    "Using ExtraTrees feature importance classifier"
   ]
  },
  {
   "cell_type": "code",
   "execution_count": null,
   "metadata": {
    "collapsed": true,
    "scrolled": false
   },
   "outputs": [],
   "source": [
    "cls = ensemble.ExtraTreesClassifier(n_estimators=500)\n",
    "cls.fit(X_embed, y)\n",
    "\n",
    "important = np.argsort(cls.feature_importances_)[-100:]\n",
    "plot(important)\n",
    "plot(important, train=False)\n",
    "\n",
    "print(cls.score(pca.transform(X_test), y_test))"
   ]
  },
  {
   "cell_type": "code",
   "execution_count": null,
   "metadata": {},
   "outputs": [],
   "source": [
    "opt = skopt.BayesSearchCV(svm.SVC(),\n",
    "                   {\n",
    "                       \"C\": Real(1e-6, 1e6, prior=\"log_uniform\"),\n",
    "                       \"gamma\": Real(1e-6, 1e6, prior=\"log_uniform\"),\n",
    "                       \"degree\": Integer(1, 8),\n",
    "                       \"kernel\": Categorical([\"linear\", \"poly\", \"rbf\"])\n",
    "                   }, n_jobs=10)\n",
    "\n",
    "opt.fit(X, y)"
   ]
  },
  {
   "cell_type": "code",
   "execution_count": null,
   "metadata": {},
   "outputs": [],
   "source": [
    "opt.best_params_"
   ]
  },
  {
   "cell_type": "code",
   "execution_count": null,
   "metadata": {},
   "outputs": [],
   "source": [
    "metrics.confusion_matrix(y, opt.best_estimator_.predict(X))"
   ]
  },
  {
   "cell_type": "code",
   "execution_count": null,
   "metadata": {
    "collapsed": true,
    "scrolled": true
   },
   "outputs": [],
   "source": [
    "pipe = pipeline.Pipeline([\n",
    "#     (\"selection\", feature_selection.SelectKBest()),\n",
    "    (\"model\", svm.SVC())\n",
    "])\n",
    "\n",
    "linear_svm_search = {\n",
    "#     \"selection__k\": Integer(20, X.shape[0]),\n",
    "    \"model\": [svm.LinearSVC()]\n",
    "}\n",
    "\n",
    "svc_search = {\n",
    "#     \"selection__k\": Integer(20, X.shape[0]),\n",
    "    \"model\": [svm.SVC()],\n",
    "    \"model__C\": Real(1e-6, 1e6, prior=\"log_uniform\"),\n",
    "    \"model__gamma\": Real(1e-6, 1e6, prior=\"log_uniform\"),\n",
    "    \"model__degree\": Integer(1, 8),\n",
    "    \"model__kernel\": Categorical([\"linear\", \"poly\", \"rbf\"])\n",
    "}\n",
    "\n",
    "opt = skopt.BayesSearchCV(pipe, [(linear_svm_search, 10), (svc_search, 100)], n_jobs=8)\n",
    "\n",
    "opt.fit(X_embed, y).score(X_embed_test, y_test)"
   ]
  },
  {
   "cell_type": "code",
   "execution_count": null,
   "metadata": {
    "collapsed": true
   },
   "outputs": [],
   "source": []
  },
  {
   "cell_type": "code",
   "execution_count": null,
   "metadata": {
    "collapsed": true
   },
   "outputs": [],
   "source": []
  },
  {
   "cell_type": "code",
   "execution_count": null,
   "metadata": {},
   "outputs": [],
   "source": [
    "clf = pipeline.make_pipeline(ReliefF(n_features_to_select=2, n_neighbors=100, n_jobs=8, verbose=2),\n",
    "                         ensemble.RandomForestClassifier(n_estimators=100))\n",
    "\n",
    "print(np.mean(model_selection.cross_val_score(clf, X, y)))"
   ]
  },
  {
   "cell_type": "code",
   "execution_count": null,
   "metadata": {},
   "outputs": [],
   "source": [
    "rel = ReliefF(n_features_to_select=2, n_neighbors=100, n_jobs=8, verbose=2).fit(X, y)"
   ]
  },
  {
   "cell_type": "code",
   "execution_count": null,
   "metadata": {
    "collapsed": true
   },
   "outputs": [],
   "source": [
    "X_rel = rel.transform(X)\n",
    "# X_test_rel = rel.transform(X_test)"
   ]
  },
  {
   "cell_type": "code",
   "execution_count": null,
   "metadata": {},
   "outputs": [],
   "source": [
    "params = {\n",
    "    \"n_estimators\": Integer(1, 1000),\n",
    "    \"min_samples_leaf\": Integer(2, 10),\n",
    "    \"min_samples_split\": Integer(2, 10)    \n",
    "}\n",
    "\n",
    "opt = skopt.BayesSearchCV(\n",
    "    ensemble.RandomForestClassifier(),\n",
    "    params\n",
    ")\n",
    "\n",
    "opt.fit(X_rel, y)"
   ]
  },
  {
   "cell_type": "code",
   "execution_count": null,
   "metadata": {},
   "outputs": [],
   "source": [
    "opt.best_params_"
   ]
  },
  {
   "cell_type": "code",
   "execution_count": null,
   "metadata": {
    "collapsed": true
   },
   "outputs": [],
   "source": [
    "forest.fit(X_rel, y).score(X_test_rel, y_test)"
   ]
  },
  {
   "cell_type": "code",
   "execution_count": null,
   "metadata": {},
   "outputs": [],
   "source": [
    "model_selection.cross_val_score(ensemble.RandomForestClassifier(n_estimators=500),\n",
    "                                      X_rel, y, cv=model_selection.LeaveOneOut(), n_jobs=8).mean()"
   ]
  },
  {
   "cell_type": "code",
   "execution_count": null,
   "metadata": {
    "collapsed": true
   },
   "outputs": [],
   "source": [
    "forest.fit(X_rel, y).score(X_test_rel, y_test)"
   ]
  },
  {
   "cell_type": "code",
   "execution_count": null,
   "metadata": {
    "collapsed": true
   },
   "outputs": [],
   "source": [
    "%load_ext rpy2.ipython"
   ]
  },
  {
   "cell_type": "code",
   "execution_count": null,
   "metadata": {
    "collapsed": true
   },
   "outputs": [],
   "source": [
    "%%R\n",
    "install.packages(\"discretization\")\n",
    "library(\"discretization\")"
   ]
  },
  {
   "cell_type": "code",
   "execution_count": null,
   "metadata": {
    "collapsed": true,
    "scrolled": true
   },
   "outputs": [],
   "source": [
    "rfe = feature_selection.RFE(svm.LinearSVC(), 64, step=3, verbose=1)\n",
    "%time rfe.fit(X, y)"
   ]
  },
  {
   "cell_type": "code",
   "execution_count": null,
   "metadata": {
    "collapsed": true
   },
   "outputs": [],
   "source": [
    "X_rfe = rfe.transform(X)\n",
    "X_test_rfe = rfe.transform(X_test)"
   ]
  },
  {
   "cell_type": "code",
   "execution_count": null,
   "metadata": {
    "collapsed": true
   },
   "outputs": [],
   "source": [
    "plt.imshow(X_rfe)"
   ]
  },
  {
   "cell_type": "code",
   "execution_count": null,
   "metadata": {
    "collapsed": true
   },
   "outputs": [],
   "source": [
    "plt.imshow(X_test_rfe)"
   ]
  },
  {
   "cell_type": "code",
   "execution_count": null,
   "metadata": {
    "collapsed": true
   },
   "outputs": [],
   "source": [
    "svm.SVC(kernel=\"poly\").fit(X_rfe, y).score(X_test_rfe, y_test)"
   ]
  },
  {
   "cell_type": "code",
   "execution_count": null,
   "metadata": {
    "collapsed": true
   },
   "outputs": [],
   "source": [
    "ensemble.ExtraTreesClassifier(n_estimators=10, min_samples_leaf=3, min_samples_split=3).fit(X_rfe, y).score(X_test_rfe, y_test)"
   ]
  },
  {
   "cell_type": "code",
   "execution_count": null,
   "metadata": {
    "collapsed": true
   },
   "outputs": [],
   "source": []
  },
  {
   "cell_type": "code",
   "execution_count": null,
   "metadata": {
    "collapsed": true
   },
   "outputs": [],
   "source": [
    "z_dim = 100\n",
    "\n",
    "tf.reset_default_graph()\n",
    "\n",
    "img = tf.placeholder(tf.float32, shape=[None, input_shape], name=\"img\")\n",
    "\n",
    "def encoder(img):\n",
    "    with tf.variable_scope(\"encoder\"):\n",
    "        hidden = tf.layers.dense(img, 500, activation=tf.nn.relu)\n",
    "        hidden = tf.layers.dense(hidden, 500, activation=tf.nn.relu)\n",
    "    \n",
    "    return hidden\n",
    "\n",
    "def decoder(z):\n",
    "    with tf.variable_scope(\"decoder\"):\n",
    "        hidden = tf.layers.dense(z, 500, activation=tf.nn.relu)\n",
    "        hidden = tf.layers.dense(hidden, 500, activation=tf.nn.relu)\n",
    "        \n",
    "    out = tf.layers.dense(hidden, input_shape, name=\"output\")    \n",
    "    return out\n",
    "\n",
    "z = encoder(img)\n",
    "out = decoder(z)\n",
    "\n",
    "loss = tf.losses.mean_squared_error(img, out)\n",
    "\n",
    "global_step = tf.train.create_global_step()\n",
    "training = tf.train.AdamOptimizer().minimize(loss, global_step=global_step, name=\"training\")\n",
    "\n",
    "summary_writer = tf.contrib.summary.create_file_writer(\"logs\", flush_millis=5*1000)\n",
    "\n",
    "with summary_writer.as_default(), tf.contrib.summary.record_summaries_every_n_global_steps(100):\n",
    "    summaries = [\n",
    "        tf.contrib.summary.scalar(\"loss\", loss)\n",
    "    ]\n",
    "    \n",
    "try:\n",
    "    sess.close()\n",
    "except NameError:\n",
    "    print(\"No session defined, continuing.\")\n",
    "\n",
    "sess = tf.InteractiveSession()\n",
    "\n",
    "with summary_writer.as_default():\n",
    "    tf.contrib.summary.initialize(session=sess, graph=tf.get_default_graph())\n",
    "\n",
    "init = tf.global_variables_initializer()\n",
    "sess.run(init)"
   ]
  },
  {
   "cell_type": "code",
   "execution_count": null,
   "metadata": {
    "collapsed": true
   },
   "outputs": [],
   "source": [
    "for _ in range(10000):\n",
    "    sess.run([training, summaries], feed_dict={img: X})"
   ]
  },
  {
   "cell_type": "code",
   "execution_count": null,
   "metadata": {
    "collapsed": true
   },
   "outputs": [],
   "source": [
    "X_embed = sess.run(z, feed_dict={img: X})\n",
    "X_test_embed = sess.run(z, feed_dict={img: X_test})"
   ]
  },
  {
   "cell_type": "code",
   "execution_count": null,
   "metadata": {
    "collapsed": true
   },
   "outputs": [],
   "source": [
    "svm.LinearSVC().fit(X_embed, y).score(X_test_embed, y_test)"
   ]
  },
  {
   "cell_type": "code",
   "execution_count": null,
   "metadata": {
    "collapsed": true
   },
   "outputs": [],
   "source": [
    "dummy.DummyClassifier().fit(X_embed, y).score(X_test_embed, y_test)"
   ]
  },
  {
   "cell_type": "code",
   "execution_count": null,
   "metadata": {
    "collapsed": true
   },
   "outputs": [],
   "source": [
    "linear_model.LogisticRegression(penalty=\"l1\", solver=\"liblinear\", class_weight=\"balanced\", C=.0001).fit(X_rfe, y).score(X_test_rfe, y_test)"
   ]
  },
  {
   "cell_type": "code",
   "execution_count": null,
   "metadata": {
    "collapsed": true
   },
   "outputs": [],
   "source": []
  },
  {
   "cell_type": "code",
   "execution_count": null,
   "metadata": {
    "collapsed": true
   },
   "outputs": [],
   "source": []
  },
  {
   "cell_type": "code",
   "execution_count": null,
   "metadata": {
    "collapsed": true
   },
   "outputs": [],
   "source": []
  },
  {
   "cell_type": "code",
   "execution_count": null,
   "metadata": {
    "collapsed": true
   },
   "outputs": [],
   "source": [
    "km = cluster.KMeans(3).fit(X_test.T)"
   ]
  },
  {
   "cell_type": "code",
   "execution_count": null,
   "metadata": {
    "collapsed": true
   },
   "outputs": [],
   "source": [
    "X_vis = decomposition.PCA(2).fit_transform(X_test.T)"
   ]
  },
  {
   "cell_type": "code",
   "execution_count": null,
   "metadata": {
    "collapsed": true
   },
   "outputs": [],
   "source": [
    "assignments = np.argmax(km.fit_transform(X_test.T), axis=1)"
   ]
  },
  {
   "cell_type": "code",
   "execution_count": null,
   "metadata": {
    "collapsed": true
   },
   "outputs": [],
   "source": [
    "plt.scatter(X_vis[:,0], X_vis[:,1], c=assignments)"
   ]
  },
  {
   "cell_type": "code",
   "execution_count": null,
   "metadata": {
    "collapsed": true
   },
   "outputs": [],
   "source": [
    "X[:,assignments == 2].shape"
   ]
  },
  {
   "cell_type": "code",
   "execution_count": null,
   "metadata": {
    "collapsed": true
   },
   "outputs": [],
   "source": [
    "gene_1 = X[:,assignments == 1]"
   ]
  },
  {
   "cell_type": "code",
   "execution_count": null,
   "metadata": {
    "collapsed": true
   },
   "outputs": [],
   "source": [
    "pca = decomposition.PCA(100).fit(gene_1)"
   ]
  },
  {
   "cell_type": "code",
   "execution_count": null,
   "metadata": {
    "collapsed": true
   },
   "outputs": [],
   "source": [
    "plt.plot(pca.explained_variance_ratio_.cumsum())"
   ]
  },
  {
   "cell_type": "code",
   "execution_count": null,
   "metadata": {
    "collapsed": true
   },
   "outputs": [],
   "source": [
    "c = 1\n",
    "linear_model.LogisticRegression().fit(X[:,assignments == c], y).score(X_test[:,assignments == c], y_test)"
   ]
  },
  {
   "cell_type": "code",
   "execution_count": null,
   "metadata": {
    "collapsed": true
   },
   "outputs": [],
   "source": []
  },
  {
   "cell_type": "code",
   "execution_count": null,
   "metadata": {
    "collapsed": true
   },
   "outputs": [],
   "source": []
  },
  {
   "cell_type": "code",
   "execution_count": null,
   "metadata": {
    "collapsed": true
   },
   "outputs": [],
   "source": [
    "from IPython.display import clear_output, Image, display, HTML\n",
    "\n",
    "def strip_consts(graph_def, max_const_size=32):\n",
    "    \"\"\"Strip large constant values from graph_def.\"\"\"\n",
    "    strip_def = tf.GraphDef()\n",
    "    for n0 in graph_def.node:\n",
    "        n = strip_def.node.add() \n",
    "        n.MergeFrom(n0)\n",
    "        if n.op == 'Const':\n",
    "            tensor = n.attr['value'].tensor\n",
    "            size = len(tensor.tensor_content)\n",
    "            if size > max_const_size:\n",
    "                tensor.tensor_content = \"<stripped %d bytes>\"%size\n",
    "    return strip_def\n",
    "\n",
    "def show_graph(graph_def, max_const_size=32):\n",
    "    \"\"\"Visualize TensorFlow graph.\"\"\"\n",
    "    if hasattr(graph_def, 'as_graph_def'):\n",
    "        graph_def = graph_def.as_graph_def()\n",
    "    strip_def = strip_consts(graph_def, max_const_size=max_const_size)\n",
    "    code = \"\"\"\n",
    "        <script src=\"//cdnjs.cloudflare.com/ajax/libs/polymer/0.3.3/platform.js\"></script>\n",
    "        <script>\n",
    "          function load() {{\n",
    "            document.getElementById(\"{id}\").pbtxt = {data};\n",
    "          }}\n",
    "        </script>\n",
    "        <link rel=\"import\" href=\"https://tensorboard.appspot.com/tf-graph-basic.build.html\" onload=load()>\n",
    "        <div style=\"height:600px\">\n",
    "          <tf-graph-basic id=\"{id}\"></tf-graph-basic>\n",
    "        </div>\n",
    "    \"\"\".format(data=repr(str(strip_def)), id='graph'+str(np.random.rand()))\n",
    "\n",
    "    iframe = \"\"\"\n",
    "        <iframe seamless style=\"width:1200px;height:620px;border:0\" srcdoc=\"{}\"></iframe>\n",
    "    \"\"\".format(code.replace('\"', '&quot;'))\n",
    "    display(HTML(iframe))"
   ]
  },
  {
   "cell_type": "code",
   "execution_count": null,
   "metadata": {
    "collapsed": true
   },
   "outputs": [],
   "source": []
  },
  {
   "cell_type": "code",
   "execution_count": null,
   "metadata": {
    "collapsed": true
   },
   "outputs": [],
   "source": []
  },
  {
   "cell_type": "code",
   "execution_count": null,
   "metadata": {
    "collapsed": true
   },
   "outputs": [],
   "source": []
  },
  {
   "cell_type": "markdown",
   "metadata": {
    "collapsed": true
   },
   "source": [
    "# References\n",
    "\n",
    "- Golub, Todd R., et al. \"Molecular classification of cancer: class discovery and class prediction by gene expression monitoring.\" science 286.5439 (1999): 531-537."
   ]
  },
  {
   "cell_type": "code",
   "execution_count": null,
   "metadata": {
    "collapsed": true
   },
   "outputs": [],
   "source": []
  }
 ],
 "metadata": {
  "kernelspec": {
   "display_name": "Python 3",
   "language": "python",
   "name": "python3"
  },
  "varInspector": {
   "cols": {
    "lenName": 16,
    "lenType": 16,
    "lenVar": 40
   },
   "kernels_config": {
    "python": {
     "delete_cmd_postfix": "",
     "delete_cmd_prefix": "del ",
     "library": "var_list.py",
     "varRefreshCmd": "print(var_dic_list())"
    },
    "r": {
     "delete_cmd_postfix": ") ",
     "delete_cmd_prefix": "rm(",
     "library": "var_list.r",
     "varRefreshCmd": "cat(var_dic_list()) "
    }
   },
   "types_to_exclude": [
    "module",
    "function",
    "builtin_function_or_method",
    "instance",
    "_Feature"
   ],
   "window_display": false
  }
 },
 "nbformat": 4,
 "nbformat_minor": 2
}
