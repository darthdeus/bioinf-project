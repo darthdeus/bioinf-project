{
 "cells": [
  {
   "cell_type": "markdown",
   "metadata": {},
   "source": [
    "# Gene Expression Data (Golub 1999) - [Source link](https://www.kaggle.com/crawford/gene-expression)"
   ]
  },
  {
   "cell_type": "markdown",
   "metadata": {},
   "source": [
    "Classifying two different types of leukemia based on 72 gene expression samples."
   ]
  },
  {
   "cell_type": "markdown",
   "metadata": {},
   "source": [
    "![](https://i.imgur.com/QQrxDpu.png)"
   ]
  },
  {
   "cell_type": "markdown",
   "metadata": {},
   "source": [
    "(Image taken from [1])"
   ]
  },
  {
   "cell_type": "markdown",
   "metadata": {},
   "source": [
    "# Data preprocessing"
   ]
  },
  {
   "cell_type": "code",
   "execution_count": 19,
   "metadata": {
    "collapsed": true,
    "scrolled": false
   },
   "outputs": [],
   "source": [
    "import numpy as np\n",
    "import matplotlib.pyplot as plt\n",
    "%matplotlib inline\n",
    "\n",
    "import pandas as pd\n",
    "\n",
    "from sklearn import feature_selection, feature_extraction, manifold, decomposition, cluster\n",
    "from sklearn import linear_model, svm, neural_network, model_selection, preprocessing, tree, ensemble\n",
    "from sklearn import gaussian_process, pipeline, metrics, dummy, ensemble, naive_bayes, neighbors\n",
    "\n",
    "from scipy.cluster import hierarchy\n",
    "from scipy.spatial import distance\n",
    "\n",
    "import eli5\n",
    "import xgboost\n",
    "import skopt\n",
    "import seaborn as sns\n",
    "\n",
    "from skrebate import ReliefF\n",
    "from skopt.space import Integer, Real, Categorical\n",
    "\n",
    "from xgboost import XGBClassifier"
   ]
  },
  {
   "cell_type": "code",
   "execution_count": 3,
   "metadata": {
    "collapsed": true,
    "scrolled": false
   },
   "outputs": [],
   "source": [
    "train = pd.read_csv(\"data/data_set_ALL_AML_train.csv\", delimiter=\",\")\n",
    "test = pd.read_csv(\"data/data_set_ALL_AML_independent.csv\", delimiter=\",\")\n",
    "actual = pd.read_csv(\"data/actual.csv\")"
   ]
  },
  {
   "cell_type": "code",
   "execution_count": null,
   "metadata": {
    "collapsed": true
   },
   "outputs": [],
   "source": [
    "# Training data preparation\n",
    "\n",
    "As mentioned in some of the references, the split in the dataset by Golub [1] wasn't done independently. The test data comes '"
   ]
  },
  {
   "cell_type": "code",
   "execution_count": 183,
   "metadata": {
    "collapsed": true
   },
   "outputs": [],
   "source": [
    "X_train = (train.drop([\"Gene Description\", \"Gene Accession Number\"], axis=1)\n",
    "                .drop([col for col in train.columns if \"call\" in col], axis=1)).values.T.astype(np.float32)\n",
    "\n",
    "X_test = (test.drop([\"Gene Description\", \"Gene Accession Number\"], axis=1)\n",
    "               .drop([col for col in test.columns if \"call\" in col], axis=1)).values.T.astype(np.float32)\n",
    "\n",
    "X = np.vstack([X_train, X_test])\n",
    "X_orig = X\n",
    "\n",
    "labels = actual.cancer.values\n",
    "y = preprocessing.LabelEncoder().fit_transform(labels)\n",
    "\n",
    "descriptions = np.array(list(map(lambda x: x[:13], train[\"Gene Description\"])))\n",
    "\n",
    "X_train, X_test, y_train, y_test = model_selection.train_test_split(X, y, shuffle=True)\n",
    "\n",
    "def threshold(x):\n",
    "    xx = x.copy()\n",
    "    c = 5\n",
    "    xx[xx > c] = c\n",
    "    xx[xx < -c] = -c\n",
    "    \n",
    "    return xx\n",
    "\n",
    "pipe = pipeline.make_pipeline(\n",
    "    preprocessing.RobustScaler(quantile_range=[1,99]),\n",
    "    preprocessing.StandardScaler(),\n",
    "    preprocessing.FunctionTransformer(threshold)\n",
    ")\n",
    "\n",
    "X = pipe.fit_transform(X)\n",
    "\n",
    "X_train = pipe.fit_transform(X_train)\n",
    "X_test = pipe.transform(X_test)"
   ]
  },
  {
   "cell_type": "markdown",
   "metadata": {},
   "source": [
    "# Value distribution after normalization"
   ]
  },
  {
   "cell_type": "markdown",
   "metadata": {},
   "source": [
    "Scaling to a range represented by the 98% interval around mean, outliers are clipped after that."
   ]
  },
  {
   "cell_type": "code",
   "execution_count": 89,
   "metadata": {},
   "outputs": [
    {
     "data": {
      "image/png": "[encoded data removed]",
      "text/plain": [
       "<matplotlib.figure.Figure at 0x1bd3eb4f240>"
      ]
     },
     "metadata": {},
     "output_type": "display_data"
    }
   ],
   "source": [
    "plt.figure(figsize=(12,5))\n",
    "plt.subplot(121)\n",
    "plt.hist(X_train.reshape(-1), bins=500)\n",
    "plt.subplot(122)\n",
    "plt.hist(X_test.reshape(-1), bins=500);"
   ]
  },
  {
   "cell_type": "markdown",
   "metadata": {},
   "source": [
    "## Helper functions"
   ]
  },
  {
   "cell_type": "code",
   "execution_count": 131,
   "metadata": {
    "collapsed": true
   },
   "outputs": [],
   "source": [
    "def plot(features, labels, train=True, figure=True, xticks=False, showmask=False, use_cmap=\"magma\"):\n",
    "    if figure:\n",
    "        plt.figure(figsize=(12,5))\n",
    "    \n",
    "    if xticks:\n",
    "        plt.xticks(range(len(idx)), descriptions[idx], rotation=\"vertical\")\n",
    "        \n",
    "    plt.yticks(range(len(features)), labels)\n",
    "    plt.imshow(features, cmap=use_cmap)\n",
    "    \n",
    "# Taken from http://scikit-learn.org/stable/auto_examples/model_selection/plot_confusion_matrix.html\n",
    "def plot_confusion_matrix(cm, classes,\n",
    "                          normalize=False,\n",
    "                          title='Confusion matrix',\n",
    "                          cmap=plt.cm.Blues):\n",
    "    \"\"\"\n",
    "    This function prints and plots the confusion matrix.\n",
    "    Normalization can be applied by setting `normalize=True`.\n",
    "    \"\"\"\n",
    "    if normalize:\n",
    "        cm = cm.astype('float') / cm.sum(axis=1)[:, np.newaxis]\n",
    "        print(\"Normalized confusion matrix\")\n",
    "    else:\n",
    "        print('Confusion matrix, without normalization')\n",
    "\n",
    "    print(cm)\n",
    "\n",
    "    plt.imshow(cm, interpolation='nearest', cmap=cmap)\n",
    "    plt.title(title)\n",
    "    plt.colorbar()\n",
    "    tick_marks = np.arange(len(classes))\n",
    "    plt.xticks(tick_marks, classes, rotation=45)\n",
    "    plt.yticks(tick_marks, classes)\n",
    "\n",
    "    fmt = '.2f' if normalize else 'd'\n",
    "    thresh = cm.max() / 2.\n",
    "    for i, j in itertools.product(range(cm.shape[0]), range(cm.shape[1])):\n",
    "        plt.text(j, i, format(cm[i, j], fmt),\n",
    "                 horizontalalignment=\"center\",\n",
    "                 color=\"white\" if cm[i, j] > thresh else \"black\")\n",
    "\n",
    "    plt.tight_layout()\n",
    "    plt.ylabel('True label')\n",
    "    plt.xlabel('Predicted label')"
   ]
  },
  {
   "cell_type": "markdown",
   "metadata": {},
   "source": [
    "# Feature selection using RFE"
   ]
  },
  {
   "cell_type": "markdown",
   "metadata": {},
   "source": [
    "Based on \\[2] and \\[3] feature selection is performed using recursive feature elimination combined with a linear SVM. The algorithm iteratively trains a model and drops the least important feature (based on the lowest weight for example)."
   ]
  },
  {
   "cell_type": "code",
   "execution_count": 187,
   "metadata": {
    "collapsed": true
   },
   "outputs": [
    {
     "name": "stdout",
     "output_type": "stream",
     "text": [
      "Fitting estimator with 7129 features.\n",
      "Fitting estimator with 7119 features.\n",
      "Fitting estimator with 7109 features.\n",
      "Fitting estimator with 7099 features.\n",
      "Fitting estimator with 7089 features.\n",
      "Fitting estimator with 7079 features.\n",
      "Fitting estimator with 7069 features.\n",
      "Fitting estimator with 7059 features.\n",
      "Fitting estimator with 7049 features.\n",
      "Fitting estimator with 7039 features.\n",
      "Fitting estimator with 7029 features.\n",
      "Fitting estimator with 7019 features.\n",
      "Fitting estimator with 7009 features.\n",
      "Fitting estimator with 6999 features.\n",
      "Fitting estimator with 6989 features.\n",
      "Fitting estimator with 6979 features.\n",
      "Fitting estimator with 6969 features.\n",
      "Fitting estimator with 6959 features.\n",
      "Fitting estimator with 6949 features.\n",
      "Fitting estimator with 6939 features.\n",
      "Fitting estimator with 6929 features.\n",
      "Fitting estimator with 6919 features.\n",
      "Fitting estimator with 6909 features.\n",
      "Fitting estimator with 6899 features.\n",
      "Fitting estimator with 6889 features.\n",
      "Fitting estimator with 6879 features.\n",
      "Fitting estimator with 6869 features.\n",
      "Fitting estimator with 6859 features.\n",
      "Fitting estimator with 6849 features.\n",
      "Fitting estimator with 6839 features.\n",
      "Fitting estimator with 6829 features.\n",
      "Fitting estimator with 6819 features.\n",
      "Fitting estimator with 6809 features.\n",
      "Fitting estimator with 6799 features.\n",
      "Fitting estimator with 6789 features.\n",
      "Fitting estimator with 6779 features.\n",
      "Fitting estimator with 6769 features.\n",
      "Fitting estimator with 6759 features.\n",
      "Fitting estimator with 6749 features.\n",
      "Fitting estimator with 6739 features.\n",
      "Fitting estimator with 6729 features.\n",
      "Fitting estimator with 6719 features.\n",
      "Fitting estimator with 6709 features.\n",
      "Fitting estimator with 6699 features.\n",
      "Fitting estimator with 6689 features.\n",
      "Fitting estimator with 6679 features.\n",
      "Fitting estimator with 6669 features.\n",
      "Fitting estimator with 6659 features.\n",
      "Fitting estimator with 6649 features.\n",
      "Fitting estimator with 6639 features.\n",
      "Fitting estimator with 6629 features.\n",
      "Fitting estimator with 6619 features.\n",
      "Fitting estimator with 6609 features.\n",
      "Fitting estimator with 6599 features.\n",
      "Fitting estimator with 6589 features.\n",
      "Fitting estimator with 6579 features.\n",
      "Fitting estimator with 6569 features.\n",
      "Fitting estimator with 6559 features.\n",
      "Fitting estimator with 6549 features.\n",
      "Fitting estimator with 6539 features.\n",
      "Fitting estimator with 6529 features.\n",
      "Fitting estimator with 6519 features.\n",
      "Fitting estimator with 6509 features.\n",
      "Fitting estimator with 6499 features.\n",
      "Fitting estimator with 6489 features.\n",
      "Fitting estimator with 6479 features.\n",
      "Fitting estimator with 6469 features.\n",
      "Fitting estimator with 6459 features.\n",
      "Fitting estimator with 6449 features.\n",
      "Fitting estimator with 6439 features.\n",
      "Fitting estimator with 6429 features.\n",
      "Fitting estimator with 6419 features.\n",
      "Fitting estimator with 6409 features.\n",
      "Fitting estimator with 6399 features.\n",
      "Fitting estimator with 6389 features.\n",
      "Fitting estimator with 6379 features.\n",
      "Fitting estimator with 6369 features.\n",
      "Fitting estimator with 6359 features.\n",
      "Fitting estimator with 6349 features.\n",
      "Fitting estimator with 6339 features.\n",
      "Fitting estimator with 6329 features.\n",
      "Fitting estimator with 6319 features.\n",
      "Fitting estimator with 6309 features.\n",
      "Fitting estimator with 6299 features.\n",
      "Fitting estimator with 6289 features.\n",
      "Fitting estimator with 6279 features.\n",
      "Fitting estimator with 6269 features.\n",
      "Fitting estimator with 6259 features.\n",
      "Fitting estimator with 6249 features.\n",
      "Fitting estimator with 6239 features.\n",
      "Fitting estimator with 6229 features.\n",
      "Fitting estimator with 6219 features.\n",
      "Fitting estimator with 6209 features.\n",
      "Fitting estimator with 6199 features.\n",
      "Fitting estimator with 6189 features.\n",
      "Fitting estimator with 6179 features.\n",
      "Fitting estimator with 6169 features.\n",
      "Fitting estimator with 6159 features.\n",
      "Fitting estimator with 6149 features.\n",
      "Fitting estimator with 6139 features.\n",
      "Fitting estimator with 6129 features.\n",
      "Fitting estimator with 6119 features.\n",
      "Fitting estimator with 6109 features.\n",
      "Fitting estimator with 6099 features.\n",
      "Fitting estimator with 6089 features.\n",
      "Fitting estimator with 6079 features.\n",
      "Fitting estimator with 6069 features.\n",
      "Fitting estimator with 6059 features.\n",
      "Fitting estimator with 6049 features.\n",
      "Fitting estimator with 6039 features.\n",
      "Fitting estimator with 6029 features.\n",
      "Fitting estimator with 6019 features.\n",
      "Fitting estimator with 6009 features.\n",
      "Fitting estimator with 5999 features.\n",
      "Fitting estimator with 5989 features.\n",
      "Fitting estimator with 5979 features.\n",
      "Fitting estimator with 5969 features.\n",
      "Fitting estimator with 5959 features.\n",
      "Fitting estimator with 5949 features.\n",
      "Fitting estimator with 5939 features.\n",
      "Fitting estimator with 5929 features.\n",
      "Fitting estimator with 5919 features.\n",
      "Fitting estimator with 5909 features.\n",
      "Fitting estimator with 5899 features.\n",
      "Fitting estimator with 5889 features.\n",
      "Fitting estimator with 5879 features.\n",
      "Fitting estimator with 5869 features.\n",
      "Fitting estimator with 5859 features.\n",
      "Fitting estimator with 5849 features.\n",
      "Fitting estimator with 5839 features.\n",
      "Fitting estimator with 5829 features.\n",
      "Fitting estimator with 5819 features.\n",
      "Fitting estimator with 5809 features.\n",
      "Fitting estimator with 5799 features.\n",
      "Fitting estimator with 5789 features.\n",
      "Fitting estimator with 5779 features.\n",
      "Fitting estimator with 5769 features.\n",
      "Fitting estimator with 5759 features.\n",
      "Fitting estimator with 5749 features.\n",
      "Fitting estimator with 5739 features.\n",
      "Fitting estimator with 5729 features.\n",
      "Fitting estimator with 5719 features.\n",
      "Fitting estimator with 5709 features.\n",
      "Fitting estimator with 5699 features.\n",
      "Fitting estimator with 5689 features.\n",
      "Fitting estimator with 5679 features.\n",
      "Fitting estimator with 5669 features.\n",
      "Fitting estimator with 5659 features.\n",
      "Fitting estimator with 5649 features.\n",
      "Fitting estimator with 5639 features.\n",
      "Fitting estimator with 5629 features.\n",
      "Fitting estimator with 5619 features.\n",
      "Fitting estimator with 5609 features.\n",
      "Fitting estimator with 5599 features.\n",
      "Fitting estimator with 5589 features.\n",
      "Fitting estimator with 5579 features.\n",
      "Fitting estimator with 5569 features.\n",
      "Fitting estimator with 5559 features.\n",
      "Fitting estimator with 5549 features.\n",
      "Fitting estimator with 5539 features.\n",
      "Fitting estimator with 5529 features.\n",
      "Fitting estimator with 5519 features.\n",
      "Fitting estimator with 5509 features.\n",
      "Fitting estimator with 5499 features.\n",
      "Fitting estimator with 5489 features.\n",
      "Fitting estimator with 5479 features.\n",
      "Fitting estimator with 5469 features.\n",
      "Fitting estimator with 5459 features.\n",
      "Fitting estimator with 5449 features.\n",
      "Fitting estimator with 5439 features.\n",
      "Fitting estimator with 5429 features.\n",
      "Fitting estimator with 5419 features.\n",
      "Fitting estimator with 5409 features.\n",
      "Fitting estimator with 5399 features.\n",
      "Fitting estimator with 5389 features.\n",
      "Fitting estimator with 5379 features.\n",
      "Fitting estimator with 5369 features.\n",
      "Fitting estimator with 5359 features.\n",
      "Fitting estimator with 5349 features.\n",
      "Fitting estimator with 5339 features.\n",
      "Fitting estimator with 5329 features.\n",
      "Fitting estimator with 5319 features.\n",
      "Fitting estimator with 5309 features.\n",
      "Fitting estimator with 5299 features.\n",
      "Fitting estimator with 5289 features.\n",
      "Fitting estimator with 5279 features.\n",
      "Fitting estimator with 5269 features.\n",
      "Fitting estimator with 5259 features.\n",
      "Fitting estimator with 5249 features.\n",
      "Fitting estimator with 5239 features.\n",
      "Fitting estimator with 5229 features.\n",
      "Fitting estimator with 5219 features.\n",
      "Fitting estimator with 5209 features.\n",
      "Fitting estimator with 5199 features.\n",
      "Fitting estimator with 5189 features.\n",
      "Fitting estimator with 5179 features.\n",
      "Fitting estimator with 5169 features.\n",
      "Fitting estimator with 5159 features.\n",
      "Fitting estimator with 5149 features.\n",
      "Fitting estimator with 5139 features.\n",
      "Fitting estimator with 5129 features.\n",
      "Fitting estimator with 5119 features.\n",
      "Fitting estimator with 5109 features.\n",
      "Fitting estimator with 5099 features.\n",
      "Fitting estimator with 5089 features.\n",
      "Fitting estimator with 5079 features.\n",
      "Fitting estimator with 5069 features.\n",
      "Fitting estimator with 5059 features.\n",
      "Fitting estimator with 5049 features.\n",
      "Fitting estimator with 5039 features.\n",
      "Fitting estimator with 5029 features.\n",
      "Fitting estimator with 5019 features.\n",
      "Fitting estimator with 5009 features.\n",
      "Fitting estimator with 4999 features.\n",
      "Fitting estimator with 4989 features.\n"
     ]
    },
    {
     "name": "stdout",
     "output_type": "stream",
     "text": [
      "Fitting estimator with 4979 features.\n",
      "Fitting estimator with 4969 features.\n",
      "Fitting estimator with 4959 features.\n",
      "Fitting estimator with 4949 features.\n",
      "Fitting estimator with 4939 features.\n",
      "Fitting estimator with 4929 features.\n",
      "Fitting estimator with 4919 features.\n",
      "Fitting estimator with 4909 features.\n",
      "Fitting estimator with 4899 features.\n",
      "Fitting estimator with 4889 features.\n",
      "Fitting estimator with 4879 features.\n",
      "Fitting estimator with 4869 features.\n",
      "Fitting estimator with 4859 features.\n",
      "Fitting estimator with 4849 features.\n",
      "Fitting estimator with 4839 features.\n",
      "Fitting estimator with 4829 features.\n",
      "Fitting estimator with 4819 features.\n",
      "Fitting estimator with 4809 features.\n",
      "Fitting estimator with 4799 features.\n",
      "Fitting estimator with 4789 features.\n",
      "Fitting estimator with 4779 features.\n",
      "Fitting estimator with 4769 features.\n",
      "Fitting estimator with 4759 features.\n",
      "Fitting estimator with 4749 features.\n",
      "Fitting estimator with 4739 features.\n",
      "Fitting estimator with 4729 features.\n",
      "Fitting estimator with 4719 features.\n",
      "Fitting estimator with 4709 features.\n",
      "Fitting estimator with 4699 features.\n",
      "Fitting estimator with 4689 features.\n",
      "Fitting estimator with 4679 features.\n",
      "Fitting estimator with 4669 features.\n",
      "Fitting estimator with 4659 features.\n",
      "Fitting estimator with 4649 features.\n",
      "Fitting estimator with 4639 features.\n",
      "Fitting estimator with 4629 features.\n",
      "Fitting estimator with 4619 features.\n",
      "Fitting estimator with 4609 features.\n",
      "Fitting estimator with 4599 features.\n",
      "Fitting estimator with 4589 features.\n",
      "Fitting estimator with 4579 features.\n",
      "Fitting estimator with 4569 features.\n",
      "Fitting estimator with 4559 features.\n",
      "Fitting estimator with 4549 features.\n",
      "Fitting estimator with 4539 features.\n",
      "Fitting estimator with 4529 features.\n",
      "Fitting estimator with 4519 features.\n",
      "Fitting estimator with 4509 features.\n",
      "Fitting estimator with 4499 features.\n",
      "Fitting estimator with 4489 features.\n",
      "Fitting estimator with 4479 features.\n",
      "Fitting estimator with 4469 features.\n",
      "Fitting estimator with 4459 features.\n",
      "Fitting estimator with 4449 features.\n",
      "Fitting estimator with 4439 features.\n",
      "Fitting estimator with 4429 features.\n",
      "Fitting estimator with 4419 features.\n",
      "Fitting estimator with 4409 features.\n",
      "Fitting estimator with 4399 features.\n",
      "Fitting estimator with 4389 features.\n",
      "Fitting estimator with 4379 features.\n",
      "Fitting estimator with 4369 features.\n",
      "Fitting estimator with 4359 features.\n",
      "Fitting estimator with 4349 features.\n",
      "Fitting estimator with 4339 features.\n",
      "Fitting estimator with 4329 features.\n",
      "Fitting estimator with 4319 features.\n",
      "Fitting estimator with 4309 features.\n",
      "Fitting estimator with 4299 features.\n",
      "Fitting estimator with 4289 features.\n",
      "Fitting estimator with 4279 features.\n",
      "Fitting estimator with 4269 features.\n",
      "Fitting estimator with 4259 features.\n",
      "Fitting estimator with 4249 features.\n",
      "Fitting estimator with 4239 features.\n",
      "Fitting estimator with 4229 features.\n",
      "Fitting estimator with 4219 features.\n",
      "Fitting estimator with 4209 features.\n",
      "Fitting estimator with 4199 features.\n",
      "Fitting estimator with 4189 features.\n",
      "Fitting estimator with 4179 features.\n",
      "Fitting estimator with 4169 features.\n",
      "Fitting estimator with 4159 features.\n",
      "Fitting estimator with 4149 features.\n",
      "Fitting estimator with 4139 features.\n",
      "Fitting estimator with 4129 features.\n",
      "Fitting estimator with 4119 features.\n",
      "Fitting estimator with 4109 features.\n",
      "Fitting estimator with 4099 features.\n",
      "Fitting estimator with 4089 features.\n",
      "Fitting estimator with 4079 features.\n",
      "Fitting estimator with 4069 features.\n",
      "Fitting estimator with 4059 features.\n",
      "Fitting estimator with 4049 features.\n",
      "Fitting estimator with 4039 features.\n",
      "Fitting estimator with 4029 features.\n",
      "Fitting estimator with 4019 features.\n",
      "Fitting estimator with 4009 features.\n",
      "Fitting estimator with 3999 features.\n",
      "Fitting estimator with 3989 features.\n",
      "Fitting estimator with 3979 features.\n",
      "Fitting estimator with 3969 features.\n",
      "Fitting estimator with 3959 features.\n",
      "Fitting estimator with 3949 features.\n",
      "Fitting estimator with 3939 features.\n",
      "Fitting estimator with 3929 features.\n",
      "Fitting estimator with 3919 features.\n",
      "Fitting estimator with 3909 features.\n",
      "Fitting estimator with 3899 features.\n",
      "Fitting estimator with 3889 features.\n",
      "Fitting estimator with 3879 features.\n",
      "Fitting estimator with 3869 features.\n",
      "Fitting estimator with 3859 features.\n",
      "Fitting estimator with 3849 features.\n",
      "Fitting estimator with 3839 features.\n",
      "Fitting estimator with 3829 features.\n",
      "Fitting estimator with 3819 features.\n",
      "Fitting estimator with 3809 features.\n",
      "Fitting estimator with 3799 features.\n",
      "Fitting estimator with 3789 features.\n",
      "Fitting estimator with 3779 features.\n",
      "Fitting estimator with 3769 features.\n",
      "Fitting estimator with 3759 features.\n",
      "Fitting estimator with 3749 features.\n",
      "Fitting estimator with 3739 features.\n",
      "Fitting estimator with 3729 features.\n",
      "Fitting estimator with 3719 features.\n",
      "Fitting estimator with 3709 features.\n",
      "Fitting estimator with 3699 features.\n",
      "Fitting estimator with 3689 features.\n",
      "Fitting estimator with 3679 features.\n",
      "Fitting estimator with 3669 features.\n",
      "Fitting estimator with 3659 features.\n",
      "Fitting estimator with 3649 features.\n",
      "Fitting estimator with 3639 features.\n",
      "Fitting estimator with 3629 features.\n",
      "Fitting estimator with 3619 features.\n",
      "Fitting estimator with 3609 features.\n",
      "Fitting estimator with 3599 features.\n",
      "Fitting estimator with 3589 features.\n",
      "Fitting estimator with 3579 features.\n",
      "Fitting estimator with 3569 features.\n",
      "Fitting estimator with 3559 features.\n",
      "Fitting estimator with 3549 features.\n",
      "Fitting estimator with 3539 features.\n",
      "Fitting estimator with 3529 features.\n",
      "Fitting estimator with 3519 features.\n",
      "Fitting estimator with 3509 features.\n",
      "Fitting estimator with 3499 features.\n",
      "Fitting estimator with 3489 features.\n",
      "Fitting estimator with 3479 features.\n",
      "Fitting estimator with 3469 features.\n",
      "Fitting estimator with 3459 features.\n",
      "Fitting estimator with 3449 features.\n",
      "Fitting estimator with 3439 features.\n",
      "Fitting estimator with 3429 features.\n",
      "Fitting estimator with 3419 features.\n",
      "Fitting estimator with 3409 features.\n",
      "Fitting estimator with 3399 features.\n",
      "Fitting estimator with 3389 features.\n",
      "Fitting estimator with 3379 features.\n",
      "Fitting estimator with 3369 features.\n",
      "Fitting estimator with 3359 features.\n",
      "Fitting estimator with 3349 features.\n",
      "Fitting estimator with 3339 features.\n",
      "Fitting estimator with 3329 features.\n",
      "Fitting estimator with 3319 features.\n",
      "Fitting estimator with 3309 features.\n",
      "Fitting estimator with 3299 features.\n",
      "Fitting estimator with 3289 features.\n",
      "Fitting estimator with 3279 features.\n",
      "Fitting estimator with 3269 features.\n",
      "Fitting estimator with 3259 features.\n",
      "Fitting estimator with 3249 features.\n",
      "Fitting estimator with 3239 features.\n",
      "Fitting estimator with 3229 features.\n",
      "Fitting estimator with 3219 features.\n",
      "Fitting estimator with 3209 features.\n",
      "Fitting estimator with 3199 features.\n",
      "Fitting estimator with 3189 features.\n",
      "Fitting estimator with 3179 features.\n",
      "Fitting estimator with 3169 features.\n",
      "Fitting estimator with 3159 features.\n",
      "Fitting estimator with 3149 features.\n",
      "Fitting estimator with 3139 features.\n",
      "Fitting estimator with 3129 features.\n",
      "Fitting estimator with 3119 features.\n",
      "Fitting estimator with 3109 features.\n",
      "Fitting estimator with 3099 features.\n",
      "Fitting estimator with 3089 features.\n",
      "Fitting estimator with 3079 features.\n",
      "Fitting estimator with 3069 features.\n",
      "Fitting estimator with 3059 features.\n",
      "Fitting estimator with 3049 features.\n",
      "Fitting estimator with 3039 features.\n",
      "Fitting estimator with 3029 features.\n",
      "Fitting estimator with 3019 features.\n",
      "Fitting estimator with 3009 features.\n",
      "Fitting estimator with 2999 features.\n",
      "Fitting estimator with 2989 features.\n",
      "Fitting estimator with 2979 features.\n",
      "Fitting estimator with 2969 features.\n",
      "Fitting estimator with 2959 features.\n",
      "Fitting estimator with 2949 features.\n",
      "Fitting estimator with 2939 features.\n",
      "Fitting estimator with 2929 features.\n",
      "Fitting estimator with 2919 features.\n",
      "Fitting estimator with 2909 features.\n",
      "Fitting estimator with 2899 features.\n",
      "Fitting estimator with 2889 features.\n",
      "Fitting estimator with 2879 features.\n",
      "Fitting estimator with 2869 features.\n",
      "Fitting estimator with 2859 features.\n",
      "Fitting estimator with 2849 features.\n",
      "Fitting estimator with 2839 features.\n"
     ]
    },
    {
     "name": "stdout",
     "output_type": "stream",
     "text": [
      "Fitting estimator with 2829 features.\n",
      "Fitting estimator with 2819 features.\n",
      "Fitting estimator with 2809 features.\n",
      "Fitting estimator with 2799 features.\n",
      "Fitting estimator with 2789 features.\n",
      "Fitting estimator with 2779 features.\n",
      "Fitting estimator with 2769 features.\n",
      "Fitting estimator with 2759 features.\n",
      "Fitting estimator with 2749 features.\n",
      "Fitting estimator with 2739 features.\n",
      "Fitting estimator with 2729 features.\n",
      "Fitting estimator with 2719 features.\n",
      "Fitting estimator with 2709 features.\n",
      "Fitting estimator with 2699 features.\n",
      "Fitting estimator with 2689 features.\n",
      "Fitting estimator with 2679 features.\n",
      "Fitting estimator with 2669 features.\n",
      "Fitting estimator with 2659 features.\n",
      "Fitting estimator with 2649 features.\n",
      "Fitting estimator with 2639 features.\n",
      "Fitting estimator with 2629 features.\n",
      "Fitting estimator with 2619 features.\n",
      "Fitting estimator with 2609 features.\n",
      "Fitting estimator with 2599 features.\n",
      "Fitting estimator with 2589 features.\n",
      "Fitting estimator with 2579 features.\n",
      "Fitting estimator with 2569 features.\n",
      "Fitting estimator with 2559 features.\n",
      "Fitting estimator with 2549 features.\n",
      "Fitting estimator with 2539 features.\n",
      "Fitting estimator with 2529 features.\n",
      "Fitting estimator with 2519 features.\n",
      "Fitting estimator with 2509 features.\n",
      "Fitting estimator with 2499 features.\n",
      "Fitting estimator with 2489 features.\n",
      "Fitting estimator with 2479 features.\n",
      "Fitting estimator with 2469 features.\n",
      "Fitting estimator with 2459 features.\n",
      "Fitting estimator with 2449 features.\n",
      "Fitting estimator with 2439 features.\n",
      "Fitting estimator with 2429 features.\n",
      "Fitting estimator with 2419 features.\n",
      "Fitting estimator with 2409 features.\n",
      "Fitting estimator with 2399 features.\n",
      "Fitting estimator with 2389 features.\n",
      "Fitting estimator with 2379 features.\n",
      "Fitting estimator with 2369 features.\n",
      "Fitting estimator with 2359 features.\n",
      "Fitting estimator with 2349 features.\n",
      "Fitting estimator with 2339 features.\n",
      "Fitting estimator with 2329 features.\n",
      "Fitting estimator with 2319 features.\n",
      "Fitting estimator with 2309 features.\n",
      "Fitting estimator with 2299 features.\n",
      "Fitting estimator with 2289 features.\n",
      "Fitting estimator with 2279 features.\n",
      "Fitting estimator with 2269 features.\n",
      "Fitting estimator with 2259 features.\n",
      "Fitting estimator with 2249 features.\n",
      "Fitting estimator with 2239 features.\n",
      "Fitting estimator with 2229 features.\n",
      "Fitting estimator with 2219 features.\n",
      "Fitting estimator with 2209 features.\n",
      "Fitting estimator with 2199 features.\n",
      "Fitting estimator with 2189 features.\n",
      "Fitting estimator with 2179 features.\n",
      "Fitting estimator with 2169 features.\n",
      "Fitting estimator with 2159 features.\n",
      "Fitting estimator with 2149 features.\n",
      "Fitting estimator with 2139 features.\n",
      "Fitting estimator with 2129 features.\n",
      "Fitting estimator with 2119 features.\n",
      "Fitting estimator with 2109 features.\n",
      "Fitting estimator with 2099 features.\n",
      "Fitting estimator with 2089 features.\n",
      "Fitting estimator with 2079 features.\n",
      "Fitting estimator with 2069 features.\n",
      "Fitting estimator with 2059 features.\n",
      "Fitting estimator with 2049 features.\n",
      "Fitting estimator with 2039 features.\n",
      "Fitting estimator with 2029 features.\n",
      "Fitting estimator with 2019 features.\n",
      "Fitting estimator with 2009 features.\n",
      "Fitting estimator with 1999 features.\n",
      "Fitting estimator with 1989 features.\n",
      "Fitting estimator with 1979 features.\n",
      "Fitting estimator with 1969 features.\n",
      "Fitting estimator with 1959 features.\n",
      "Fitting estimator with 1949 features.\n",
      "Fitting estimator with 1939 features.\n",
      "Fitting estimator with 1929 features.\n",
      "Fitting estimator with 1919 features.\n",
      "Fitting estimator with 1909 features.\n",
      "Fitting estimator with 1899 features.\n",
      "Fitting estimator with 1889 features.\n",
      "Fitting estimator with 1879 features.\n",
      "Fitting estimator with 1869 features.\n",
      "Fitting estimator with 1859 features.\n",
      "Fitting estimator with 1849 features.\n",
      "Fitting estimator with 1839 features.\n",
      "Fitting estimator with 1829 features.\n",
      "Fitting estimator with 1819 features.\n",
      "Fitting estimator with 1809 features.\n",
      "Fitting estimator with 1799 features.\n",
      "Fitting estimator with 1789 features.\n",
      "Fitting estimator with 1779 features.\n",
      "Fitting estimator with 1769 features.\n",
      "Fitting estimator with 1759 features.\n",
      "Fitting estimator with 1749 features.\n",
      "Fitting estimator with 1739 features.\n",
      "Fitting estimator with 1729 features.\n",
      "Fitting estimator with 1719 features.\n",
      "Fitting estimator with 1709 features.\n",
      "Fitting estimator with 1699 features.\n",
      "Fitting estimator with 1689 features.\n",
      "Fitting estimator with 1679 features.\n",
      "Fitting estimator with 1669 features.\n",
      "Fitting estimator with 1659 features.\n",
      "Fitting estimator with 1649 features.\n",
      "Fitting estimator with 1639 features.\n",
      "Fitting estimator with 1629 features.\n",
      "Fitting estimator with 1619 features.\n",
      "Fitting estimator with 1609 features.\n",
      "Fitting estimator with 1599 features.\n",
      "Fitting estimator with 1589 features.\n",
      "Fitting estimator with 1579 features.\n",
      "Fitting estimator with 1569 features.\n",
      "Fitting estimator with 1559 features.\n",
      "Fitting estimator with 1549 features.\n",
      "Fitting estimator with 1539 features.\n",
      "Fitting estimator with 1529 features.\n",
      "Fitting estimator with 1519 features.\n",
      "Fitting estimator with 1509 features.\n",
      "Fitting estimator with 1499 features.\n",
      "Fitting estimator with 1489 features.\n",
      "Fitting estimator with 1479 features.\n",
      "Fitting estimator with 1469 features.\n",
      "Fitting estimator with 1459 features.\n",
      "Fitting estimator with 1449 features.\n",
      "Fitting estimator with 1439 features.\n",
      "Fitting estimator with 1429 features.\n",
      "Fitting estimator with 1419 features.\n",
      "Fitting estimator with 1409 features.\n",
      "Fitting estimator with 1399 features.\n",
      "Fitting estimator with 1389 features.\n",
      "Fitting estimator with 1379 features.\n",
      "Fitting estimator with 1369 features.\n",
      "Fitting estimator with 1359 features.\n",
      "Fitting estimator with 1349 features.\n",
      "Fitting estimator with 1339 features.\n",
      "Fitting estimator with 1329 features.\n",
      "Fitting estimator with 1319 features.\n",
      "Fitting estimator with 1309 features.\n",
      "Fitting estimator with 1299 features.\n",
      "Fitting estimator with 1289 features.\n",
      "Fitting estimator with 1279 features.\n",
      "Fitting estimator with 1269 features.\n",
      "Fitting estimator with 1259 features.\n",
      "Fitting estimator with 1249 features.\n",
      "Fitting estimator with 1239 features.\n",
      "Fitting estimator with 1229 features.\n",
      "Fitting estimator with 1219 features.\n",
      "Fitting estimator with 1209 features.\n",
      "Fitting estimator with 1199 features.\n",
      "Fitting estimator with 1189 features.\n",
      "Fitting estimator with 1179 features.\n",
      "Fitting estimator with 1169 features.\n",
      "Fitting estimator with 1159 features.\n",
      "Fitting estimator with 1149 features.\n",
      "Fitting estimator with 1139 features.\n",
      "Fitting estimator with 1129 features.\n",
      "Fitting estimator with 1119 features.\n",
      "Fitting estimator with 1109 features.\n",
      "Fitting estimator with 1099 features.\n",
      "Fitting estimator with 1089 features.\n",
      "Fitting estimator with 1079 features.\n",
      "Fitting estimator with 1069 features.\n",
      "Fitting estimator with 1059 features.\n",
      "Fitting estimator with 1049 features.\n",
      "Fitting estimator with 1039 features.\n",
      "Fitting estimator with 1029 features.\n",
      "Fitting estimator with 1019 features.\n",
      "Fitting estimator with 1009 features.\n",
      "Fitting estimator with 999 features.\n",
      "Fitting estimator with 989 features.\n",
      "Fitting estimator with 979 features.\n",
      "Fitting estimator with 969 features.\n",
      "Fitting estimator with 959 features.\n",
      "Fitting estimator with 949 features.\n",
      "Fitting estimator with 939 features.\n",
      "Fitting estimator with 929 features.\n",
      "Fitting estimator with 919 features.\n",
      "Fitting estimator with 909 features.\n",
      "Fitting estimator with 899 features.\n",
      "Fitting estimator with 889 features.\n",
      "Fitting estimator with 879 features.\n",
      "Fitting estimator with 869 features.\n",
      "Fitting estimator with 859 features.\n",
      "Fitting estimator with 849 features.\n",
      "Fitting estimator with 839 features.\n",
      "Fitting estimator with 829 features.\n",
      "Fitting estimator with 819 features.\n",
      "Fitting estimator with 809 features.\n",
      "Fitting estimator with 799 features.\n",
      "Fitting estimator with 789 features.\n",
      "Fitting estimator with 779 features.\n",
      "Fitting estimator with 769 features.\n",
      "Fitting estimator with 759 features.\n",
      "Fitting estimator with 749 features.\n",
      "Fitting estimator with 739 features.\n",
      "Fitting estimator with 729 features.\n",
      "Fitting estimator with 719 features.\n",
      "Fitting estimator with 709 features.\n",
      "Fitting estimator with 699 features.\n",
      "Fitting estimator with 689 features.\n",
      "Fitting estimator with 679 features.\n"
     ]
    },
    {
     "name": "stdout",
     "output_type": "stream",
     "text": [
      "Fitting estimator with 669 features.\n",
      "Fitting estimator with 659 features.\n",
      "Fitting estimator with 649 features.\n",
      "Fitting estimator with 639 features.\n",
      "Fitting estimator with 629 features.\n",
      "Fitting estimator with 619 features.\n",
      "Fitting estimator with 609 features.\n",
      "Fitting estimator with 599 features.\n",
      "Fitting estimator with 589 features.\n",
      "Fitting estimator with 579 features.\n",
      "Fitting estimator with 569 features.\n",
      "Fitting estimator with 559 features.\n",
      "Fitting estimator with 549 features.\n",
      "Fitting estimator with 539 features.\n",
      "Fitting estimator with 529 features.\n",
      "Fitting estimator with 519 features.\n",
      "Fitting estimator with 509 features.\n",
      "Fitting estimator with 499 features.\n",
      "Fitting estimator with 489 features.\n",
      "Fitting estimator with 479 features.\n",
      "Fitting estimator with 469 features.\n",
      "Fitting estimator with 459 features.\n",
      "Fitting estimator with 449 features.\n",
      "Fitting estimator with 439 features.\n",
      "Fitting estimator with 429 features.\n",
      "Fitting estimator with 419 features.\n",
      "Fitting estimator with 409 features.\n",
      "Fitting estimator with 399 features.\n",
      "Fitting estimator with 389 features.\n",
      "Fitting estimator with 379 features.\n",
      "Fitting estimator with 369 features.\n",
      "Fitting estimator with 359 features.\n",
      "Fitting estimator with 349 features.\n",
      "Fitting estimator with 339 features.\n",
      "Fitting estimator with 329 features.\n",
      "Fitting estimator with 319 features.\n",
      "Fitting estimator with 309 features.\n",
      "Fitting estimator with 299 features.\n",
      "Fitting estimator with 289 features.\n",
      "Fitting estimator with 279 features.\n",
      "Fitting estimator with 269 features.\n",
      "Fitting estimator with 259 features.\n",
      "Fitting estimator with 249 features.\n",
      "Fitting estimator with 239 features.\n",
      "Fitting estimator with 229 features.\n",
      "Fitting estimator with 219 features.\n",
      "Fitting estimator with 209 features.\n",
      "Fitting estimator with 199 features.\n",
      "Fitting estimator with 189 features.\n",
      "Fitting estimator with 179 features.\n",
      "Fitting estimator with 169 features.\n",
      "Fitting estimator with 159 features.\n",
      "Fitting estimator with 149 features.\n",
      "Fitting estimator with 139 features.\n",
      "Fitting estimator with 129 features.\n",
      "Fitting estimator with 119 features.\n",
      "Fitting estimator with 109 features.\n",
      "Fitting estimator with 99 features.\n",
      "Fitting estimator with 89 features.\n",
      "Fitting estimator with 79 features.\n",
      "Fitting estimator with 69 features.\n",
      "Wall time: 9.08 s\n"
     ]
    }
   ],
   "source": [
    "rfe = feature_selection.RFE(svm.LinearSVC(), 64, step=10, verbose=1)\n",
    "%time rfe.fit(X_train, y_train)\n",
    "\n",
    "X = rfe.transform(X)\n",
    "X_train = rfe.transform(X_train)\n",
    "X_test = rfe.transform(X_test)"
   ]
  },
  {
   "cell_type": "code",
   "execution_count": 189,
   "metadata": {},
   "outputs": [
    {
     "data": {
      "text/plain": [
       "((72, 64), (54, 64), (18, 64))"
      ]
     },
     "execution_count": 189,
     "metadata": {},
     "output_type": "execute_result"
    }
   ],
   "source": [
    "X.shape, X_train.shape, X_test.shape"
   ]
  },
  {
   "cell_type": "code",
   "execution_count": 190,
   "metadata": {},
   "outputs": [
    {
     "data": {
      "image/png": "[encoded data removed]",
      "text/plain": [
       "<matplotlib.figure.Figure at 0x1bd3e11b5f8>"
      ]
     },
     "metadata": {},
     "output_type": "display_data"
    }
   ],
   "source": [
    "plt.figure(figsize=(12,6))\n",
    "plt.subplot(121); plot(X_train, y_train, figure=False)\n",
    "plt.subplot(122); plot(X_test, y_test, figure=False)"
   ]
  },
  {
   "cell_type": "markdown",
   "metadata": {},
   "source": [
    "# PCA - the first 50 components explain all the variance"
   ]
  },
  {
   "cell_type": "code",
   "execution_count": 191,
   "metadata": {},
   "outputs": [],
   "source": [
    "X_orig_train, X_orig_test, y_orig_train, y_orig_test = model_selection.train_test_split(X_orig, y, shuffle=True)\n",
    "\n",
    "pca = decomposition.PCA(n_components=100)\n",
    "X_train_embed = pca.fit_transform(X_orig_train)\n",
    "X_test_embed = pca.transform(X_orig_test)"
   ]
  },
  {
   "cell_type": "code",
   "execution_count": 192,
   "metadata": {},
   "outputs": [
    {
     "data": {
      "text/plain": [
       "[<matplotlib.lines.Line2D at 0x1bd3e9633c8>]"
      ]
     },
     "execution_count": 192,
     "metadata": {},
     "output_type": "execute_result"
    },
    {
     "data": {
      "image/png": "[encoded data removed]",
      "text/plain": [
       "<matplotlib.figure.Figure at 0x1bd3dd98cf8>"
      ]
     },
     "metadata": {},
     "output_type": "display_data"
    }
   ],
   "source": [
    "plt.plot(pca.explained_variance_ratio_.cumsum())"
   ]
  },
  {
   "cell_type": "code",
   "execution_count": 193,
   "metadata": {},
   "outputs": [
    {
     "data": {
      "text/plain": [
       "0.7777777777777778"
      ]
     },
     "execution_count": 193,
     "metadata": {},
     "output_type": "execute_result"
    }
   ],
   "source": [
    "metrics.accuracy_score(svm.LinearSVC().fit(X_train_embed, y_orig_train).predict(X_test_embed), y_orig_test)"
   ]
  },
  {
   "cell_type": "markdown",
   "metadata": {},
   "source": [
    "Only **77% accuracy when using PCA** -> dimensionality reduction overfitting on the training set."
   ]
  },
  {
   "cell_type": "markdown",
   "metadata": {},
   "source": [
    "# Bayesian optimization\n",
    "\n",
    "Here we just define many different models with hyperparameter ranges and search for the best combination."
   ]
  },
  {
   "cell_type": "code",
   "execution_count": null,
   "metadata": {},
   "outputs": [],
   "source": [
    "pipe = pipeline.Pipeline([(\"model\", linear_model.LogisticRegression())])\n",
    "\n",
    "search_logreg = {\n",
    "    \"model\": [linear_model.LogisticRegression(dual=True, solver=\"liblinear\")],\n",
    "    \"model__C\": Real(0.1, 100, \"log_uniform\")\n",
    "}\n",
    "\n",
    "search_svm_rbf = {\n",
    "    \"model\": [svm.SVC(kernel=\"rbf\")],\n",
    "    \"model__C\": Real(0.1, 100, \"log_uniform\"),\n",
    "    \"model__gamma\": Real(0.1, 100, \"log_uniform\")\n",
    "}\n",
    "\n",
    "search_svm_linear = {\n",
    "    \"model\": [svm.LinearSVC()],\n",
    "    \"model__C\": Real(0.1, 100, \"log_uniform\"),    \n",
    "}\n",
    "\n",
    "search_svm_poly = {\n",
    "    \"model\": [svm.SVC(kernel=\"poly\")],\n",
    "    \"model__C\": Real(0.1, 100, \"log_uniform\"),\n",
    "    \"model__degree\": Integer(1, 10),\n",
    "    \"model__gamma\": Real(1e-6, 1e3, \"log_uniform\")\n",
    "}\n",
    "\n",
    "search_svm_rbf = {\n",
    "    \"model\": [svm.SVC(kernel=\"rbf\")],\n",
    "    \"model__C\": Real(0.1, 100, \"log_uniform\"),\n",
    "    \"model__gamma\": Real(1e-6, 1e3, \"log_uniform\")\n",
    "}\n",
    "\n",
    "search_forest = {\n",
    "    \"model\": [ensemble.RandomForestClassifier()],\n",
    "    \"model__n_estimators\": Integer(5, 500),\n",
    "    \"model__max_depth\": Integer(2, 5),\n",
    "    \"model__min_samples_split\": Integer(2, 10),\n",
    "    \"model__min_samples_leaf\": Integer(1, 10)\n",
    "}\n",
    "\n",
    "search_adaboost = {\n",
    "    \"model\": [ensemble.AdaBoostClassifier()],\n",
    "    \"model__n_estimators\": Integer(5, 500)\n",
    "}\n",
    "\n",
    "search_nb = {\n",
    "    \"model\": [naive_bayes.BernoulliNB()],\n",
    "    \"model__alpha\": Integer(1, 10)\n",
    "}\n",
    "\n",
    "search_knn = {\n",
    "    \"model\": [neighbors.KNeighborsClassifier()],\n",
    "    \"model__n_neighbors\": Integer(1, 20)\n",
    "}\n",
    "\n",
    "opt = skopt.BayesSearchCV(pipe, [\n",
    "    (search_logreg, 10),\n",
    "    (search_svm_linear, 10),\n",
    "    (search_svm_poly, 20),\n",
    "    (search_svm_rbf, 15),\n",
    "    (search_forest, 20),\n",
    "    (search_adaboost, 8),\n",
    "    (search_nb, 8),\n",
    "    (search_knn, 5)\n",
    "], n_jobs=10, verbose=0)\n",
    "\n",
    "%time opt.fit(X, y)\n",
    "opt.best_score_"
   ]
  },
  {
   "cell_type": "markdown",
   "metadata": {},
   "source": [
    "Naive bayes wins with **86.5% accuracy**."
   ]
  },
  {
   "cell_type": "code",
   "execution_count": 198,
   "metadata": {
    "collapsed": true
   },
   "outputs": [],
   "source": [
    "best_estimator = naive_bayes.BernoulliNB(1.2)"
   ]
  },
  {
   "cell_type": "code",
   "execution_count": 199,
   "metadata": {},
   "outputs": [
    {
     "data": {
      "text/plain": [
       "0.8654761904761905"
      ]
     },
     "execution_count": 199,
     "metadata": {},
     "output_type": "execute_result"
    }
   ],
   "source": [
    "model_selection.cross_val_score(best_estimator, X, y, cv=10).mean()"
   ]
  },
  {
   "cell_type": "markdown",
   "metadata": {},
   "source": [
    "# Best classifier results"
   ]
  },
  {
   "cell_type": "code",
   "execution_count": 200,
   "metadata": {},
   "outputs": [
    {
     "name": "stdout",
     "output_type": "stream",
     "text": [
      "Confusion matrix, without normalization\n",
      "[[46  1]\n",
      " [ 8 17]]\n"
     ]
    },
    {
     "data": {
      "image/png": "[encoded data removed]",
      "text/plain": [
       "<matplotlib.figure.Figure at 0x1bd3c9e0b38>"
      ]
     },
     "metadata": {},
     "output_type": "display_data"
    }
   ],
   "source": [
    "y_pred = model_selection.cross_val_predict(best_estimator, X, y)\n",
    "cm = metrics.confusion_matrix(y, y_pred)\n",
    "plot_confusion_matrix(cm, [\"ALS\", \"ALL\"])"
   ]
  },
  {
   "cell_type": "markdown",
   "metadata": {},
   "source": [
    "# Genetic Programming with TPOT"
   ]
  },
  {
   "cell_type": "markdown",
   "metadata": {},
   "source": [
    "[TPOT](https://github.com/EpistasisLab/tpot) uses genetic programming to automatically create a ML pipeline."
   ]
  },
  {
   "cell_type": "code",
   "execution_count": 23,
   "metadata": {
    "collapsed": true
   },
   "outputs": [],
   "source": [
    "import tpot"
   ]
  },
  {
   "cell_type": "code",
   "execution_count": 31,
   "metadata": {
    "collapsed": true
   },
   "outputs": [
    {
     "name": "stdout",
     "output_type": "stream",
     "text": [
      "30 operators have been imported by TPOT.\n"
     ]
    },
    {
     "name": "stderr",
     "output_type": "stream",
     "text": [
      "                                                                                                                       \r"
     ]
    },
    {
     "name": "stdout",
     "output_type": "stream",
     "text": [
      "_pre_test decorator: _random_mutation_operator: num_test=0 Expected n_neighbors <= n_samples,  but n_samples = 50, n_neighbors = 83\n"
     ]
    },
    {
     "name": "stderr",
     "output_type": "stream",
     "text": [
      "                                                                                                                       \r"
     ]
    },
    {
     "name": "stdout",
     "output_type": "stream",
     "text": [
      "Pipeline encountered that has previously been evaluated during the optimization process. Using the score from the previous evaluation.\n"
     ]
    },
    {
     "name": "stderr",
     "output_type": "stream",
     "text": [
      "                                                                                                                       \r"
     ]
    },
    {
     "name": "stdout",
     "output_type": "stream",
     "text": [
      "_pre_test decorator: _random_mutation_operator: num_test=0 Input X must be non-negative\n"
     ]
    },
    {
     "name": "stderr",
     "output_type": "stream",
     "text": [
      "                                                                                                                       \r"
     ]
    },
    {
     "name": "stdout",
     "output_type": "stream",
     "text": [
      "Pipeline encountered that has previously been evaluated during the optimization process. Using the score from the previous evaluation.\n"
     ]
    },
    {
     "name": "stderr",
     "output_type": "stream",
     "text": [
      "                                                                                                                       \r"
     ]
    },
    {
     "name": "stdout",
     "output_type": "stream",
     "text": [
      "_pre_test decorator: _random_mutation_operator: num_test=0 Input X must be non-negative\n"
     ]
    },
    {
     "name": "stderr",
     "output_type": "stream",
     "text": [
      "                                                                                                                       \r"
     ]
    },
    {
     "name": "stdout",
     "output_type": "stream",
     "text": [
      "_pre_test decorator: _random_mutation_operator: num_test=1 Unsupported set of arguments: The combination of penalty='l2' and loss='hinge' are not supported when dual=False, Parameters: penalty='l2', loss='hinge', dual=False\n"
     ]
    },
    {
     "name": "stderr",
     "output_type": "stream",
     "text": [
      "                                                                                                                       \r"
     ]
    },
    {
     "name": "stdout",
     "output_type": "stream",
     "text": [
      "_pre_test decorator: _random_mutation_operator: num_test=0 Expected n_neighbors <= n_samples,  but n_samples = 50, n_neighbors = 81\n"
     ]
    },
    {
     "name": "stderr",
     "output_type": "stream",
     "text": [
      "                                                                                                                       \r"
     ]
    },
    {
     "name": "stdout",
     "output_type": "stream",
     "text": [
      "_pre_test decorator: _random_mutation_operator: num_test=0 Input X must be non-negative\n"
     ]
    },
    {
     "name": "stderr",
     "output_type": "stream",
     "text": [
      "                                                                                                                       \r"
     ]
    },
    {
     "name": "stdout",
     "output_type": "stream",
     "text": [
      "_pre_test decorator: _random_mutation_operator: num_test=0 Input X must be non-negative\n"
     ]
    },
    {
     "name": "stderr",
     "output_type": "stream",
     "text": [
      "                                                                                                                       \r"
     ]
    },
    {
     "name": "stdout",
     "output_type": "stream",
     "text": [
      "Pipeline encountered that has previously been evaluated during the optimization process. Using the score from the previous evaluation.\n"
     ]
    },
    {
     "name": "stderr",
     "output_type": "stream",
     "text": [
      "                                                                                                                       \r"
     ]
    },
    {
     "name": "stdout",
     "output_type": "stream",
     "text": [
      "_pre_test decorator: _random_mutation_operator: num_test=0 Unsupported set of arguments: The combination of penalty='l1' and loss='squared_hinge' are not supported when dual=True, Parameters: penalty='l1', loss='squared_hinge', dual=True\n"
     ]
    },
    {
     "name": "stderr",
     "output_type": "stream",
     "text": [
      "                                                                                                                       \r"
     ]
    },
    {
     "name": "stdout",
     "output_type": "stream",
     "text": [
      "_pre_test decorator: _random_mutation_operator: num_test=0 Input X must be non-negative\n"
     ]
    },
    {
     "name": "stderr",
     "output_type": "stream",
     "text": [
      "                                                                                                                       \r"
     ]
    },
    {
     "name": "stdout",
     "output_type": "stream",
     "text": [
      "_pre_test decorator: _random_mutation_operator: num_test=0 Input X must be non-negative\n"
     ]
    },
    {
     "name": "stderr",
     "output_type": "stream",
     "text": [
      "                                                                                                                       \r"
     ]
    },
    {
     "name": "stdout",
     "output_type": "stream",
     "text": [
      "_pre_test decorator: _random_mutation_operator: num_test=0 Unsupported set of arguments: The combination of penalty='l1' and loss='squared_hinge' are not supported when dual=True, Parameters: penalty='l1', loss='squared_hinge', dual=True\n"
     ]
    },
    {
     "name": "stderr",
     "output_type": "stream",
     "text": [
      "                                                                                                                       \r"
     ]
    },
    {
     "name": "stdout",
     "output_type": "stream",
     "text": [
      "_pre_test decorator: _random_mutation_operator: num_test=0 Unsupported set of arguments: The combination of penalty='l1' and loss='hinge' is not supported, Parameters: penalty='l1', loss='hinge', dual=False\n"
     ]
    },
    {
     "name": "stderr",
     "output_type": "stream",
     "text": [
      "                                                                                                                       \r"
     ]
    },
    {
     "data": {
      "text/plain": [
       "TPOTClassifier(config_dict={'sklearn.naive_bayes.GaussianNB': {}, 'sklearn.naive_bayes.BernoulliNB': {'alpha': [0.001, 0.01, 0.1, 1.0, 10.0, 100.0], 'fit_prior': [True, False]}, 'sklearn.naive_bayes.MultinomialNB': {'alpha': [0.001, 0.01, 0.1, 1.0, 10.0, 100.0], 'fit_prior': [True, False]}, 'sklearn.tree.DecisionT....3 , 0.35, 0.4 , 0.45, 0.5 , 0.55,\n",
       "       0.6 , 0.65, 0.7 , 0.75, 0.8 , 0.85, 0.9 , 0.95, 1.  ])}}}},\n",
       "        crossover_rate=0.1, cv=5, disable_update_check=False,\n",
       "        early_stop=None, generations=20, max_eval_time_mins=5,\n",
       "        max_time_mins=None, memory=None, mutation_rate=0.9, n_jobs=10,\n",
       "        offspring_size=5, periodic_checkpoint_folder=None,\n",
       "        population_size=5, random_state=None, scoring=None, subsample=1.0,\n",
       "        verbosity=21, warm_start=False)"
      ]
     },
     "execution_count": 31,
     "metadata": {},
     "output_type": "execute_result"
    }
   ],
   "source": [
    "pot = tpot.TPOTClassifier(generations=20, population_size=5, verbosity=2, n_jobs=10)\n",
    "pot.fit(X, y)"
   ]
  },
  {
   "cell_type": "code",
   "execution_count": 32,
   "metadata": {
    "collapsed": true
   },
   "outputs": [
    {
     "data": {
      "text/plain": [
       "True"
      ]
     },
     "execution_count": 32,
     "metadata": {},
     "output_type": "execute_result"
    }
   ],
   "source": [
    "pot.export(\"best_tpot.py\")"
   ]
  },
  {
   "cell_type": "code",
   "execution_count": 33,
   "metadata": {
    "scrolled": false
   },
   "outputs": [
    {
     "name": "stdout",
     "output_type": "stream",
     "text": [
      "import numpy as np\n",
      "import pandas as pd\n",
      "from sklearn.model_selection import train_test_split\n",
      "from sklearn.naive_bayes import BernoulliNB\n",
      "\n",
      "# NOTE: Make sure that the class is labeled 'target' in the data file\n",
      "tpot_data = pd.read_csv('PATH/TO/DATA/FILE', sep='COLUMN_SEPARATOR', dtype=np.float64)\n",
      "features = tpot_data.drop('target', axis=1).values\n",
      "training_features, testing_features, training_target, testing_target = \\\n",
      "            train_test_split(features, tpot_data['target'].values, random_state=42)\n",
      "\n",
      "# Score on the training set was:0.9285714285714286\n",
      "exported_pipeline = BernoulliNB(alpha=10.0, fit_prior=False)\n",
      "\n",
      "exported_pipeline.fit(training_features, training_target)\n",
      "results = exported_pipeline.predict(testing_features)\n"
     ]
    }
   ],
   "source": [
    "!type \"best_tpot.py\""
   ]
  },
  {
   "cell_type": "markdown",
   "metadata": {},
   "source": [
    "**Naive bayes wins evolution at 86.1% cross validation accuracy**."
   ]
  },
  {
   "cell_type": "code",
   "execution_count": 202,
   "metadata": {},
   "outputs": [
    {
     "data": {
      "text/plain": [
       "0.8613095238095237"
      ]
     },
     "execution_count": 202,
     "metadata": {},
     "output_type": "execute_result"
    }
   ],
   "source": [
    "model_selection.cross_val_score(naive_bayes.BernoulliNB(alpha=10.0, fit_prior=False), X, y, cv=10).mean()"
   ]
  },
  {
   "cell_type": "markdown",
   "metadata": {
    "collapsed": true
   },
   "source": [
    "# Autoencoder"
   ]
  },
  {
   "cell_type": "markdown",
   "metadata": {},
   "source": [
    "An alternative way to do non-linear dimensionality reduction."
   ]
  },
  {
   "cell_type": "code",
   "execution_count": 203,
   "metadata": {},
   "outputs": [
    {
     "name": "stderr",
     "output_type": "stream",
     "text": [
      "C:\\dev\\Anaconda3\\lib\\site-packages\\h5py\\__init__.py:34: FutureWarning: Conversion of the second argument of issubdtype from `float` to `np.floating` is deprecated. In future, it will be treated as `np.float64 == np.dtype(float).type`.\n",
      "  from ._conv import register_converters as _register_converters\n"
     ]
    }
   ],
   "source": [
    "import tensorflow as tf"
   ]
  },
  {
   "cell_type": "code",
   "execution_count": 205,
   "metadata": {},
   "outputs": [
    {
     "name": "stdout",
     "output_type": "stream",
     "text": [
      "WARNING:tensorflow:From C:\\dev\\Anaconda3\\lib\\site-packages\\tensorflow\\contrib\\learn\\python\\learn\\datasets\\base.py:198: retry (from tensorflow.contrib.learn.python.learn.datasets.base) is deprecated and will be removed in a future version.\n",
      "Instructions for updating:\n",
      "Use the retry module or similar alternatives.\n",
      "No session defined, continuing.\n"
     ]
    }
   ],
   "source": [
    "z_dim = 20\n",
    "\n",
    "input_shape = X_orig_train.shape[1]\n",
    "tf.reset_default_graph()\n",
    "\n",
    "img = tf.placeholder(tf.float32, shape=[None, input_shape], name=\"img\")\n",
    "\n",
    "def encoder(img):\n",
    "    with tf.variable_scope(\"encoder\"):\n",
    "        hidden = tf.layers.dense(img, 500, activation=tf.nn.relu)\n",
    "        hidden = tf.layers.dense(hidden, 500, activation=tf.nn.relu)\n",
    "    \n",
    "    return hidden\n",
    "\n",
    "def decoder(z):\n",
    "    with tf.variable_scope(\"decoder\"):\n",
    "        hidden = tf.layers.dense(z, 500, activation=tf.nn.relu)\n",
    "        hidden = tf.layers.dense(hidden, 500, activation=tf.nn.relu)\n",
    "        \n",
    "    out = tf.layers.dense(hidden, input_shape, name=\"output\")    \n",
    "    return out\n",
    "\n",
    "z = encoder(img)\n",
    "out = decoder(z)\n",
    "\n",
    "loss = tf.losses.mean_squared_error(img, out)\n",
    "\n",
    "global_step = tf.train.create_global_step()\n",
    "training = tf.train.AdamOptimizer().minimize(loss, global_step=global_step, name=\"training\")\n",
    "\n",
    "summary_writer = tf.contrib.summary.create_file_writer(\"logs\", flush_millis=5*1000)\n",
    "\n",
    "with summary_writer.as_default(), tf.contrib.summary.record_summaries_every_n_global_steps(100):\n",
    "    summaries = [\n",
    "        tf.contrib.summary.scalar(\"loss\", loss)\n",
    "    ]\n",
    "    \n",
    "try:\n",
    "    sess.close()\n",
    "except NameError:\n",
    "    print(\"No session defined, continuing.\")\n",
    "\n",
    "sess = tf.InteractiveSession()\n",
    "\n",
    "with summary_writer.as_default():\n",
    "    tf.contrib.summary.initialize(session=sess, graph=tf.get_default_graph())\n",
    "\n",
    "init = tf.global_variables_initializer()\n",
    "sess.run(init)"
   ]
  },
  {
   "cell_type": "markdown",
   "metadata": {},
   "source": [
    "We train the autoencoder for 1000 epochs (checked externally that this is enough)."
   ]
  },
  {
   "cell_type": "code",
   "execution_count": 206,
   "metadata": {
    "collapsed": true
   },
   "outputs": [],
   "source": [
    "for _ in range(1000):\n",
    "    sess.run([training, summaries], feed_dict={img: X_orig_train})"
   ]
  },
  {
   "cell_type": "markdown",
   "metadata": {},
   "source": [
    "And create embeddings of the original training set."
   ]
  },
  {
   "cell_type": "code",
   "execution_count": 226,
   "metadata": {
    "collapsed": true
   },
   "outputs": [],
   "source": [
    "X_embed = sess.run(z, feed_dict={img: X_orig})\n",
    "X_train_embed = sess.run(z, feed_dict={img: X_orig_train})\n",
    "X_test_embed = sess.run(z, feed_dict={img: X_orig_test})"
   ]
  },
  {
   "cell_type": "markdown",
   "metadata": {},
   "source": [
    "And score them first on the test set, which seems to give good accuracy."
   ]
  },
  {
   "cell_type": "code",
   "execution_count": 224,
   "metadata": {},
   "outputs": [],
   "source": [
    "def score_emb(clf):    \n",
    "    return clf.fit(X_train_embed, y_orig_train).score(X_test_embed, y_orig_test)"
   ]
  },
  {
   "cell_type": "markdown",
   "metadata": {},
   "source": [
    "Specifically, SVM with a polynomial kernel gets **94.4% accuracy**."
   ]
  },
  {
   "cell_type": "code",
   "execution_count": 225,
   "metadata": {
    "scrolled": true
   },
   "outputs": [
    {
     "data": {
      "text/plain": [
       "0.9444444444444444"
      ]
     },
     "execution_count": 225,
     "metadata": {},
     "output_type": "execute_result"
    }
   ],
   "source": [
    "score_emb(svm.SVC(kernel=\"poly\", degree=2))"
   ]
  },
  {
   "cell_type": "markdown",
   "metadata": {},
   "source": [
    "But this is yet again a lie, because our test set is small. Using 10-fold cross validation reveals only **65% accuracy**."
   ]
  },
  {
   "cell_type": "code",
   "execution_count": 230,
   "metadata": {
    "scrolled": true
   },
   "outputs": [
    {
     "data": {
      "text/plain": [
       "0.6553571428571429"
      ]
     },
     "execution_count": 230,
     "metadata": {},
     "output_type": "execute_result"
    }
   ],
   "source": [
    "model_selection.cross_val_score(svm.SVC(), X_embed, y, cv=10).mean()"
   ]
  },
  {
   "cell_type": "markdown",
   "metadata": {
    "collapsed": true
   },
   "source": [
    "# Clustering"
   ]
  },
  {
   "cell_type": "code",
   "execution_count": 266,
   "metadata": {},
   "outputs": [],
   "source": [
    "pipe = pipeline.make_pipeline(\n",
    "    preprocessing.RobustScaler(quantile_range=[1,99]),\n",
    "    preprocessing.StandardScaler(),\n",
    "    preprocessing.FunctionTransformer(threshold)\n",
    ")\n",
    "\n",
    "\n",
    "X_p = pipe.fit_transform(X_orig)\n",
    "\n",
    "assignments = np.argmax(cluster.KMeans(5).fit_transform(X_p.T), axis=1)"
   ]
  },
  {
   "cell_type": "code",
   "execution_count": 267,
   "metadata": {},
   "outputs": [],
   "source": [
    "X_vis = decomposition.PCA(2).fit_transform(X_p.T)"
   ]
  },
  {
   "cell_type": "code",
   "execution_count": 268,
   "metadata": {},
   "outputs": [
    {
     "data": {
      "text/plain": [
       "<matplotlib.collections.PathCollection at 0x1bd439f9630>"
      ]
     },
     "execution_count": 268,
     "metadata": {},
     "output_type": "execute_result"
    },
    {
     "data": {
      "image/png": "[encoded data removed]",
      "text/plain": [
       "<matplotlib.figure.Figure at 0x1bd4d4657b8>"
      ]
     },
     "metadata": {},
     "output_type": "display_data"
    }
   ],
   "source": [
    "plt.scatter(X_vis[:,0], X_vis[:,1], c=assignments)"
   ]
  },
  {
   "cell_type": "code",
   "execution_count": 269,
   "metadata": {},
   "outputs": [
    {
     "ename": "KeyboardInterrupt",
     "evalue": "",
     "output_type": "error",
     "traceback": [
      "\u001b[1;31m---------------------------------------------------------------------------\u001b[0m",
      "\u001b[1;31mKeyboardInterrupt\u001b[0m                         Traceback (most recent call last)",
      "\u001b[1;32m<ipython-input-269-ec55bdc822de>\u001b[0m in \u001b[0;36m<module>\u001b[1;34m()\u001b[0m\n\u001b[1;32m----> 1\u001b[1;33m \u001b[0mX_vis_tsne\u001b[0m \u001b[1;33m=\u001b[0m \u001b[0mmanifold\u001b[0m\u001b[1;33m.\u001b[0m\u001b[0mTSNE\u001b[0m\u001b[1;33m(\u001b[0m\u001b[1;33m)\u001b[0m\u001b[1;33m.\u001b[0m\u001b[0mfit_transform\u001b[0m\u001b[1;33m(\u001b[0m\u001b[0mX_p\u001b[0m\u001b[1;33m.\u001b[0m\u001b[0mT\u001b[0m\u001b[1;33m)\u001b[0m\u001b[1;33m\u001b[0m\u001b[0m\n\u001b[0m",
      "\u001b[1;32mC:\\dev\\Anaconda3\\lib\\site-packages\\sklearn\\manifold\\t_sne.py\u001b[0m in \u001b[0;36mfit_transform\u001b[1;34m(self, X, y)\u001b[0m\n\u001b[0;32m    856\u001b[0m             \u001b[0mEmbedding\u001b[0m \u001b[0mof\u001b[0m \u001b[0mthe\u001b[0m \u001b[0mtraining\u001b[0m \u001b[0mdata\u001b[0m \u001b[1;32min\u001b[0m \u001b[0mlow\u001b[0m\u001b[1;33m-\u001b[0m\u001b[0mdimensional\u001b[0m \u001b[0mspace\u001b[0m\u001b[1;33m.\u001b[0m\u001b[1;33m\u001b[0m\u001b[0m\n\u001b[0;32m    857\u001b[0m         \"\"\"\n\u001b[1;32m--> 858\u001b[1;33m         \u001b[0membedding\u001b[0m \u001b[1;33m=\u001b[0m \u001b[0mself\u001b[0m\u001b[1;33m.\u001b[0m\u001b[0m_fit\u001b[0m\u001b[1;33m(\u001b[0m\u001b[0mX\u001b[0m\u001b[1;33m)\u001b[0m\u001b[1;33m\u001b[0m\u001b[0m\n\u001b[0m\u001b[0;32m    859\u001b[0m         \u001b[0mself\u001b[0m\u001b[1;33m.\u001b[0m\u001b[0membedding_\u001b[0m \u001b[1;33m=\u001b[0m \u001b[0membedding\u001b[0m\u001b[1;33m\u001b[0m\u001b[0m\n\u001b[0;32m    860\u001b[0m         \u001b[1;32mreturn\u001b[0m \u001b[0mself\u001b[0m\u001b[1;33m.\u001b[0m\u001b[0membedding_\u001b[0m\u001b[1;33m\u001b[0m\u001b[0m\n",
      "\u001b[1;32mC:\\dev\\Anaconda3\\lib\\site-packages\\sklearn\\manifold\\t_sne.py\u001b[0m in \u001b[0;36m_fit\u001b[1;34m(self, X, skip_num_points)\u001b[0m\n\u001b[0;32m    768\u001b[0m                           \u001b[0mX_embedded\u001b[0m\u001b[1;33m=\u001b[0m\u001b[0mX_embedded\u001b[0m\u001b[1;33m,\u001b[0m\u001b[1;33m\u001b[0m\u001b[0m\n\u001b[0;32m    769\u001b[0m                           \u001b[0mneighbors\u001b[0m\u001b[1;33m=\u001b[0m\u001b[0mneighbors_nn\u001b[0m\u001b[1;33m,\u001b[0m\u001b[1;33m\u001b[0m\u001b[0m\n\u001b[1;32m--> 770\u001b[1;33m                           skip_num_points=skip_num_points)\n\u001b[0m\u001b[0;32m    771\u001b[0m \u001b[1;33m\u001b[0m\u001b[0m\n\u001b[0;32m    772\u001b[0m     \u001b[1;33m@\u001b[0m\u001b[0mproperty\u001b[0m\u001b[1;33m\u001b[0m\u001b[0m\n",
      "\u001b[1;32mC:\\dev\\Anaconda3\\lib\\site-packages\\sklearn\\manifold\\t_sne.py\u001b[0m in \u001b[0;36m_tsne\u001b[1;34m(self, P, degrees_of_freedom, n_samples, X_embedded, neighbors, skip_num_points)\u001b[0m\n\u001b[0;32m    810\u001b[0m         \u001b[0mP\u001b[0m \u001b[1;33m*=\u001b[0m \u001b[0mself\u001b[0m\u001b[1;33m.\u001b[0m\u001b[0mearly_exaggeration\u001b[0m\u001b[1;33m\u001b[0m\u001b[0m\n\u001b[0;32m    811\u001b[0m         params, kl_divergence, it = _gradient_descent(obj_func, params,\n\u001b[1;32m--> 812\u001b[1;33m                                                       **opt_args)\n\u001b[0m\u001b[0;32m    813\u001b[0m         \u001b[1;32mif\u001b[0m \u001b[0mself\u001b[0m\u001b[1;33m.\u001b[0m\u001b[0mverbose\u001b[0m\u001b[1;33m:\u001b[0m\u001b[1;33m\u001b[0m\u001b[0m\n\u001b[0;32m    814\u001b[0m             print(\"[t-SNE] KL divergence after %d iterations with early \"\n",
      "\u001b[1;32mC:\\dev\\Anaconda3\\lib\\site-packages\\sklearn\\manifold\\t_sne.py\u001b[0m in \u001b[0;36m_gradient_descent\u001b[1;34m(objective, p0, it, n_iter, n_iter_check, n_iter_without_progress, momentum, learning_rate, min_gain, min_grad_norm, verbose, args, kwargs)\u001b[0m\n\u001b[0;32m    337\u001b[0m     \u001b[0mtic\u001b[0m \u001b[1;33m=\u001b[0m \u001b[0mtime\u001b[0m\u001b[1;33m(\u001b[0m\u001b[1;33m)\u001b[0m\u001b[1;33m\u001b[0m\u001b[0m\n\u001b[0;32m    338\u001b[0m     \u001b[1;32mfor\u001b[0m \u001b[0mi\u001b[0m \u001b[1;32min\u001b[0m \u001b[0mrange\u001b[0m\u001b[1;33m(\u001b[0m\u001b[0mit\u001b[0m\u001b[1;33m,\u001b[0m \u001b[0mn_iter\u001b[0m\u001b[1;33m)\u001b[0m\u001b[1;33m:\u001b[0m\u001b[1;33m\u001b[0m\u001b[0m\n\u001b[1;32m--> 339\u001b[1;33m         \u001b[0merror\u001b[0m\u001b[1;33m,\u001b[0m \u001b[0mgrad\u001b[0m \u001b[1;33m=\u001b[0m \u001b[0mobjective\u001b[0m\u001b[1;33m(\u001b[0m\u001b[0mp\u001b[0m\u001b[1;33m,\u001b[0m \u001b[1;33m*\u001b[0m\u001b[0margs\u001b[0m\u001b[1;33m,\u001b[0m \u001b[1;33m**\u001b[0m\u001b[0mkwargs\u001b[0m\u001b[1;33m)\u001b[0m\u001b[1;33m\u001b[0m\u001b[0m\n\u001b[0m\u001b[0;32m    340\u001b[0m         \u001b[0mgrad_norm\u001b[0m \u001b[1;33m=\u001b[0m \u001b[0mlinalg\u001b[0m\u001b[1;33m.\u001b[0m\u001b[0mnorm\u001b[0m\u001b[1;33m(\u001b[0m\u001b[0mgrad\u001b[0m\u001b[1;33m)\u001b[0m\u001b[1;33m\u001b[0m\u001b[0m\n\u001b[0;32m    341\u001b[0m \u001b[1;33m\u001b[0m\u001b[0m\n",
      "\u001b[1;32mC:\\dev\\Anaconda3\\lib\\site-packages\\sklearn\\manifold\\t_sne.py\u001b[0m in \u001b[0;36m_kl_divergence_bh\u001b[1;34m(params, P, degrees_of_freedom, n_samples, n_components, angle, skip_num_points, verbose)\u001b[0m\n\u001b[0;32m    246\u001b[0m                                       \u001b[0mgrad\u001b[0m\u001b[1;33m,\u001b[0m \u001b[0mangle\u001b[0m\u001b[1;33m,\u001b[0m \u001b[0mn_components\u001b[0m\u001b[1;33m,\u001b[0m \u001b[0mverbose\u001b[0m\u001b[1;33m,\u001b[0m\u001b[1;33m\u001b[0m\u001b[0m\n\u001b[0;32m    247\u001b[0m                                       dof=degrees_of_freedom)\n\u001b[1;32m--> 248\u001b[1;33m     \u001b[0mc\u001b[0m \u001b[1;33m=\u001b[0m \u001b[1;36m2.0\u001b[0m \u001b[1;33m*\u001b[0m \u001b[1;33m(\u001b[0m\u001b[0mdegrees_of_freedom\u001b[0m \u001b[1;33m+\u001b[0m \u001b[1;36m1.0\u001b[0m\u001b[1;33m)\u001b[0m \u001b[1;33m/\u001b[0m \u001b[0mdegrees_of_freedom\u001b[0m\u001b[1;33m\u001b[0m\u001b[0m\n\u001b[0m\u001b[0;32m    249\u001b[0m     \u001b[0mgrad\u001b[0m \u001b[1;33m=\u001b[0m \u001b[0mgrad\u001b[0m\u001b[1;33m.\u001b[0m\u001b[0mravel\u001b[0m\u001b[1;33m(\u001b[0m\u001b[1;33m)\u001b[0m\u001b[1;33m\u001b[0m\u001b[0m\n\u001b[0;32m    250\u001b[0m     \u001b[0mgrad\u001b[0m \u001b[1;33m*=\u001b[0m \u001b[0mc\u001b[0m\u001b[1;33m\u001b[0m\u001b[0m\n",
      "\u001b[1;31mKeyboardInterrupt\u001b[0m: "
     ]
    }
   ],
   "source": [
    "X_vis_tsne = manifold.TSNE(verbose=3).fit_transform(X_p.T)"
   ]
  },
  {
   "cell_type": "code",
   "execution_count": null,
   "metadata": {
    "collapsed": true
   },
   "outputs": [],
   "source": []
  },
  {
   "cell_type": "code",
   "execution_count": 232,
   "metadata": {
    "collapsed": true
   },
   "outputs": [],
   "source": [
    "from IPython.display import clear_output, Image, display, HTML\n",
    "\n",
    "def strip_consts(graph_def, max_const_size=32):\n",
    "    \"\"\"Strip large constant values from graph_def.\"\"\"\n",
    "    strip_def = tf.GraphDef()\n",
    "    for n0 in graph_def.node:\n",
    "        n = strip_def.node.add() \n",
    "        n.MergeFrom(n0)\n",
    "        if n.op == 'Const':\n",
    "            tensor = n.attr['value'].tensor\n",
    "            size = len(tensor.tensor_content)\n",
    "            if size > max_const_size:\n",
    "                tensor.tensor_content = \"<stripped %d bytes>\"%size\n",
    "    return strip_def\n",
    "\n",
    "def show_graph(graph_def, max_const_size=32):\n",
    "    \"\"\"Visualize TensorFlow graph.\"\"\"\n",
    "    if hasattr(graph_def, 'as_graph_def'):\n",
    "        graph_def = graph_def.as_graph_def()\n",
    "    strip_def = strip_consts(graph_def, max_const_size=max_const_size)\n",
    "    code = \"\"\"\n",
    "        <script src=\"//cdnjs.cloudflare.com/ajax/libs/polymer/0.3.3/platform.js\"></script>\n",
    "        <script>\n",
    "          function load() {{\n",
    "            document.getElementById(\"{id}\").pbtxt = {data};\n",
    "          }}\n",
    "        </script>\n",
    "        <link rel=\"import\" href=\"https://tensorboard.appspot.com/tf-graph-basic.build.html\" onload=load()>\n",
    "        <div style=\"height:600px\">\n",
    "          <tf-graph-basic id=\"{id}\"></tf-graph-basic>\n",
    "        </div>\n",
    "    \"\"\".format(data=repr(str(strip_def)), id='graph'+str(np.random.rand()))\n",
    "\n",
    "    iframe = \"\"\"\n",
    "        <iframe seamless style=\"width:1200px;height:620px;border:0\" srcdoc=\"{}\"></iframe>\n",
    "    \"\"\".format(code.replace('\"', '&quot;'))\n",
    "    display(HTML(iframe))"
   ]
  },
  {
   "cell_type": "code",
   "execution_count": 54,
   "metadata": {
    "collapsed": true
   },
   "outputs": [],
   "source": []
  },
  {
   "cell_type": "code",
   "execution_count": null,
   "metadata": {
    "collapsed": true
   },
   "outputs": [],
   "source": []
  },
  {
   "cell_type": "code",
   "execution_count": null,
   "metadata": {
    "collapsed": true
   },
   "outputs": [],
   "source": []
  },
  {
   "cell_type": "markdown",
   "metadata": {
    "collapsed": true
   },
   "source": [
    "# References\n",
    "\n",
    "1. Golub, Todd R., et al. \"Molecular classification of cancer: class discovery and class prediction by gene expression monitoring.\" science 286.5439 (1999): 531-537.\n",
    "2. Duan, Kai-Bo, et al. \"Multiple SVM-RFE for gene selection in cancer classification with expression data.\" IEEE transactions on nanobioscience 4.3 (2005): 228-234.\n",
    "3. Pirooznia, Mehdi, et al. \"A comparative study of different machine learning methods on microarray gene expression data.\" BMC genomics 9.1 (2008): S13.\n",
    "4. Guyon, Isabelle, et al. \"Gene selection for cancer classification using support vector machines.\" Machine learning 46.1-3 (2002): 389-422."
   ]
  },
  {
   "cell_type": "code",
   "execution_count": null,
   "metadata": {
    "collapsed": true
   },
   "outputs": [],
   "source": []
  }
 ],
 "metadata": {
  "kernelspec": {
   "display_name": "Python 3",
   "language": "python",
   "name": "python3"
  },
  "varInspector": {
   "cols": {
    "lenName": 16,
    "lenType": 16,
    "lenVar": 40
   },
   "kernels_config": {
    "python": {
     "delete_cmd_postfix": "",
     "delete_cmd_prefix": "del ",
     "library": "var_list.py",
     "varRefreshCmd": "print(var_dic_list())"
    },
    "r": {
     "delete_cmd_postfix": ") ",
     "delete_cmd_prefix": "rm(",
     "library": "var_list.r",
     "varRefreshCmd": "cat(var_dic_list()) "
    }
   },
   "types_to_exclude": [
    "module",
    "function",
    "builtin_function_or_method",
    "instance",
    "_Feature"
   ],
   "window_display": false
  }
 },
 "nbformat": 4,
 "nbformat_minor": 2
}
