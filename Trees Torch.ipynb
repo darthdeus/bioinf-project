{
 "cells": [
  {
   "cell_type": "code",
   "execution_count": 7,
   "metadata": {},
   "outputs": [],
   "source": [
    "import torch\n",
    "import torch.nn as nn\n",
    "import torch.optim as optim\n",
    "import torch.autograd as autograd\n",
    "import torchvision\n",
    "\n",
    "import numpy as np\n",
    "import matplotlib.pyplot as plt\n",
    "import pandas as pd\n",
    "\n",
    "import imageio\n",
    "from glob import glob\n",
    "\n",
    "%matplotlib inline"
   ]
  },
  {
   "cell_type": "code",
   "execution_count": 4,
   "metadata": {},
   "outputs": [],
   "source": [
    "class Flatten(nn.Module):\n",
    "    def forward(self, x):\n",
    "        return x.view(x.size(0), -1)\n",
    "    \n",
    "class Reshape(nn.Module):\n",
    "    def __init__(self, *dims):\n",
    "        super(Reshape, self).__init__()\n",
    "        self.dims = dims\n",
    "        \n",
    "    def forward(self, x):\n",
    "        return x.view(*self.dims)"
   ]
  },
  {
   "cell_type": "code",
   "execution_count": 23,
   "metadata": {},
   "outputs": [],
   "source": [
    "input_dim = 16*16*3\n",
    "\n",
    "encoder = nn.Sequential(\n",
    "    Flatten(),\n",
    "    nn.Linear(input_dim, 500),\n",
    "    nn.ReLU(),\n",
    "    \n",
    "    nn.Linear(500, 500),\n",
    "    nn.ReLU(),\n",
    "    \n",
    "    nn.Linear(500, 10),\n",
    "    nn.ReLU()\n",
    ")\n",
    "\n",
    "decoder = nn.Sequential(\n",
    "    nn.Linear(10, 500),\n",
    "    nn.ReLU(),\n",
    "    \n",
    "    nn.Linear(500, 500),\n",
    "    nn.ReLU(),\n",
    "    \n",
    "    nn.Linear(500, input_dim),\n",
    "    nn.Sigmoid(),\n",
    "    \n",
    "    Reshape(-1, 16, 16, 3)\n",
    ")\n",
    "\n",
    "autoencoder = nn.Sequential(encoder, decoder).cuda()"
   ]
  },
  {
   "cell_type": "code",
   "execution_count": 17,
   "metadata": {},
   "outputs": [],
   "source": [
    "X = np.stack([imageio.imread(img)[:,:,:3] for img in glob(\"downloads/*.png\")], axis=0)\n",
    "X = torch.from_numpy(X).float().cuda()"
   ]
  },
  {
   "cell_type": "code",
   "execution_count": 48,
   "metadata": {},
   "outputs": [],
   "source": [
    "criterion = nn.MSELoss()\n",
    "optimizer = optim.Adam(autoencoder.parameters(), lr=0.01)"
   ]
  },
  {
   "cell_type": "code",
   "execution_count": 49,
   "metadata": {},
   "outputs": [
    {
     "name": "stdout",
     "output_type": "stream",
     "text": [
      "43196.7578125\n",
      "43196.7578125\n",
      "43196.7578125\n",
      "43196.7578125\n",
      "43196.7578125\n",
      "43196.7578125\n",
      "43196.7578125\n",
      "43196.7578125\n",
      "43196.7578125\n",
      "43196.7578125\n"
     ]
    },
    {
     "data": {
      "text/plain": [
       "[<matplotlib.lines.Line2D at 0x7f5cb55a3940>]"
      ]
     },
     "execution_count": 49,
     "metadata": {},
     "output_type": "execute_result"
    },
    {
     "data": {
      "image/png": "[encoded data removed]",
      "text/plain": [
       "<Figure size 432x288 with 1 Axes>"
      ]
     },
     "metadata": {},
     "output_type": "display_data"
    }
   ],
   "source": [
    "losses = []\n",
    "\n",
    "for i in range(1000):\n",
    "    X_hat = autoencoder(X)\n",
    "\n",
    "    optimizer.zero_grad()\n",
    "    loss = criterion(X_hat, X)\n",
    "    loss.backward()\n",
    "    optimizer.step()\n",
    "    \n",
    "    losses.append(loss.item())\n",
    "    \n",
    "    if i % 100 == 0: print(loss.item())\n",
    "        \n",
    "plt.plot(losses)"
   ]
  },
  {
   "cell_type": "code",
   "execution_count": 43,
   "metadata": {},
   "outputs": [
    {
     "data": {
      "text/plain": [
       "43199.828125"
      ]
     },
     "execution_count": 43,
     "metadata": {},
     "output_type": "execute_result"
    }
   ],
   "source": [
    "loss.item()"
   ]
  },
  {
   "cell_type": "code",
   "execution_count": 50,
   "metadata": {},
   "outputs": [
    {
     "data": {
      "text/plain": [
       "array([[-2., -2., -2., -2., -2.],\n",
       "       [-2., -1.,  0.,  1.,  2.]])"
      ]
     },
     "execution_count": 50,
     "metadata": {},
     "output_type": "execute_result"
    }
   ],
   "source": [
    "np.stack([-2 * np.ones(5), np.linspace(-2, 2, 5)])"
   ]
  },
  {
   "cell_type": "code",
   "execution_count": 51,
   "metadata": {},
   "outputs": [],
   "source": [
    "X = np.stack([imageio.imread(img)[:, :, :3] for img in glob(\"downloads/*.png\")], axis=0)"
   ]
  },
  {
   "cell_type": "code",
   "execution_count": 54,
   "metadata": {},
   "outputs": [
    {
     "data": {
      "text/plain": [
       "0"
      ]
     },
     "execution_count": 54,
     "metadata": {},
     "output_type": "execute_result"
    }
   ],
   "source": [
    "X.min()"
   ]
  }
 ],
 "metadata": {
  "kernelspec": {
   "display_name": "Python 3",
   "language": "python",
   "name": "python3"
  },
  "language_info": {
   "codemirror_mode": {
    "name": "ipython",
    "version": 3
   },
   "file_extension": ".py",
   "mimetype": "text/x-python",
   "name": "python",
   "nbconvert_exporter": "python",
   "pygments_lexer": "ipython3",
   "version": "3.6.5"
  }
 },
 "nbformat": 4,
 "nbformat_minor": 2
}
